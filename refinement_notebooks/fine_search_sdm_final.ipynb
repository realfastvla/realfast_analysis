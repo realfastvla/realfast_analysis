{
 "cells": [
  {
   "cell_type": "code",
   "execution_count": null,
   "metadata": {},
   "outputs": [],
   "source": [
    "from rfpipe import pipeline\n",
    "# Updated for rfpipe version 1.3.1\n",
    "from rfpipe import candidates\n",
    "import rfpipe\n",
    "import numpy as np \n",
    "import pylab as plt\n",
    "import matplotlib\n",
    "import logging\n",
    "import glob\n",
    "logger = logging.getLogger('rfpipe')\n",
    "%matplotlib inline\n",
    "from refine_utils import cd_refine, max_timewindow"
   ]
  },
  {
   "cell_type": "code",
   "execution_count": null,
   "metadata": {},
   "outputs": [],
   "source": [
    "params = {\n",
    "        'axes.labelsize' : 14,\n",
    "        'font.size' : 9,\n",
    "        'legend.fontsize': 12,\n",
    "        'xtick.labelsize': 12,\n",
    "        'ytick.labelsize': 12,\n",
    "        'text.usetex': False,\n",
    "        'figure.figsize': [20, 15]\n",
    "        }\n",
    "matplotlib.rcParams.update(params)"
   ]
  },
  {
   "cell_type": "code",
   "execution_count": null,
   "metadata": {},
   "outputs": [],
   "source": [
    "import os\n",
    "os.environ['CUDA_VISIBLE_DEVICES'] = '0'"
   ]
  },
  {
   "cell_type": "markdown",
   "metadata": {},
   "source": [
    "# Set up data paths"
   ]
  },
  {
   "cell_type": "code",
   "execution_count": null,
   "metadata": {},
   "outputs": [],
   "source": [
    "datadir = '/lustre/aoc/projects/fasttransients/staging/'\n",
    "sdmname = 'realfast_19A-397.sb37006961.eb37092350.58715.036993946764_1566269152540'\n",
    "#'realfast_19A-397.sb37006961.eb37092350.58715.036993946764_1566270772899'\n",
    "workdir = '/lustre/aoc/observers/nm-10222/rfgpu/Refinement/'\n",
    "gainpath = '/home/mchammer/evladata/telcal/'"
   ]
  },
  {
   "cell_type": "code",
   "execution_count": null,
   "metadata": {
    "scrolled": true
   },
   "outputs": [],
   "source": [
    "datasetId = '{0}'.format('_'.join(sdmname.split('_')[1:-1]))\n",
    "# # set the paths to the gainfile\n",
    "gainname = datasetId + '.GN'\n",
    "logging.info('Searching for the gainfile {0} in {1}'.format(gainname, gainpath))\n",
    "for path, dirs, files in os.walk(gainpath):\n",
    "    for f in filter(lambda x: gainname in x, files):\n",
    "        gainfile = os.path.join(path, gainname)\n",
    "        break"
   ]
  },
  {
   "cell_type": "code",
   "execution_count": null,
   "metadata": {},
   "outputs": [],
   "source": [
    "gainfile = '/home/mchammer/evladata/telcal/2019/08/19A-397.sb37006961.eb37092350.58715.036993946764.GN'"
   ]
  },
  {
   "cell_type": "markdown",
   "metadata": {},
   "source": [
    "# Inputs "
   ]
  },
  {
   "cell_type": "code",
   "execution_count": null,
   "metadata": {},
   "outputs": [],
   "source": [
    "preffile = datadir+'realfast.yml' # Not being used currently\n",
    "search_sigma = 7\n",
    "classify = True\n",
    "sdmscan = 1\n",
    "dm_steps = 100\n",
    "dm_frac = 0.2"
   ]
  },
  {
   "cell_type": "code",
   "execution_count": null,
   "metadata": {},
   "outputs": [],
   "source": [
    "# prefs={'gainfile': gainfile, 'saveplots': False, 'savenoise': False, 'savesols': False,\n",
    "#        'savecandcollection': False, 'savecanddata': False,\n",
    "#        'applyonlineflags': True, 'fftmode': 'cuda', 'clustercands': False, 'maxdm':2000, 'dtarr':[1,2,4,8]}"
   ]
  },
  {
   "cell_type": "markdown",
   "metadata": {},
   "source": [
    "# Search on a larger timewindow "
   ]
  },
  {
   "cell_type": "code",
   "execution_count": null,
   "metadata": {},
   "outputs": [],
   "source": [
    "try:\n",
    "    st = rfpipe.state.State(sdmfile=os.path.join(datadir, sdmname), sdmscan=sdmscan, \n",
    "                            preffile = preffile, name='NRAOdefaultS')\n",
    "except AssertionError:\n",
    "    prefs['maxdm'] = 500\n",
    "    st = rfpipe.state.State(sdmfile=os.path.join(datadir, sdmname), sdmscan=sdmscan, \n",
    "                            preffile = preffile, name='NRAOdefaultS')\n",
    "\n",
    "st.prefs.sigma_image1 = search_sigma\n",
    "st.prefs.workdir = workdir\n",
    "st.prefs.gainfile = gainfile\n",
    "st.prefs.saveplots = False\n",
    "\n",
    "# Uncomment the following line to run search without RFI flagging. \n",
    "# st.prefs.flaglist = []\n",
    "\n",
    "tw = max_timewindow(st)\n",
    "if tw > st.prefs.timewindow:\n",
    "    try:\n",
    "        logging.info('Setting timewindow to {0}'.format(tw))\n",
    "        st.prefs.timewindow = tw\n",
    "    except AssertionError:\n",
    "        pass"
   ]
  },
  {
   "cell_type": "code",
   "execution_count": null,
   "metadata": {
    "scrolled": true
   },
   "outputs": [],
   "source": [
    "cc = rfpipe.pipeline.pipeline_scan(st)"
   ]
  },
  {
   "cell_type": "code",
   "execution_count": null,
   "metadata": {},
   "outputs": [],
   "source": [
    "try:\n",
    "    assert len(cc.locs) \n",
    "except AssertionError as err:\n",
    "    logging.exception(\"No candidates found in the search.\")\n",
    "    raise err"
   ]
  },
  {
   "cell_type": "code",
   "execution_count": null,
   "metadata": {},
   "outputs": [],
   "source": [
    "# Cluster and visualize Candidates\n",
    "cc.prefs.clustercands = True\n",
    "cc_clustered, clusterer = rfpipe.candidates.cluster_candidates(cc, returnclusterer=True)\n",
    "rfpipe.candidates.visualize_clustering(cc_clustered, clusterer)"
   ]
  },
  {
   "cell_type": "markdown",
   "metadata": {},
   "source": [
    "## Reproduce candidate and generate refinement plots"
   ]
  },
  {
   "cell_type": "code",
   "execution_count": null,
   "metadata": {},
   "outputs": [],
   "source": [
    "clusters = cc_clustered.array['cluster'].astype(int)\n",
    "cl_rank, cl_count = candidates.calc_cluster_rank(cc_clustered)\n",
    "calcinds = np.unique(np.where(cl_rank == 1)[0]).tolist()\n",
    "logging.info(\"Reproducing cands at {0} cluster peaks of SNR: {1}\".format(len(calcinds),\n",
    "                                                                         cc_clustered.snrtot[calcinds]))"
   ]
  },
  {
   "cell_type": "code",
   "execution_count": null,
   "metadata": {
    "scrolled": false
   },
   "outputs": [],
   "source": [
    "for ind in calcinds:\n",
    "    candloc = cc_clustered.locs[ind]\n",
    "    cd = rfpipe.reproduce.pipeline_canddata(st, candloc)\n",
    "    logging.info(f'Processing candidate at candloc {cd.loc}')\n",
    "    if cd.data.any():\n",
    "        if classify:\n",
    "            payload = candidates.cd_to_fetch(cd, classify=True, save_png=False, show=False, mode = 'GPU')\n",
    "            logging.info('FETCH FRB Probability of the candidate {0} is {1}'.format(cd.candid, payload))\n",
    "        logging.info('Generating Refinement plots')\n",
    "        cd_refine(cd)\n",
    "    else:\n",
    "        logging.warning('Canddata is empty. Skipping Candidate')    "
   ]
  },
  {
   "cell_type": "markdown",
   "metadata": {},
   "source": [
    "# Search with finer DM grid"
   ]
  },
  {
   "cell_type": "code",
   "execution_count": null,
   "metadata": {},
   "outputs": [],
   "source": [
    "# DM of the candidate to be refined. \n",
    "dm = 100"
   ]
  },
  {
   "cell_type": "code",
   "execution_count": null,
   "metadata": {},
   "outputs": [],
   "source": [
    "#set the \"refined\" preferences\n",
    "curr_prefs = st.prefs\n",
    "curr_prefs.dmarr = list(np.linspace(dm-dm_frac*dm, dm+dm_frac*dm, dm_steps))\n",
    "st = rfpipe.state.State(sdmfile=os.path.join(datadir, sdmname), sdmscan=sdmscan, inprefs=curr_prefs)\n",
    "cc = rfpipe.pipeline.pipeline_scan(st)"
   ]
  },
  {
   "cell_type": "code",
   "execution_count": null,
   "metadata": {},
   "outputs": [],
   "source": [
    "try:\n",
    "    assert len(cc.locs) \n",
    "except AssertionError as err:\n",
    "    logging.exception(\"No candidates found in the search.\")\n",
    "    raise err"
   ]
  },
  {
   "cell_type": "code",
   "execution_count": null,
   "metadata": {},
   "outputs": [],
   "source": [
    "# Visualise clustering\n",
    "cc.prefs.clustercands = True\n",
    "cc_clustered, clusterer = rfpipe.candidates.cluster_candidates(cc, returnclusterer=True)\n",
    "rfpipe.candidates.visualize_clustering(cc_clustered, clusterer)"
   ]
  },
  {
   "cell_type": "code",
   "execution_count": null,
   "metadata": {},
   "outputs": [],
   "source": [
    "clusters = cc_clustered.array['cluster'].astype(int)\n",
    "cl_rank, cl_count = candidates.calc_cluster_rank(cc_clustered)\n",
    "calcinds = np.unique(np.where(cl_rank == 1)[0]).tolist()\n",
    "logging.info(\"Reproducing cands at {0} cluster peaks of SNR: {1}\".format(len(calcinds),\n",
    "                                                                         cc_clustered.snrtot[calcinds]))"
   ]
  },
  {
   "cell_type": "markdown",
   "metadata": {},
   "source": [
    "# Reproduce and Generate refinement plots of fine-DM searched candidates"
   ]
  },
  {
   "cell_type": "code",
   "execution_count": null,
   "metadata": {
    "scrolled": false
   },
   "outputs": [],
   "source": [
    "for ind in calcinds:\n",
    "    candloc = cc_clustered.locs[ind]\n",
    "    cd = rfpipe.reproduce.pipeline_canddata(st, candloc)\n",
    "    logging.info(f'Processing candidate at candloc {cd.loc}')\n",
    "    if cd.data.any():\n",
    "        if classify:\n",
    "            payload = candidates.cd_to_fetch(cd, classify=True, save_png=False, show=False, mode = 'GPU')\n",
    "            logging.info('FETCH FRB Probability of the candidate {0} is {1}'.format(cd.candid, payload))\n",
    "        logging.info('Generating Refinement plots')\n",
    "        cd_refine(cd)\n",
    "    else:\n",
    "        logging.warning('Canddata is empty. Skipping Candidate')    "
   ]
  }
 ],
 "metadata": {
  "kernelspec": {
   "display_name": "Python 3",
   "language": "python",
   "name": "python3"
  },
  "language_info": {
   "codemirror_mode": {
    "name": "ipython",
    "version": 3
   },
   "file_extension": ".py",
   "mimetype": "text/x-python",
   "name": "python",
   "nbconvert_exporter": "python",
   "pygments_lexer": "ipython3",
   "version": "3.6.7"
  }
 },
 "nbformat": 4,
 "nbformat_minor": 2
}
