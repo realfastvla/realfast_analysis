{
 "cells": [
  {
   "cell_type": "code",
   "execution_count": null,
   "metadata": {},
   "outputs": [],
   "source": [
    "# Updated for rfpipe version 1.3.1\n",
    "from rfpipe import candidates\n",
    "import matplotlib\n",
    "import logging\n",
    "logger = logging.getLogger('rfpipe')\n",
    "%matplotlib inline\n",
    "import os\n",
    "os.environ['CUDA_VISIBLE_DEVICES'] = '0'\n",
    "from rfpipe.candidates import cd_to_fetch\n",
    "from refine_utils import cd_refine"
   ]
  },
  {
   "cell_type": "code",
   "execution_count": null,
   "metadata": {},
   "outputs": [],
   "source": [
    "params = {\n",
    "        'axes.labelsize' : 14,\n",
    "        'font.size' : 9,\n",
    "        'legend.fontsize': 12,\n",
    "        'xtick.labelsize': 12,\n",
    "        'ytick.labelsize': 12,\n",
    "        'text.usetex': False,\n",
    "        'figure.figsize': [12, 10]\n",
    "        }\n",
    "matplotlib.rcParams.update(params)"
   ]
  },
  {
   "cell_type": "markdown",
   "metadata": {},
   "source": [
    "## Set up paths "
   ]
  },
  {
   "cell_type": "code",
   "execution_count": null,
   "metadata": {},
   "outputs": [],
   "source": [
    "pkldir = '../'\n",
    "pklname = 'cands_16A-459_TEST_1hr_000.57633.66130137732.scan7.cut.7.1.pkl'\n",
    "classify = True\n",
    "refine = True"
   ]
  },
  {
   "cell_type": "markdown",
   "metadata": {},
   "source": [
    "# Generate refinement plots and classify"
   ]
  },
  {
   "cell_type": "code",
   "execution_count": null,
   "metadata": {
    "scrolled": true
   },
   "outputs": [],
   "source": [
    "if classify or refine:\n",
    "    logging.info('Refining and classifying pkl: {0}'.format(pklname))\n",
    "    ccs = list(candidates.iter_cands(pkldir+pklname, select='candcollection'))\n",
    "    for cc in ccs:\n",
    "        cds = cc.canddata\n",
    "        for cd in cds:\n",
    "            if classify:\n",
    "                payload = candidates.cd_to_fetch(cd, classify=True, save_png=True, show=True, mode = 'GPU')\n",
    "                logging.info('FETCH FRB Probability of the candidate {0} is {1}'.format(cd.candid, payload))\n",
    "            if refine:\n",
    "                logging.info('Generating Refinement plots')\n",
    "                cd_refine(cd)"
   ]
  }
 ],
 "metadata": {
  "kernelspec": {
   "display_name": "Python 3",
   "language": "python",
   "name": "python3"
  },
  "language_info": {
   "codemirror_mode": {
    "name": "ipython",
    "version": 3
   },
   "file_extension": ".py",
   "mimetype": "text/x-python",
   "name": "python",
   "nbconvert_exporter": "python",
   "pygments_lexer": "ipython3",
   "version": "3.6.6"
  }
 },
 "nbformat": 4,
 "nbformat_minor": 2
}
