{
 "cells": [
  {
   "cell_type": "code",
   "execution_count": null,
   "metadata": {},
   "outputs": [],
   "source": [
    "from rfpipe import pipeline\n",
    "# Updated for rfpipe version 1.3.1\n",
    "from rfpipe import candidates\n",
    "import rfpipe\n",
    "import numpy as np \n",
    "import pylab as plt\n",
    "import matplotlib\n",
    "import logging\n",
    "import glob\n",
    "logger = logging.getLogger('rfpipe')\n",
    "%matplotlib inline\n",
    "from refine_utils import cd_refine"
   ]
  },
  {
   "cell_type": "code",
   "execution_count": null,
   "metadata": {},
   "outputs": [],
   "source": [
    "params = {\n",
    "        'axes.labelsize' : 14,\n",
    "        'font.size' : 9,\n",
    "        'legend.fontsize': 12,\n",
    "        'xtick.labelsize': 12,\n",
    "        'ytick.labelsize': 12,\n",
    "        'text.usetex': False,\n",
    "        'figure.figsize': [12, 10]\n",
    "        }\n",
    "matplotlib.rcParams.update(params)\n",
    "\n",
    "import os\n",
    "os.environ['CUDA_VISIBLE_DEVICES'] = '1'"
   ]
  },
  {
   "cell_type": "markdown",
   "metadata": {},
   "source": [
    "# Set up data paths"
   ]
  },
  {
   "cell_type": "code",
   "execution_count": null,
   "metadata": {},
   "outputs": [],
   "source": [
    "datadir = '/lustre/aoc/projects/fasttransients/staging/'\n",
    "\n",
    "SDMmininame = 'realfast_18B-405_TEST_R3_A_cut.58665.73435530093_1562005608240'\n",
    "miniSDMlist = glob.glob(datadir+SDMmininame)\n",
    "workdir = '/lustre/aoc/observers/nm-10222/rfgpu/Refinement/nbs/'\n",
    "gainpath = '/home/mchammer/evladata/telcal/'"
   ]
  },
  {
   "cell_type": "code",
   "execution_count": null,
   "metadata": {},
   "outputs": [],
   "source": [
    "# datadir = '/lustre/aoc/projects/fasttransients/staging/'\n",
    "\n",
    "# SDMmininame = 'realfast_19A-397.sb37006961.eb37092350.58715.036993946764_1566274015550'\n",
    "# #'realfast_19A-397.sb37006961.eb37092350.58715.036993946764_1566270772899'\n",
    "# miniSDMlist = glob.glob(datadir+SDMmininame)\n",
    "# workdir = '/lustre/aoc/observers/nm-10222/rfgpu/Refinement/'\n",
    "# gainpath = '/home/mchammer/evladata/telcal/'"
   ]
  },
  {
   "cell_type": "code",
   "execution_count": null,
   "metadata": {},
   "outputs": [],
   "source": [
    "gainfile = []\n",
    "for sdm in miniSDMlist:\n",
    "    sdmname = sdm.split('/')[-1]\n",
    "    datasetId = '{0}'.format('_'.join(sdmname.split('_')[1:-1]))\n",
    "    # # set the paths to the gainfile\n",
    "    gainname = datasetId + '.GN'\n",
    "    logging.info('Searching for the gainfile {0} in {1}'.format(gainname, gainpath))\n",
    "    for path, dirs, files in os.walk(gainpath):\n",
    "        for f in filter(lambda x: gainname in x, files):\n",
    "            gainfile.append(os.path.join(path, gainname))\n",
    "            break"
   ]
  },
  {
   "cell_type": "code",
   "execution_count": null,
   "metadata": {},
   "outputs": [],
   "source": [
    "# gainfile = ['/home/mchammer/evladata/telcal/2019/08/19A-397.sb37006961.eb37092350.58715.036993946764.GN']"
   ]
  },
  {
   "cell_type": "code",
   "execution_count": null,
   "metadata": {},
   "outputs": [],
   "source": [
    "gainfile"
   ]
  },
  {
   "cell_type": "markdown",
   "metadata": {},
   "source": [
    "# Inputs"
   ]
  },
  {
   "cell_type": "code",
   "execution_count": null,
   "metadata": {},
   "outputs": [],
   "source": [
    "preffile = datadir+'realfast.yml' # Not being used currently\n",
    "search_sigma = 7\n",
    "refine = True\n",
    "classify = True\n",
    "\n",
    "# fine_dm_search = False\n",
    "\n",
    "# if fine_dm_search:\n",
    "#     dm = 1760\n",
    "#     dm_steps = 100\n",
    "#     dm_frac = 0.2"
   ]
  },
  {
   "cell_type": "code",
   "execution_count": null,
   "metadata": {},
   "outputs": [],
   "source": [
    "prefs={'saveplots': True, 'savenoise': False, 'savesols': False,\n",
    "       'savecandcollection': True, 'savecanddata': True,\n",
    "       'applyonlineflags': True, 'fftmode': 'cuda', 'clustercands': (4,3), 'maxdm':500}\n",
    "\n",
    "# if fine_dm_search:\n",
    "#     logging.info('Setting DM array around DM {0}, from {1} to {2} in {3} steps'.\n",
    "#                  format(dm, dm-dm_frac*dm, dm+dm_frac*dm, dm_steps))\n",
    "#     prefs['dmarr'] = list(np.linspace(dm-dm_frac*dm, dm+dm_frac*dm, dm_steps))"
   ]
  },
  {
   "cell_type": "markdown",
   "metadata": {},
   "source": [
    "# Searching all miniSDMs"
   ]
  },
  {
   "cell_type": "code",
   "execution_count": null,
   "metadata": {
    "scrolled": true
   },
   "outputs": [],
   "source": [
    "for index, sdm in enumerate(miniSDMlist):\n",
    "    st = rfpipe.state.State(sdmfile=os.path.join(datadir, sdm), sdmscan=1, inprefs = prefs)#preffile = preffile, name='NRAOdefaultS')\n",
    "    #inprefs = prefs)\n",
    "    st.prefs.workdir = workdir\n",
    "    st.prefs.gainfile = gainfile[index]\n",
    "    st.prefs.sigma_image1 = search_sigma\n",
    "    st.prefs.savecanddata = True\n",
    "    \n",
    "    cc = pipeline.pipeline_scan(st)"
   ]
  },
  {
   "cell_type": "markdown",
   "metadata": {},
   "source": [
    "# Classify and generate refinement plots"
   ]
  },
  {
   "cell_type": "code",
   "execution_count": null,
   "metadata": {
    "scrolled": false
   },
   "outputs": [],
   "source": [
    "# Classify the generated pickles using FETCH and generate refinement plots\n",
    "sdmname = miniSDMlist[0].split('/')[-1]\n",
    "for pkl in glob.glob(st.prefs.workdir+'/'+'cands_*'+sdmname.split('/')[0]+'*.pkl'):\n",
    "    if classify or refine:\n",
    "        logging.info('Refining and classifying pkl: {0}'.format(pkl))\n",
    "        ccs = list(candidates.iter_cands(pkl, select='candcollection'))\n",
    "        for cc in ccs:\n",
    "            cds = cc.canddata\n",
    "            if cds:\n",
    "                for cd in cds:\n",
    "                    if classify:\n",
    "                        payload = candidates.cd_to_fetch(cd, classify=True, save_png=True, show=True, mode = 'GPU', devicenum='0')\n",
    "                        logging.info('FETCH FRB Probability of the candidate {0} is {1}'.format(cd.candid, payload))\n",
    "                    if refine:\n",
    "                        logging.info('Generating Refinement plots')\n",
    "                        cd_refine(cd)\n",
    "            else:\n",
    "                logging.info('No candidate was found in cc: {0}'.format(cc))"
   ]
  },
  {
   "cell_type": "code",
   "execution_count": null,
   "metadata": {},
   "outputs": [],
   "source": []
  }
 ],
 "metadata": {
  "kernelspec": {
   "display_name": "Python 3",
   "language": "python",
   "name": "python3"
  },
  "language_info": {
   "codemirror_mode": {
    "name": "ipython",
    "version": 3
   },
   "file_extension": ".py",
   "mimetype": "text/x-python",
   "name": "python",
   "nbconvert_exporter": "python",
   "pygments_lexer": "ipython3",
   "version": "3.6.7"
  }
 },
 "nbformat": 4,
 "nbformat_minor": 2
}
