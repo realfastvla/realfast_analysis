{
 "cells": [
  {
   "cell_type": "code",
   "execution_count": 2,
   "metadata": {},
   "outputs": [
    {
     "name": "stderr",
     "output_type": "stream",
     "text": [
      "/lustre/aoc/observers/nm-10222/anaconda3/envs/fetchrf/lib/python3.6/site-packages/sklearn/externals/joblib/__init__.py:15: DeprecationWarning: sklearn.externals.joblib is deprecated in 0.21 and will be removed in 0.23. Please import this functionality directly from joblib, which can be installed with: pip install joblib. If this warning is raised when loading pickled models, you may need to re-serialize those models with scikit-learn 0.21+.\n",
      "  warnings.warn(msg, category=DeprecationWarning)\n",
      "/lustre/aoc/observers/nm-10222/anaconda3/envs/fetchrf/lib/python3.6/site-packages/sklearn/externals/six.py:31: DeprecationWarning: The module is deprecated in version 0.21 and will be removed in version 0.23 since we've dropped support for Python 2.7. Please rely on the official version of six (https://pypi.org/project/six/).\n",
      "  \"(https://pypi.org/project/six/).\", DeprecationWarning)\n"
     ]
    }
   ],
   "source": [
    "from rfpipe import pipeline\n",
    "# Updated for rfpipe version 1.3.1\n",
    "from rfpipe import candidates\n",
    "import rfpipe\n",
    "import numpy as np \n",
    "import pylab as plt\n",
    "import matplotlib\n",
    "import logging\n",
    "import glob\n",
    "logger = logging.getLogger('rfpipe')\n",
    "%matplotlib inline\n",
    "from refine_utils import cd_refine"
   ]
  },
  {
   "cell_type": "code",
   "execution_count": 3,
   "metadata": {},
   "outputs": [],
   "source": [
    "params = {\n",
    "        'axes.labelsize' : 14,\n",
    "        'font.size' : 9,\n",
    "        'legend.fontsize': 12,\n",
    "        'xtick.labelsize': 12,\n",
    "        'ytick.labelsize': 12,\n",
    "        'text.usetex': False,\n",
    "        'figure.figsize': [12, 10]\n",
    "        }\n",
    "matplotlib.rcParams.update(params)\n",
    "\n",
    "import os\n",
    "os.environ['CUDA_VISIBLE_DEVICES'] = '1'"
   ]
  },
  {
   "cell_type": "markdown",
   "metadata": {},
   "source": [
    "# Set up data paths"
   ]
  },
  {
   "cell_type": "code",
   "execution_count": 4,
   "metadata": {},
   "outputs": [],
   "source": [
    "datadir = '/lustre/aoc/projects/fasttransients/staging/'\n",
    "\n",
    "SDMmininame = 'realfast_18B-405_TEST_R3_A_cut.58665.73435530093_1562005608240'\n",
    "miniSDMlist = glob.glob(datadir+SDMmininame)\n",
    "workdir = '/lustre/aoc/observers/nm-10222/rfgpu/Refinement/nbs/'\n",
    "gainpath = '/home/mchammer/evladata/telcal/'"
   ]
  },
  {
   "cell_type": "code",
   "execution_count": 5,
   "metadata": {},
   "outputs": [
    {
     "name": "stderr",
     "output_type": "stream",
     "text": [
      "2019-08-15 13:03:58,214 - root - INFO - Searching for the gainfile 18B-405_TEST_R3_A_cut.58665.73435530093.GN in /home/mchammer/evladata/telcal/\n"
     ]
    }
   ],
   "source": [
    "gainfile = []\n",
    "for sdm in miniSDMlist:\n",
    "    sdmname = sdm.split('/')[-1]\n",
    "    datasetId = '{0}'.format('_'.join(sdmname.split('_')[1:-1]))\n",
    "    # # set the paths to the gainfile\n",
    "    gainname = datasetId + '.GN'\n",
    "    logging.info('Searching for the gainfile {0} in {1}'.format(gainname, gainpath))\n",
    "    for path, dirs, files in os.walk(gainpath):\n",
    "        for f in filter(lambda x: gainname in x, files):\n",
    "            gainfile.append(os.path.join(path, gainname))\n",
    "            break"
   ]
  },
  {
   "cell_type": "markdown",
   "metadata": {},
   "source": [
    "# Inputs"
   ]
  },
  {
   "cell_type": "code",
   "execution_count": 6,
   "metadata": {},
   "outputs": [],
   "source": [
    "preffile = datadir+'realfast.yml'\n",
    "search_sigma = 7\n",
    "refine = True\n",
    "classify = True\n",
    "fine_dm_search = True\n",
    "\n",
    "if fine_dm_search:\n",
    "    dm = 100\n",
    "    dm_steps = 100\n",
    "    dm_frac = 0.2"
   ]
  },
  {
   "cell_type": "code",
   "execution_count": 7,
   "metadata": {},
   "outputs": [
    {
     "name": "stderr",
     "output_type": "stream",
     "text": [
      "2019-08-15 13:05:48,450 - root - INFO - Setting DM array around DM 100, from 80.0 to 120.0 in 100 steps\n"
     ]
    }
   ],
   "source": [
    "prefs={'saveplots': True, 'savenoise': False, 'savesols': False,\n",
    "       'savecandcollection': True, 'savecanddata': True,\n",
    "       'applyonlineflags': True, 'fftmode': 'cuda', 'clustercands': (4,3), 'maxdm':500}\n",
    "\n",
    "if fine_dm_search:\n",
    "    logging.info('Setting DM array around DM {0}, from {1} to {2} in {3} steps'.\n",
    "                 format(dm, dm-dm_frac*dm, dm+dm_frac*dm, dm_steps))\n",
    "    prefs['dmarr'] = list(np.linspace(dm-dm_frac*dm, dm+dm_frac*dm, dm_steps))"
   ]
  },
  {
   "cell_type": "markdown",
   "metadata": {},
   "source": [
    "# Searching all miniSDMs"
   ]
  },
  {
   "cell_type": "code",
   "execution_count": 8,
   "metadata": {
    "scrolled": true
   },
   "outputs": [
    {
     "name": "stderr",
     "output_type": "stream",
     "text": [
      "2019-08-15 13:05:48,503 - rfpipe.metadata - INFO - Reading metadata from /lustre/aoc/projects/fasttransients/staging/realfast_18B-405_TEST_R3_A_cut.58665.73435530093_1562005608240, scan 1\n",
      "2019-08-15 13:05:49,483 - rfpipe.state - INFO - Metadata summary:\n",
      "2019-08-15 13:05:49,483 - rfpipe.state - INFO - \t Working directory and fileroot: /lustre/aoc/observers/nm-10222/rfgpu/Refinement/nbs, realfast_18B-405_TEST_R3_A_cut.58665.73435530093_1562005608240.1.1\n",
      "2019-08-15 13:05:49,484 - rfpipe.state - INFO - \t Using scan 1, source R3\n",
      "2019-08-15 13:05:49,484 - rfpipe.state - INFO - \t nants, nbl: 21, 210\n",
      "2019-08-15 13:05:49,485 - rfpipe.state - INFO - \t nchan, nspw: 896, 16\n",
      "2019-08-15 13:05:49,487 - rfpipe.state - INFO - \t Freq range: 1.012 -- 2.027\n",
      "2019-08-15 13:05:49,487 - rfpipe.state - INFO - \t Scan has 431 ints (4.3 s) and inttime 0.010 s\n",
      "2019-08-15 13:05:49,488 - rfpipe.state - INFO - \t 2 polarizations: ['RR', 'LL']\n",
      "2019-08-15 13:05:49,489 - rfpipe.state - INFO - \t Ideal uvgrid npix=(4608, 5184) and res=42 (oversample 1.0)\n",
      "2019-08-15 13:05:49,489 - rfpipe.state - INFO - Pipeline summary:\n",
      "2019-08-15 13:05:49,490 - rfpipe.state - INFO - \t Using 2 segments of 193 ints (1.9 s) with overlap of 0.4 s\n",
      "2019-08-15 13:05:49,490 - rfpipe.state - INFO - \t Searching 350 of 431 ints in scan\n",
      "2019-08-15 13:05:49,491 - rfpipe.state - INFO - \t Using pols ['RR', 'LL']\n",
      "2019-08-15 13:05:49,491 - rfpipe.state - INFO - No gainfile specified or found.\n",
      "2019-08-15 13:05:49,492 - rfpipe.state - INFO - \n",
      "2019-08-15 13:05:49,492 - rfpipe.state - INFO - \t Using cuda for image search using 1 thread.\n",
      "2019-08-15 13:05:49,492 - rfpipe.state - INFO - \t Image threshold of 7 sigma.\n",
      "2019-08-15 13:05:49,493 - rfpipe.state - INFO - \t Using 100 DMs from 80.0 to 120.0 and dts [1].\n",
      "2019-08-15 13:05:49,494 - rfpipe.state - INFO - \t Using uvgrid npix=(4608, 5184) and res=42 with 193 int chunks.\n",
      "2019-08-15 13:05:49,496 - rfpipe.state - INFO - \t Expect 1 thermal false positives per scan.\n",
      "2019-08-15 13:05:49,496 - rfpipe.state - INFO - \t Clustering candidates wth min_cluster_size=4 and min_samples=3\n",
      "2019-08-15 13:05:49,496 - rfpipe.state - INFO - \n",
      "2019-08-15 13:05:49,498 - rfpipe.state - INFO - \t Visibility memory usage is 0.66404352 GB/segment when using cuda imaging.\n",
      "2019-08-15 13:05:49,498 - rfpipe.source - INFO - Reading segment 0 of datasetId realfast_18B-405_TEST_R3_A_cut.58665.73435530093_1562005608240\n",
      "2019-08-15 13:05:49,499 - rfpipe.source - INFO - Reading scan 1, segment 0/1, times 1562005608.24 to 1562005610.17\n",
      "2019-08-15 13:05:49,500 - rfpipe.source - INFO - Reading 193 ints starting at int 0\n",
      "2019-08-15 13:05:54,086 - rfpipe.source - INFO - Read data with zero fraction of 0.001 for segment 0\n",
      "2019-08-15 13:05:58,262 - rfpipe.flagging - INFO - Found antennas to flag in time range 58665.76861388889-58665.76863622685 \n",
      "2019-08-15 13:05:58,661 - rfpipe.source - INFO - Applying calibration with /home/mchammer/evladata/telcal/2019/07/18B-405_TEST_R3_A_cut.58665.73435530093.GN\n",
      "2019-08-15 13:05:58,722 - rfpipe.calibration - INFO - Read telcalfile /home/mchammer/evladata/telcal/2019/07/18B-405_TEST_R3_A_cut.58665.73435530093.GN with 1 sources, 7 times, 32 IFIDs, and 21 antennas\n",
      "2019-08-15 13:05:58,725 - rfpipe.calibration - INFO - Selecting 672 solutions from calibrator J0217+7349 separated by 17.447333332384005 min (realtime mode).\n",
      "2019-08-15 13:05:58,727 - rfpipe.calibration - INFO - Flagging 31 solutions at MJD [58665.75651794], ant [ 1  3  4  5  6  8  9 11 12 13 14 17 18 20 23 24 26], and freqs ['A-0' 'A-1' 'A-2' 'A-3' 'A-4' 'A-5' 'A-6' 'A-7' 'B-7' 'C-5' 'C-6' 'D-0'\n",
      " 'D-5' 'D-6' 'D-7']) for low gain amplitude.\n",
      "2019-08-15 13:05:58,728 - rfpipe.calibration - INFO - Applying solutions from frequencies [1040. 1104. 1168. 1232. 1296. 1360. 1424. 1488. 1552. 1616. 1680. 1744.\n",
      " 1808. 1872. 1936. 2000.] to data frequencies [1040. 1104. 1168. 1232. 1296. 1360. 1424. 1488. 1552. 1616. 1680. 1744.\n",
      " 1808. 1872. 1936. 2000.]\n",
      "2019-08-15 13:05:58,774 - rfpipe.calibration - INFO - 956 of 5880 telcal solutions zeroed or flagged\n",
      "2019-08-15 13:05:58,775 - rfpipe.calibration - INFO - Flagged solutions for: Ant 1: 20, Ant 2: 18, Ant 3: 20, Ant 4: 20, Ant 5: 20, Ant 6: 20, Ant 7: 18, Ant 8: 20, Ant 9: 20, Ant 10: 0, Ant 11: 20, Ant 12: 20, Ant 13: 20, Ant 14: 20, Ant 15: 0, Ant 16: 0, Ant 17: 20, Ant 18: 20, Ant 19: 0, Ant 20: 20, Ant 21: 0, Ant 22: 18, Ant 23: 20, Ant 24: 20, Ant 25: 0, Ant 26: 40\n",
      "2019-08-15 13:05:59,173 - rfpipe.source - INFO - Flagging with version: latest\n",
      "/lustre/aoc/observers/nm-10222/anaconda3/envs/fetchrf/lib/python3.6/site-packages/numpy/ma/core.py:474: ComplexWarning: Casting complex values to real discards the imaginary part\n",
      "  fill_value = np.array(fill_value, copy=False, dtype=ndtype)\n",
      "2019-08-15 13:06:01,019 - rfpipe.flagging - INFO - flagged by badchtslide: 4/386 pol-times and 13/1792 pol-chans.\n",
      "2019-08-15 13:06:02,614 - rfpipe.flagging - INFO - flagged by badchtslide: 0/386 pol-times and 33/1792 pol-chans.\n",
      "2019-08-15 13:06:07,067 - rfpipe.flagging - INFO - badspw flagging finds deviations per spw: [ 3.80390615  7.73199251  4.69272765  5.14553568  6.55160919  0.08561402\n",
      "  0.16545121  0.17711948 12.21807281  7.49372809  0.92174879  0.19392513\n",
      "  0.18410766  0.19223985  0.37455765  0.41409734]\n",
      "2019-08-15 13:06:07,069 - rfpipe.flagging - INFO - flagged 8/16 spw ([ 0  1  2  3  4  8  9 10])\n",
      "2019-08-15 13:06:12,697 - rfpipe.flagging - INFO - flagged by blstd: 10455 of 345856 total channel/time/pol cells.\n",
      "2019-08-15 13:06:13,287 - rfpipe.source - INFO - No visibility subtraction done.\n",
      "2019-08-15 13:06:13,372 - rfpipe.search - WARNING - distributed not available. Using default GPU devicenum 0\n",
      "2019-08-15 13:06:13,372 - rfpipe.search - INFO - Using gpu devicenum(s): (0,)\n",
      "2019-08-15 13:06:15,572 - rfpipe.search - INFO - Imaging 169 ints (0-168) in seg 0 at DM/dt 80.0/1 with image 4608x5184 (uvres 42) on GPU 0\n",
      "2019-08-15 13:06:16,667 - rfpipe.search - INFO - Imaging 169 ints (0-168) in seg 0 at DM/dt 80.4/1 with image 4608x5184 (uvres 42) on GPU 0\n",
      "2019-08-15 13:06:17,745 - rfpipe.search - INFO - Imaging 169 ints (0-168) in seg 0 at DM/dt 80.8/1 with image 4608x5184 (uvres 42) on GPU 0\n",
      "2019-08-15 13:06:18,823 - rfpipe.search - INFO - Imaging 169 ints (0-168) in seg 0 at DM/dt 81.2/1 with image 4608x5184 (uvres 42) on GPU 0\n",
      "2019-08-15 13:06:19,901 - rfpipe.search - INFO - Imaging 169 ints (0-168) in seg 0 at DM/dt 81.6/1 with image 4608x5184 (uvres 42) on GPU 0\n",
      "2019-08-15 13:06:20,979 - rfpipe.search - INFO - Imaging 169 ints (0-168) in seg 0 at DM/dt 82.0/1 with image 4608x5184 (uvres 42) on GPU 0\n",
      "2019-08-15 13:06:22,057 - rfpipe.search - INFO - Imaging 168 ints (0-167) in seg 0 at DM/dt 82.4/1 with image 4608x5184 (uvres 42) on GPU 0\n",
      "2019-08-15 13:06:23,129 - rfpipe.search - INFO - Imaging 168 ints (0-167) in seg 0 at DM/dt 82.8/1 with image 4608x5184 (uvres 42) on GPU 0\n",
      "2019-08-15 13:06:24,201 - rfpipe.search - INFO - Imaging 168 ints (0-167) in seg 0 at DM/dt 83.2/1 with image 4608x5184 (uvres 42) on GPU 0\n",
      "2019-08-15 13:06:25,272 - rfpipe.search - INFO - Imaging 168 ints (0-167) in seg 0 at DM/dt 83.6/1 with image 4608x5184 (uvres 42) on GPU 0\n",
      "2019-08-15 13:06:26,344 - rfpipe.search - INFO - Imaging 168 ints (0-167) in seg 0 at DM/dt 84.0/1 with image 4608x5184 (uvres 42) on GPU 0\n",
      "2019-08-15 13:06:27,415 - rfpipe.search - INFO - Imaging 168 ints (0-167) in seg 0 at DM/dt 84.4/1 with image 4608x5184 (uvres 42) on GPU 0\n",
      "2019-08-15 13:06:28,487 - rfpipe.search - INFO - Imaging 168 ints (0-167) in seg 0 at DM/dt 84.8/1 with image 4608x5184 (uvres 42) on GPU 0\n",
      "2019-08-15 13:06:29,559 - rfpipe.search - INFO - Imaging 168 ints (0-167) in seg 0 at DM/dt 85.3/1 with image 4608x5184 (uvres 42) on GPU 0\n",
      "2019-08-15 13:06:30,631 - rfpipe.search - INFO - Imaging 167 ints (0-166) in seg 0 at DM/dt 85.7/1 with image 4608x5184 (uvres 42) on GPU 0\n",
      "2019-08-15 13:06:31,696 - rfpipe.search - INFO - Imaging 167 ints (0-166) in seg 0 at DM/dt 86.1/1 with image 4608x5184 (uvres 42) on GPU 0\n",
      "2019-08-15 13:06:32,762 - rfpipe.search - INFO - Imaging 167 ints (0-166) in seg 0 at DM/dt 86.5/1 with image 4608x5184 (uvres 42) on GPU 0\n",
      "2019-08-15 13:06:33,827 - rfpipe.search - INFO - Imaging 167 ints (0-166) in seg 0 at DM/dt 86.9/1 with image 4608x5184 (uvres 42) on GPU 0\n"
     ]
    },
    {
     "name": "stderr",
     "output_type": "stream",
     "text": [
      "2019-08-15 13:06:34,892 - rfpipe.search - INFO - Imaging 167 ints (0-166) in seg 0 at DM/dt 87.3/1 with image 4608x5184 (uvres 42) on GPU 0\n",
      "2019-08-15 13:06:35,229 - rfpipe.search - INFO - Got one! SNR1 7.1 candidate at (0, 52, 18, 0, 0) and (l, m) = (-0.00169, -0.00487)\n",
      "2019-08-15 13:06:35,959 - rfpipe.search - INFO - Imaging 167 ints (0-166) in seg 0 at DM/dt 87.7/1 with image 4608x5184 (uvres 42) on GPU 0\n",
      "2019-08-15 13:06:36,296 - rfpipe.search - INFO - Got one! SNR1 7.5 candidate at (0, 52, 19, 0, 0) and (l, m) = (-0.00169, -0.00487)\n",
      "2019-08-15 13:06:37,026 - rfpipe.search - INFO - Imaging 167 ints (0-166) in seg 0 at DM/dt 88.1/1 with image 4608x5184 (uvres 42) on GPU 0\n",
      "2019-08-15 13:06:37,363 - rfpipe.search - INFO - Got one! SNR1 7.4 candidate at (0, 52, 20, 0, 0) and (l, m) = (-0.00169, -0.00487)\n",
      "2019-08-15 13:06:38,093 - rfpipe.search - INFO - Imaging 167 ints (0-166) in seg 0 at DM/dt 88.5/1 with image 4608x5184 (uvres 42) on GPU 0\n",
      "2019-08-15 13:06:38,430 - rfpipe.search - INFO - Got one! SNR1 7.3 candidate at (0, 52, 21, 0, 0) and (l, m) = (-0.00169, -0.00487)\n",
      "2019-08-15 13:06:39,160 - rfpipe.search - INFO - Imaging 166 ints (0-165) in seg 0 at DM/dt 88.9/1 with image 4608x5184 (uvres 42) on GPU 0\n",
      "2019-08-15 13:06:39,497 - rfpipe.search - INFO - Got one! SNR1 7.3 candidate at (0, 52, 22, 0, 0) and (l, m) = (-0.00169, -0.00487)\n",
      "2019-08-15 13:06:40,220 - rfpipe.search - INFO - Imaging 166 ints (0-165) in seg 0 at DM/dt 89.3/1 with image 4608x5184 (uvres 42) on GPU 0\n",
      "2019-08-15 13:06:40,558 - rfpipe.search - INFO - Got one! SNR1 7.1 candidate at (0, 52, 23, 0, 0) and (l, m) = (-0.00169, -0.00487)\n",
      "2019-08-15 13:06:41,281 - rfpipe.search - INFO - Imaging 166 ints (0-165) in seg 0 at DM/dt 89.7/1 with image 4608x5184 (uvres 42) on GPU 0\n",
      "2019-08-15 13:06:42,341 - rfpipe.search - INFO - Imaging 166 ints (0-165) in seg 0 at DM/dt 90.1/1 with image 4608x5184 (uvres 42) on GPU 0\n",
      "2019-08-15 13:06:43,400 - rfpipe.search - INFO - Imaging 166 ints (0-165) in seg 0 at DM/dt 90.5/1 with image 4608x5184 (uvres 42) on GPU 0\n",
      "2019-08-15 13:06:44,460 - rfpipe.search - INFO - Imaging 166 ints (0-165) in seg 0 at DM/dt 90.9/1 with image 4608x5184 (uvres 42) on GPU 0\n",
      "2019-08-15 13:06:45,519 - rfpipe.search - INFO - Imaging 166 ints (0-165) in seg 0 at DM/dt 91.3/1 with image 4608x5184 (uvres 42) on GPU 0\n",
      "2019-08-15 13:06:46,579 - rfpipe.search - INFO - Imaging 166 ints (0-165) in seg 0 at DM/dt 91.7/1 with image 4608x5184 (uvres 42) on GPU 0\n",
      "2019-08-15 13:06:47,638 - rfpipe.search - INFO - Imaging 165 ints (0-164) in seg 0 at DM/dt 92.1/1 with image 4608x5184 (uvres 42) on GPU 0\n",
      "2019-08-15 13:06:48,691 - rfpipe.search - INFO - Imaging 165 ints (0-164) in seg 0 at DM/dt 92.5/1 with image 4608x5184 (uvres 42) on GPU 0\n",
      "2019-08-15 13:06:49,745 - rfpipe.search - INFO - Imaging 165 ints (0-164) in seg 0 at DM/dt 92.9/1 with image 4608x5184 (uvres 42) on GPU 0\n",
      "2019-08-15 13:06:50,798 - rfpipe.search - INFO - Imaging 165 ints (0-164) in seg 0 at DM/dt 93.3/1 with image 4608x5184 (uvres 42) on GPU 0\n",
      "2019-08-15 13:06:51,851 - rfpipe.search - INFO - Imaging 165 ints (0-164) in seg 0 at DM/dt 93.7/1 with image 4608x5184 (uvres 42) on GPU 0\n",
      "2019-08-15 13:06:52,904 - rfpipe.search - INFO - Imaging 165 ints (0-164) in seg 0 at DM/dt 94.1/1 with image 4608x5184 (uvres 42) on GPU 0\n",
      "2019-08-15 13:06:53,957 - rfpipe.search - INFO - Imaging 165 ints (0-164) in seg 0 at DM/dt 94.5/1 with image 4608x5184 (uvres 42) on GPU 0\n",
      "2019-08-15 13:06:55,010 - rfpipe.search - INFO - Imaging 165 ints (0-164) in seg 0 at DM/dt 94.9/1 with image 4608x5184 (uvres 42) on GPU 0\n",
      "2019-08-15 13:06:56,063 - rfpipe.search - INFO - Imaging 165 ints (0-164) in seg 0 at DM/dt 95.4/1 with image 4608x5184 (uvres 42) on GPU 0\n",
      "2019-08-15 13:06:57,116 - rfpipe.search - INFO - Imaging 164 ints (0-163) in seg 0 at DM/dt 95.8/1 with image 4608x5184 (uvres 42) on GPU 0\n",
      "2019-08-15 13:06:58,163 - rfpipe.search - INFO - Imaging 164 ints (0-163) in seg 0 at DM/dt 96.2/1 with image 4608x5184 (uvres 42) on GPU 0\n",
      "2019-08-15 13:06:59,210 - rfpipe.search - INFO - Imaging 164 ints (0-163) in seg 0 at DM/dt 96.6/1 with image 4608x5184 (uvres 42) on GPU 0\n",
      "2019-08-15 13:07:00,257 - rfpipe.search - INFO - Imaging 164 ints (0-163) in seg 0 at DM/dt 97.0/1 with image 4608x5184 (uvres 42) on GPU 0\n",
      "2019-08-15 13:07:01,303 - rfpipe.search - INFO - Imaging 164 ints (0-163) in seg 0 at DM/dt 97.4/1 with image 4608x5184 (uvres 42) on GPU 0\n",
      "2019-08-15 13:07:02,350 - rfpipe.search - INFO - Imaging 164 ints (0-163) in seg 0 at DM/dt 97.8/1 with image 4608x5184 (uvres 42) on GPU 0\n",
      "2019-08-15 13:07:03,397 - rfpipe.search - INFO - Imaging 164 ints (0-163) in seg 0 at DM/dt 98.2/1 with image 4608x5184 (uvres 42) on GPU 0\n",
      "2019-08-15 13:07:04,444 - rfpipe.search - INFO - Imaging 164 ints (0-163) in seg 0 at DM/dt 98.6/1 with image 4608x5184 (uvres 42) on GPU 0\n",
      "2019-08-15 13:07:05,490 - rfpipe.search - INFO - Imaging 163 ints (0-162) in seg 0 at DM/dt 99.0/1 with image 4608x5184 (uvres 42) on GPU 0\n",
      "2019-08-15 13:07:06,531 - rfpipe.search - INFO - Imaging 163 ints (0-162) in seg 0 at DM/dt 99.4/1 with image 4608x5184 (uvres 42) on GPU 0\n",
      "2019-08-15 13:07:07,572 - rfpipe.search - INFO - Imaging 163 ints (0-162) in seg 0 at DM/dt 99.8/1 with image 4608x5184 (uvres 42) on GPU 0\n",
      "2019-08-15 13:07:08,612 - rfpipe.search - INFO - Imaging 163 ints (0-162) in seg 0 at DM/dt 100.2/1 with image 4608x5184 (uvres 42) on GPU 0\n",
      "2019-08-15 13:07:09,653 - rfpipe.search - INFO - Imaging 163 ints (0-162) in seg 0 at DM/dt 100.6/1 with image 4608x5184 (uvres 42) on GPU 0\n",
      "2019-08-15 13:07:10,693 - rfpipe.search - INFO - Imaging 163 ints (0-162) in seg 0 at DM/dt 101.0/1 with image 4608x5184 (uvres 42) on GPU 0\n",
      "2019-08-15 13:07:11,734 - rfpipe.search - INFO - Imaging 163 ints (0-162) in seg 0 at DM/dt 101.4/1 with image 4608x5184 (uvres 42) on GPU 0\n",
      "2019-08-15 13:07:12,775 - rfpipe.search - INFO - Imaging 163 ints (0-162) in seg 0 at DM/dt 101.8/1 with image 4608x5184 (uvres 42) on GPU 0\n",
      "2019-08-15 13:07:13,816 - rfpipe.search - INFO - Imaging 162 ints (0-161) in seg 0 at DM/dt 102.2/1 with image 4608x5184 (uvres 42) on GPU 0\n",
      "2019-08-15 13:07:14,850 - rfpipe.search - INFO - Imaging 162 ints (0-161) in seg 0 at DM/dt 102.6/1 with image 4608x5184 (uvres 42) on GPU 0\n",
      "2019-08-15 13:07:15,884 - rfpipe.search - INFO - Imaging 162 ints (0-161) in seg 0 at DM/dt 103.0/1 with image 4608x5184 (uvres 42) on GPU 0\n",
      "2019-08-15 13:07:16,919 - rfpipe.search - INFO - Imaging 162 ints (0-161) in seg 0 at DM/dt 103.4/1 with image 4608x5184 (uvres 42) on GPU 0\n",
      "2019-08-15 13:07:17,954 - rfpipe.search - INFO - Imaging 162 ints (0-161) in seg 0 at DM/dt 103.8/1 with image 4608x5184 (uvres 42) on GPU 0\n",
      "2019-08-15 13:07:18,988 - rfpipe.search - INFO - Imaging 162 ints (0-161) in seg 0 at DM/dt 104.2/1 with image 4608x5184 (uvres 42) on GPU 0\n",
      "2019-08-15 13:07:20,022 - rfpipe.search - INFO - Imaging 162 ints (0-161) in seg 0 at DM/dt 104.6/1 with image 4608x5184 (uvres 42) on GPU 0\n",
      "2019-08-15 13:07:21,056 - rfpipe.search - INFO - Imaging 162 ints (0-161) in seg 0 at DM/dt 105.1/1 with image 4608x5184 (uvres 42) on GPU 0\n",
      "2019-08-15 13:07:22,091 - rfpipe.search - INFO - Imaging 161 ints (0-160) in seg 0 at DM/dt 105.5/1 with image 4608x5184 (uvres 42) on GPU 0\n",
      "2019-08-15 13:07:23,119 - rfpipe.search - INFO - Imaging 161 ints (0-160) in seg 0 at DM/dt 105.9/1 with image 4608x5184 (uvres 42) on GPU 0\n",
      "2019-08-15 13:07:24,147 - rfpipe.search - INFO - Imaging 161 ints (0-160) in seg 0 at DM/dt 106.3/1 with image 4608x5184 (uvres 42) on GPU 0\n",
      "2019-08-15 13:07:25,175 - rfpipe.search - INFO - Imaging 161 ints (0-160) in seg 0 at DM/dt 106.7/1 with image 4608x5184 (uvres 42) on GPU 0\n",
      "2019-08-15 13:07:26,203 - rfpipe.search - INFO - Imaging 161 ints (0-160) in seg 0 at DM/dt 107.1/1 with image 4608x5184 (uvres 42) on GPU 0\n",
      "2019-08-15 13:07:27,231 - rfpipe.search - INFO - Imaging 161 ints (0-160) in seg 0 at DM/dt 107.5/1 with image 4608x5184 (uvres 42) on GPU 0\n",
      "2019-08-15 13:07:28,259 - rfpipe.search - INFO - Imaging 161 ints (0-160) in seg 0 at DM/dt 107.9/1 with image 4608x5184 (uvres 42) on GPU 0\n",
      "2019-08-15 13:07:29,287 - rfpipe.search - INFO - Imaging 161 ints (0-160) in seg 0 at DM/dt 108.3/1 with image 4608x5184 (uvres 42) on GPU 0\n"
     ]
    },
    {
     "name": "stderr",
     "output_type": "stream",
     "text": [
      "2019-08-15 13:07:30,315 - rfpipe.search - INFO - Imaging 160 ints (0-159) in seg 0 at DM/dt 108.7/1 with image 4608x5184 (uvres 42) on GPU 0\n",
      "2019-08-15 13:07:31,337 - rfpipe.search - INFO - Imaging 160 ints (0-159) in seg 0 at DM/dt 109.1/1 with image 4608x5184 (uvres 42) on GPU 0\n",
      "2019-08-15 13:07:32,360 - rfpipe.search - INFO - Imaging 160 ints (0-159) in seg 0 at DM/dt 109.5/1 with image 4608x5184 (uvres 42) on GPU 0\n",
      "2019-08-15 13:07:33,381 - rfpipe.search - INFO - Imaging 160 ints (0-159) in seg 0 at DM/dt 109.9/1 with image 4608x5184 (uvres 42) on GPU 0\n",
      "2019-08-15 13:07:34,403 - rfpipe.search - INFO - Imaging 160 ints (0-159) in seg 0 at DM/dt 110.3/1 with image 4608x5184 (uvres 42) on GPU 0\n",
      "2019-08-15 13:07:35,425 - rfpipe.search - INFO - Imaging 160 ints (0-159) in seg 0 at DM/dt 110.7/1 with image 4608x5184 (uvres 42) on GPU 0\n",
      "2019-08-15 13:07:36,446 - rfpipe.search - INFO - Imaging 160 ints (0-159) in seg 0 at DM/dt 111.1/1 with image 4608x5184 (uvres 42) on GPU 0\n",
      "2019-08-15 13:07:37,468 - rfpipe.search - INFO - Imaging 160 ints (0-159) in seg 0 at DM/dt 111.5/1 with image 4608x5184 (uvres 42) on GPU 0\n",
      "2019-08-15 13:07:38,490 - rfpipe.search - INFO - Imaging 159 ints (0-158) in seg 0 at DM/dt 111.9/1 with image 4608x5184 (uvres 42) on GPU 0\n",
      "2019-08-15 13:07:39,505 - rfpipe.search - INFO - Imaging 159 ints (0-158) in seg 0 at DM/dt 112.3/1 with image 4608x5184 (uvres 42) on GPU 0\n",
      "2019-08-15 13:07:40,521 - rfpipe.search - INFO - Imaging 159 ints (0-158) in seg 0 at DM/dt 112.7/1 with image 4608x5184 (uvres 42) on GPU 0\n",
      "2019-08-15 13:07:41,536 - rfpipe.search - INFO - Imaging 159 ints (0-158) in seg 0 at DM/dt 113.1/1 with image 4608x5184 (uvres 42) on GPU 0\n",
      "2019-08-15 13:07:42,552 - rfpipe.search - INFO - Imaging 159 ints (0-158) in seg 0 at DM/dt 113.5/1 with image 4608x5184 (uvres 42) on GPU 0\n",
      "2019-08-15 13:07:43,569 - rfpipe.search - INFO - Imaging 159 ints (0-158) in seg 0 at DM/dt 113.9/1 with image 4608x5184 (uvres 42) on GPU 0\n",
      "2019-08-15 13:07:44,585 - rfpipe.search - INFO - Imaging 159 ints (0-158) in seg 0 at DM/dt 114.3/1 with image 4608x5184 (uvres 42) on GPU 0\n",
      "2019-08-15 13:07:45,600 - rfpipe.search - INFO - Imaging 159 ints (0-158) in seg 0 at DM/dt 114.7/1 with image 4608x5184 (uvres 42) on GPU 0\n",
      "2019-08-15 13:07:46,616 - rfpipe.search - INFO - Imaging 158 ints (0-157) in seg 0 at DM/dt 115.2/1 with image 4608x5184 (uvres 42) on GPU 0\n",
      "2019-08-15 13:07:47,626 - rfpipe.search - INFO - Imaging 158 ints (0-157) in seg 0 at DM/dt 115.6/1 with image 4608x5184 (uvres 42) on GPU 0\n",
      "2019-08-15 13:07:48,635 - rfpipe.search - INFO - Imaging 158 ints (0-157) in seg 0 at DM/dt 116.0/1 with image 4608x5184 (uvres 42) on GPU 0\n",
      "2019-08-15 13:07:49,644 - rfpipe.search - INFO - Imaging 158 ints (0-157) in seg 0 at DM/dt 116.4/1 with image 4608x5184 (uvres 42) on GPU 0\n",
      "2019-08-15 13:07:50,654 - rfpipe.search - INFO - Imaging 158 ints (0-157) in seg 0 at DM/dt 116.8/1 with image 4608x5184 (uvres 42) on GPU 0\n",
      "2019-08-15 13:07:51,663 - rfpipe.search - INFO - Imaging 158 ints (0-157) in seg 0 at DM/dt 117.2/1 with image 4608x5184 (uvres 42) on GPU 0\n",
      "2019-08-15 13:07:52,673 - rfpipe.search - INFO - Imaging 158 ints (0-157) in seg 0 at DM/dt 117.6/1 with image 4608x5184 (uvres 42) on GPU 0\n",
      "2019-08-15 13:07:53,682 - rfpipe.search - INFO - Imaging 158 ints (0-157) in seg 0 at DM/dt 118.0/1 with image 4608x5184 (uvres 42) on GPU 0\n",
      "2019-08-15 13:07:54,692 - rfpipe.search - INFO - Imaging 157 ints (0-156) in seg 0 at DM/dt 118.4/1 with image 4608x5184 (uvres 42) on GPU 0\n",
      "2019-08-15 13:07:55,695 - rfpipe.search - INFO - Imaging 157 ints (0-156) in seg 0 at DM/dt 118.8/1 with image 4608x5184 (uvres 42) on GPU 0\n",
      "2019-08-15 13:07:56,698 - rfpipe.search - INFO - Imaging 157 ints (0-156) in seg 0 at DM/dt 119.2/1 with image 4608x5184 (uvres 42) on GPU 0\n",
      "2019-08-15 13:07:57,701 - rfpipe.search - INFO - Imaging 157 ints (0-156) in seg 0 at DM/dt 119.6/1 with image 4608x5184 (uvres 42) on GPU 0\n",
      "2019-08-15 13:07:58,704 - rfpipe.search - INFO - Imaging 157 ints (0-156) in seg 0 at DM/dt 120.0/1 with image 4608x5184 (uvres 42) on GPU 0\n",
      "2019-08-15 13:07:59,702 - rfpipe.search - INFO - First pass found 6 candidates in seg 0.\n",
      "2019-08-15 13:07:59,704 - rfpipe.candidates - INFO - Clustering parameters set to (4,3) and downsampling in xy by 1.\n",
      "2019-08-15 13:07:59,835 - rfpipe.candidates - INFO - Found 1 clusters and 0 unclustered candidates for min cluster size 4\n",
      "2019-08-15 13:07:59,921 - rfpipe.reproduce - INFO - Generating canddata for 1 candidates\n",
      "2019-08-15 13:08:05,780 - rfpipe.reproduce - INFO - Cluster 0/0 has 6 candidates and max detected SNR 7.5 at (0, 52, 19, 0, 0)\n",
      "2019-08-15 13:08:05,840 - rfpipe.search - INFO - Correcting by delay/resampling 26/1 ints in single mode\n",
      "2019-08-15 13:08:05,893 - rfpipe.search - INFO - Resampling data of length 193 by a factor of 1\n",
      "2019-08-15 13:08:07,149 - rfpipe.search - INFO - Dedispersing up to delay shift of 26 integrations\n"
     ]
    },
    {
     "ename": "ZeroDivisionError",
     "evalue": "division by zero",
     "output_type": "error",
     "traceback": [
      "\u001b[0;31m---------------------------------------------------------------------------\u001b[0m",
      "\u001b[0;31mZeroDivisionError\u001b[0m                         Traceback (most recent call last)",
      "\u001b[0;32m<ipython-input-8-b821d4a6329d>\u001b[0m in \u001b[0;36m<module>\u001b[0;34m\u001b[0m\n\u001b[1;32m      5\u001b[0m     \u001b[0mst\u001b[0m\u001b[0;34m.\u001b[0m\u001b[0mprefs\u001b[0m\u001b[0;34m.\u001b[0m\u001b[0msigma_image1\u001b[0m \u001b[0;34m=\u001b[0m \u001b[0msearch_sigma\u001b[0m\u001b[0;34m\u001b[0m\u001b[0m\n\u001b[1;32m      6\u001b[0m \u001b[0;34m\u001b[0m\u001b[0m\n\u001b[0;32m----> 7\u001b[0;31m     \u001b[0mcc\u001b[0m \u001b[0;34m=\u001b[0m \u001b[0mpipeline\u001b[0m\u001b[0;34m.\u001b[0m\u001b[0mpipeline_scan\u001b[0m\u001b[0;34m(\u001b[0m\u001b[0mst\u001b[0m\u001b[0;34m)\u001b[0m\u001b[0;34m\u001b[0m\u001b[0m\n\u001b[0m",
      "\u001b[0;32m~/anaconda3/envs/fetchrf/lib/python3.6/site-packages/rfpipe-1.3.4-py3.6.egg/rfpipe/pipeline.py\u001b[0m in \u001b[0;36mpipeline_scan\u001b[0;34m(st, segments, cfile, vys_timeout, devicenum)\u001b[0m\n\u001b[1;32m     26\u001b[0m     \u001b[0;32mfor\u001b[0m \u001b[0msegment\u001b[0m \u001b[0;32min\u001b[0m \u001b[0msegments\u001b[0m\u001b[0;34m:\u001b[0m\u001b[0;34m\u001b[0m\u001b[0m\n\u001b[1;32m     27\u001b[0m         candcollection += pipeline_seg(st, segment, devicenum=devicenum, cfile=cfile,\n\u001b[0;32m---> 28\u001b[0;31m                                        vys_timeout=vys_timeout)\n\u001b[0m\u001b[1;32m     29\u001b[0m \u001b[0;34m\u001b[0m\u001b[0m\n\u001b[1;32m     30\u001b[0m     \u001b[0;32mreturn\u001b[0m \u001b[0mcandcollection\u001b[0m\u001b[0;34m\u001b[0m\u001b[0m\n",
      "\u001b[0;32m~/anaconda3/envs/fetchrf/lib/python3.6/site-packages/rfpipe-1.3.4-py3.6.egg/rfpipe/pipeline.py\u001b[0m in \u001b[0;36mpipeline_seg\u001b[0;34m(st, segment, cfile, vys_timeout, devicenum)\u001b[0m\n\u001b[1;32m     39\u001b[0m \u001b[0;34m\u001b[0m\u001b[0m\n\u001b[1;32m     40\u001b[0m     \u001b[0mdata\u001b[0m \u001b[0;34m=\u001b[0m \u001b[0msource\u001b[0m\u001b[0;34m.\u001b[0m\u001b[0mread_segment\u001b[0m\u001b[0;34m(\u001b[0m\u001b[0mst\u001b[0m\u001b[0;34m,\u001b[0m \u001b[0msegment\u001b[0m\u001b[0;34m,\u001b[0m \u001b[0mtimeout\u001b[0m\u001b[0;34m=\u001b[0m\u001b[0mvys_timeout\u001b[0m\u001b[0;34m,\u001b[0m \u001b[0mcfile\u001b[0m\u001b[0;34m=\u001b[0m\u001b[0mcfile\u001b[0m\u001b[0;34m)\u001b[0m\u001b[0;34m\u001b[0m\u001b[0m\n\u001b[0;32m---> 41\u001b[0;31m     \u001b[0mcandcollection\u001b[0m \u001b[0;34m=\u001b[0m \u001b[0mprep_and_search\u001b[0m\u001b[0;34m(\u001b[0m\u001b[0mst\u001b[0m\u001b[0;34m,\u001b[0m \u001b[0msegment\u001b[0m\u001b[0;34m,\u001b[0m \u001b[0mdata\u001b[0m\u001b[0;34m,\u001b[0m \u001b[0mdevicenum\u001b[0m\u001b[0;34m=\u001b[0m\u001b[0mdevicenum\u001b[0m\u001b[0;34m)\u001b[0m\u001b[0;34m\u001b[0m\u001b[0m\n\u001b[0m\u001b[1;32m     42\u001b[0m \u001b[0;34m\u001b[0m\u001b[0m\n\u001b[1;32m     43\u001b[0m     \u001b[0;32mreturn\u001b[0m \u001b[0mcandcollection\u001b[0m\u001b[0;34m\u001b[0m\u001b[0m\n",
      "\u001b[0;32m~/anaconda3/envs/fetchrf/lib/python3.6/site-packages/rfpipe-1.3.4-py3.6.egg/rfpipe/pipeline.py\u001b[0m in \u001b[0;36mprep_and_search\u001b[0;34m(st, segment, data, devicenum, returnsoltime)\u001b[0m\n\u001b[1;32m     69\u001b[0m \u001b[0;34m\u001b[0m\u001b[0m\n\u001b[1;32m     70\u001b[0m     \u001b[0;31m# calc other features for cc, plot, save\u001b[0m\u001b[0;34m\u001b[0m\u001b[0;34m\u001b[0m\u001b[0m\n\u001b[0;32m---> 71\u001b[0;31m     \u001b[0mcandcollection\u001b[0m \u001b[0;34m=\u001b[0m \u001b[0mreproduce\u001b[0m\u001b[0;34m.\u001b[0m\u001b[0mreproduce_candcollection\u001b[0m\u001b[0;34m(\u001b[0m\u001b[0mcandcollection\u001b[0m\u001b[0;34m,\u001b[0m \u001b[0mdata\u001b[0m\u001b[0;34m)\u001b[0m\u001b[0;34m\u001b[0m\u001b[0m\n\u001b[0m\u001b[1;32m     72\u001b[0m \u001b[0;34m\u001b[0m\u001b[0m\n\u001b[1;32m     73\u001b[0m     \u001b[0mcandcollection\u001b[0m\u001b[0;34m.\u001b[0m\u001b[0msoltime\u001b[0m \u001b[0;34m=\u001b[0m \u001b[0msoltime\u001b[0m\u001b[0;34m\u001b[0m\u001b[0m\n",
      "\u001b[0;32m~/anaconda3/envs/fetchrf/lib/python3.6/site-packages/rfpipe-1.3.4-py3.6.egg/rfpipe/reproduce.py\u001b[0m in \u001b[0;36mreproduce_candcollection\u001b[0;34m(cc, data, wisdom, spec_std, sig_ts, kalman_coeffs)\u001b[0m\n\u001b[1;32m     86\u001b[0m                                                                    \u001b[0mspec_std\u001b[0m\u001b[0;34m,\u001b[0m\u001b[0;34m\u001b[0m\u001b[0m\n\u001b[1;32m     87\u001b[0m                                                                    \u001b[0msig_ts\u001b[0m\u001b[0;34m=\u001b[0m\u001b[0msig_ts\u001b[0m\u001b[0;34m,\u001b[0m\u001b[0;34m\u001b[0m\u001b[0m\n\u001b[0;32m---> 88\u001b[0;31m                                                                    coeffs=kalman_coeffs)\n\u001b[0m\u001b[1;32m     89\u001b[0m                         \u001b[0msnrk\u001b[0m \u001b[0;34m=\u001b[0m \u001b[0;34m(\u001b[0m\u001b[0;36m2\u001b[0m\u001b[0;34m*\u001b[0m\u001b[0msignificance_kalman\u001b[0m\u001b[0;34m)\u001b[0m\u001b[0;34m**\u001b[0m\u001b[0;36m0.5\u001b[0m\u001b[0;34m\u001b[0m\u001b[0m\n\u001b[1;32m     90\u001b[0m                         logger.info(\"Calculated snrk of {0} after detection. \"\n",
      "\u001b[0;32m~/anaconda3/envs/fetchrf/lib/python3.6/site-packages/kalman_detector/kalman_detector.py\u001b[0m in \u001b[0;36mkalman_significance\u001b[0;34m(spec, spec_std, sig_ts, coeffs)\u001b[0m\n\u001b[1;32m     42\u001b[0m     \u001b[0msignificances\u001b[0m \u001b[0;34m=\u001b[0m \u001b[0;34m[\u001b[0m\u001b[0;34m]\u001b[0m\u001b[0;34m\u001b[0m\u001b[0m\n\u001b[1;32m     43\u001b[0m     \u001b[0;32mfor\u001b[0m \u001b[0mi\u001b[0m\u001b[0;34m,\u001b[0m \u001b[0msig_t\u001b[0m \u001b[0;32min\u001b[0m \u001b[0menumerate\u001b[0m\u001b[0;34m(\u001b[0m\u001b[0msig_ts\u001b[0m\u001b[0;34m)\u001b[0m\u001b[0;34m:\u001b[0m\u001b[0;34m\u001b[0m\u001b[0m\n\u001b[0;32m---> 44\u001b[0;31m         \u001b[0mscore\u001b[0m \u001b[0;34m=\u001b[0m \u001b[0mkalman_filter_detector\u001b[0m\u001b[0;34m(\u001b[0m\u001b[0mspec\u001b[0m\u001b[0;34m,\u001b[0m \u001b[0mspec_std\u001b[0m\u001b[0;34m,\u001b[0m \u001b[0msig_t\u001b[0m\u001b[0;34m)\u001b[0m\u001b[0;34m\u001b[0m\u001b[0m\n\u001b[0m\u001b[1;32m     45\u001b[0m         \u001b[0mcoeff\u001b[0m \u001b[0;34m=\u001b[0m \u001b[0mcoeffs\u001b[0m\u001b[0;34m[\u001b[0m\u001b[0mi\u001b[0m\u001b[0;34m]\u001b[0m\u001b[0;34m\u001b[0m\u001b[0m\n\u001b[1;32m     46\u001b[0m         \u001b[0mx_coeff\u001b[0m\u001b[0;34m,\u001b[0m \u001b[0mconst_coeff\u001b[0m \u001b[0;34m=\u001b[0m \u001b[0mcoeff\u001b[0m\u001b[0;34m\u001b[0m\u001b[0m\n",
      "\u001b[0;31mZeroDivisionError\u001b[0m: division by zero"
     ]
    }
   ],
   "source": [
    "for index, sdm in enumerate(miniSDMlist):\n",
    "    st = rfpipe.state.State(sdmfile=os.path.join(datadir, sdm), sdmscan=1, inprefs = prefs)\n",
    "    st.prefs.workdir = workdir\n",
    "    st.prefs.gainfile = gainfile[index]\n",
    "    st.prefs.sigma_image1 = search_sigma\n",
    "    \n",
    "    cc = pipeline.pipeline_scan(st)"
   ]
  },
  {
   "cell_type": "markdown",
   "metadata": {},
   "source": [
    "# Classify and generate refinement plots"
   ]
  },
  {
   "cell_type": "code",
   "execution_count": null,
   "metadata": {
    "scrolled": false
   },
   "outputs": [],
   "source": [
    "# Classify the generated pickles using FETCH and generate refinement plots\n",
    "for pkl in glob.glob(st.prefs.workdir+'/'+'cands_*'+sdmname.split('/')[0]+'*.pkl'):\n",
    "    if classify or refine:\n",
    "        logging.info('Refining and classifying pkl: {0}'.format(pkl))\n",
    "        ccs = list(candidates.iter_cands(pkl, select='candcollection'))\n",
    "        for cc in ccs:\n",
    "            cds = cc.canddata\n",
    "            if cds:\n",
    "                for cd in cds:\n",
    "                    if classify:\n",
    "                        payload = candidates.cd_to_fetch(cd, classify=True, save_png=True, show=True, mode = 'GPU')\n",
    "                        logging.info('FETCH FRB Probability of the candidate {0} is {1}'.format(cd.candid, payload))\n",
    "                    if refine:\n",
    "                        logging.info('Generating Refinement plots')\n",
    "                        cd_refine(cd)\n",
    "            else:\n",
    "                logging.info('No candidate was found in cc: {0}'.format(cc))"
   ]
  }
 ],
 "metadata": {
  "kernelspec": {
   "display_name": "Python 3",
   "language": "python",
   "name": "python3"
  },
  "language_info": {
   "codemirror_mode": {
    "name": "ipython",
    "version": 3
   },
   "file_extension": ".py",
   "mimetype": "text/x-python",
   "name": "python",
   "nbconvert_exporter": "python",
   "pygments_lexer": "ipython3",
   "version": "3.6.6"
  }
 },
 "nbformat": 4,
 "nbformat_minor": 2
}
