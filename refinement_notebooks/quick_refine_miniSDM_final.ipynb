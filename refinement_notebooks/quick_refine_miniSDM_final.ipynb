{
 "cells": [
  {
   "cell_type": "code",
   "execution_count": 1,
   "metadata": {},
   "outputs": [
    {
     "name": "stderr",
     "output_type": "stream",
     "text": [
      "/lustre/aoc/observers/nm-10222/anaconda3/envs/fetchrf/lib/python3.6/site-packages/sklearn/externals/joblib/__init__.py:15: DeprecationWarning: sklearn.externals.joblib is deprecated in 0.21 and will be removed in 0.23. Please import this functionality directly from joblib, which can be installed with: pip install joblib. If this warning is raised when loading pickled models, you may need to re-serialize those models with scikit-learn 0.21+.\n",
      "  warnings.warn(msg, category=DeprecationWarning)\n",
      "/lustre/aoc/observers/nm-10222/anaconda3/envs/fetchrf/lib/python3.6/site-packages/sklearn/externals/six.py:31: DeprecationWarning: The module is deprecated in version 0.21 and will be removed in version 0.23 since we've dropped support for Python 2.7. Please rely on the official version of six (https://pypi.org/project/six/).\n",
      "  \"(https://pypi.org/project/six/).\", DeprecationWarning)\n"
     ]
    }
   ],
   "source": [
    "from rfpipe import pipeline\n",
    "# Updated for rfpipe version 1.3.1\n",
    "from rfpipe import candidates\n",
    "import rfpipe\n",
    "import numpy as np \n",
    "import pylab as plt\n",
    "import matplotlib\n",
    "import logging\n",
    "import glob\n",
    "logger = logging.getLogger('rfpipe')\n",
    "%matplotlib inline\n",
    "from refine_utils import cd_refine"
   ]
  },
  {
   "cell_type": "code",
   "execution_count": 2,
   "metadata": {},
   "outputs": [],
   "source": [
    "params = {\n",
    "        'axes.labelsize' : 14,\n",
    "        'font.size' : 9,\n",
    "        'legend.fontsize': 12,\n",
    "        'xtick.labelsize': 12,\n",
    "        'ytick.labelsize': 12,\n",
    "        'text.usetex': False,\n",
    "        'figure.figsize': [12, 10]\n",
    "        }\n",
    "matplotlib.rcParams.update(params)\n",
    "\n",
    "import os\n",
    "os.environ['CUDA_VISIBLE_DEVICES'] = '1'"
   ]
  },
  {
   "cell_type": "markdown",
   "metadata": {},
   "source": [
    "# Set up data paths"
   ]
  },
  {
   "cell_type": "code",
   "execution_count": 3,
   "metadata": {},
   "outputs": [],
   "source": [
    "datadir = '/lustre/aoc/projects/fasttransients/staging/'\n",
    "\n",
    "SDMmininame = 'realfast_18B-405_TEST_R3_A_cut.58665.73435530093_1562005608240'\n",
    "miniSDMlist = glob.glob(datadir+SDMmininame)\n",
    "workdir = '/lustre/aoc/observers/nm-10222/rfgpu/Refinement/nbs/'\n",
    "gainpath = '/home/mchammer/evladata/telcal/'"
   ]
  },
  {
   "cell_type": "code",
   "execution_count": 4,
   "metadata": {},
   "outputs": [],
   "source": [
    "# datadir = '/lustre/aoc/projects/fasttransients/staging/'\n",
    "\n",
    "# SDMmininame = 'realfast_19A-397.sb37006961.eb37092350.58715.036993946764_1566274015550'\n",
    "# #'realfast_19A-397.sb37006961.eb37092350.58715.036993946764_1566270772899'\n",
    "# miniSDMlist = glob.glob(datadir+SDMmininame)\n",
    "# workdir = '/lustre/aoc/observers/nm-10222/rfgpu/Refinement/'\n",
    "# gainpath = '/home/mchammer/evladata/telcal/'"
   ]
  },
  {
   "cell_type": "code",
   "execution_count": 5,
   "metadata": {},
   "outputs": [
    {
     "name": "stderr",
     "output_type": "stream",
     "text": [
      "2019-08-22 13:20:41,855 - root - INFO - Searching for the gainfile 18B-405_TEST_R3_A_cut.58665.73435530093.GN in /home/mchammer/evladata/telcal/\n"
     ]
    }
   ],
   "source": [
    "gainfile = []\n",
    "for sdm in miniSDMlist:\n",
    "    sdmname = sdm.split('/')[-1]\n",
    "    datasetId = '{0}'.format('_'.join(sdmname.split('_')[1:-1]))\n",
    "    # # set the paths to the gainfile\n",
    "    gainname = datasetId + '.GN'\n",
    "    logging.info('Searching for the gainfile {0} in {1}'.format(gainname, gainpath))\n",
    "    for path, dirs, files in os.walk(gainpath):\n",
    "        for f in filter(lambda x: gainname in x, files):\n",
    "            gainfile.append(os.path.join(path, gainname))\n",
    "            break"
   ]
  },
  {
   "cell_type": "code",
   "execution_count": 6,
   "metadata": {},
   "outputs": [],
   "source": [
    "# gainfile = ['/home/mchammer/evladata/telcal/2019/08/19A-397.sb37006961.eb37092350.58715.036993946764.GN']"
   ]
  },
  {
   "cell_type": "code",
   "execution_count": 7,
   "metadata": {},
   "outputs": [
    {
     "data": {
      "text/plain": [
       "['/home/mchammer/evladata/telcal/2019/07/18B-405_TEST_R3_A_cut.58665.73435530093.GN']"
      ]
     },
     "execution_count": 7,
     "metadata": {},
     "output_type": "execute_result"
    }
   ],
   "source": [
    "gainfile"
   ]
  },
  {
   "cell_type": "markdown",
   "metadata": {},
   "source": [
    "# Inputs"
   ]
  },
  {
   "cell_type": "code",
   "execution_count": 8,
   "metadata": {},
   "outputs": [],
   "source": [
    "preffile = datadir+'realfast.yml' # Not being used currently\n",
    "search_sigma = 7\n",
    "refine = True\n",
    "classify = True\n",
    "\n",
    "# fine_dm_search = False\n",
    "\n",
    "# if fine_dm_search:\n",
    "#     dm = 1760\n",
    "#     dm_steps = 100\n",
    "#     dm_frac = 0.2"
   ]
  },
  {
   "cell_type": "code",
   "execution_count": 13,
   "metadata": {},
   "outputs": [],
   "source": [
    "prefs={'saveplots': True, 'savenoise': False, 'savesols': False,\n",
    "       'savecandcollection': True, 'savecanddata': True,\n",
    "       'applyonlineflags': True, 'fftmode': 'cuda', 'clustercands': (4,3), 'maxdm':500}\n",
    "\n",
    "# if fine_dm_search:\n",
    "#     logging.info('Setting DM array around DM {0}, from {1} to {2} in {3} steps'.\n",
    "#                  format(dm, dm-dm_frac*dm, dm+dm_frac*dm, dm_steps))\n",
    "#     prefs['dmarr'] = list(np.linspace(dm-dm_frac*dm, dm+dm_frac*dm, dm_steps))"
   ]
  },
  {
   "cell_type": "markdown",
   "metadata": {},
   "source": [
    "# Searching all miniSDMs"
   ]
  },
  {
   "cell_type": "code",
   "execution_count": 14,
   "metadata": {
    "scrolled": true
   },
   "outputs": [
    {
     "name": "stderr",
     "output_type": "stream",
     "text": [
      "2019-08-22 13:24:00,633 - rfpipe.metadata - INFO - Reading metadata from /lustre/aoc/projects/fasttransients/staging/realfast_18B-405_TEST_R3_A_cut.58665.73435530093_1562005608240, scan 1\n",
      "2019-08-22 13:24:01,740 - rfpipe.state - INFO - Metadata summary:\n",
      "2019-08-22 13:24:01,740 - rfpipe.state - INFO - \t Working directory and fileroot: /lustre/aoc/observers/nm-10222/rfgpu/realfast_analysis/refinement_notebooks, realfast_18B-405_TEST_R3_A_cut.58665.73435530093_1562005608240.1.1\n",
      "2019-08-22 13:24:01,741 - rfpipe.state - INFO - \t Using scan 1, source R3\n",
      "2019-08-22 13:24:01,741 - rfpipe.state - INFO - \t nants, nbl: 21, 210\n",
      "2019-08-22 13:24:01,741 - rfpipe.state - INFO - \t nchan, nspw: 896, 16\n",
      "2019-08-22 13:24:01,744 - rfpipe.state - INFO - \t Freq range: 1.012 -- 2.027\n",
      "2019-08-22 13:24:01,744 - rfpipe.state - INFO - \t Scan has 431 ints (4.3 s) and inttime 0.010 s\n",
      "2019-08-22 13:24:01,744 - rfpipe.state - INFO - \t 2 polarizations: ['RR', 'LL']\n",
      "2019-08-22 13:24:01,746 - rfpipe.state - INFO - \t Ideal uvgrid npix=(4608, 5184) and res=42 (oversample 1.0)\n",
      "2019-08-22 13:24:01,746 - rfpipe.state - INFO - Pipeline summary:\n",
      "2019-08-22 13:24:01,747 - rfpipe.state - INFO - \t Using 1 segment of 309 ints (3.1 s) with overlap of 1.5 s\n",
      "2019-08-22 13:24:01,747 - rfpipe.state - INFO - \t Searching 309 of 431 ints in scan\n",
      "2019-08-22 13:24:01,747 - rfpipe.state - INFO - \t Using pols ['RR', 'LL']\n",
      "2019-08-22 13:24:01,748 - rfpipe.state - INFO - No gainfile specified or found.\n",
      "2019-08-22 13:24:01,749 - rfpipe.state - INFO - \n",
      "2019-08-22 13:24:01,749 - rfpipe.state - INFO - \t Using cuda for image search using 1 thread.\n",
      "2019-08-22 13:24:01,749 - rfpipe.state - INFO - \t Image threshold of 7 sigma.\n",
      "2019-08-22 13:24:01,750 - rfpipe.state - INFO - \t Using 121 DMs from 0.0 to 500 and dts [1].\n",
      "2019-08-22 13:24:01,751 - rfpipe.state - INFO - \t Using uvgrid npix=(4608, 5184) and res=42 with 309 int chunks.\n",
      "2019-08-22 13:24:01,752 - rfpipe.state - INFO - \t Expect 1 thermal false positives per scan.\n",
      "2019-08-22 13:24:01,752 - rfpipe.state - INFO - \t Clustering candidates wth min_cluster_size=4 and min_samples=3\n",
      "2019-08-22 13:24:01,753 - rfpipe.state - INFO - \n",
      "2019-08-22 13:24:01,754 - rfpipe.state - INFO - \t Visibility memory usage is 1.0631577600000002 GB/segment when using cuda imaging.\n",
      "2019-08-22 13:24:01,755 - rfpipe.source - INFO - Reading segment 0 of scanId realfast_18B-405_TEST_R3_A_cut.58665.73435530093_1562005608240.1.1\n",
      "2019-08-22 13:24:01,756 - rfpipe.source - INFO - Reading scan 1, segment 0/0, times 1562005608.24 to 1562005611.33\n",
      "2019-08-22 13:24:01,756 - rfpipe.source - INFO - Reading 309 ints starting at int 0\n",
      "2019-08-22 13:24:09,064 - rfpipe.source - INFO - Read data with zero fraction of 0.001 for segment 0\n",
      "2019-08-22 13:24:12,143 - rfpipe.flagging - INFO - Found antennas to flag in time range 58665.76861388889-58665.768649652775 \n",
      "2019-08-22 13:24:12,787 - rfpipe.source - INFO - Applying calibration with /home/mchammer/evladata/telcal/2019/07/18B-405_TEST_R3_A_cut.58665.73435530093.GN\n",
      "2019-08-22 13:24:12,881 - rfpipe.calibration - INFO - Read telcalfile /home/mchammer/evladata/telcal/2019/07/18B-405_TEST_R3_A_cut.58665.73435530093.GN with 1 sources, 7 times, 32 IFIDs, and 21 antennas\n",
      "2019-08-22 13:24:12,883 - rfpipe.calibration - INFO - Selecting 672 solutions from calibrator J0217+7349 separated by 17.443916659103706 min (realtime mode).\n",
      "2019-08-22 13:24:12,885 - rfpipe.calibration - INFO - Flagging 31 solutions at MJD [58665.75651794], ant [ 1  3  4  5  6  8  9 11 12 13 14 17 18 20 23 24 26], and freqs ['A-0' 'A-1' 'A-2' 'A-3' 'A-4' 'A-5' 'A-6' 'A-7' 'B-7' 'C-5' 'C-6' 'D-0'\n",
      " 'D-5' 'D-6' 'D-7']) for low gain amplitude.\n",
      "2019-08-22 13:24:12,887 - rfpipe.calibration - INFO - Applying solutions from frequencies [1040. 1104. 1168. 1232. 1296. 1360. 1424. 1488. 1552. 1616. 1680. 1744.\n",
      " 1808. 1872. 1936. 2000.] to data frequencies [1040. 1104. 1168. 1232. 1296. 1360. 1424. 1488. 1552. 1616. 1680. 1744.\n",
      " 1808. 1872. 1936. 2000.]\n",
      "2019-08-22 13:24:13,999 - rfpipe.calibration - INFO - 956 of 5880 telcal solutions zeroed or flagged\n",
      "2019-08-22 13:24:14,000 - rfpipe.calibration - INFO - Flagged solutions for: Ant 1: 20, Ant 2: 18, Ant 3: 20, Ant 4: 20, Ant 5: 20, Ant 6: 20, Ant 7: 18, Ant 8: 20, Ant 9: 20, Ant 10: 0, Ant 11: 20, Ant 12: 20, Ant 13: 20, Ant 14: 20, Ant 15: 0, Ant 16: 0, Ant 17: 20, Ant 18: 20, Ant 19: 0, Ant 20: 20, Ant 21: 0, Ant 22: 18, Ant 23: 20, Ant 24: 20, Ant 25: 0, Ant 26: 40\n",
      "2019-08-22 13:24:14,619 - rfpipe.source - INFO - Flagging with version: latest\n",
      "/lustre/aoc/observers/nm-10222/anaconda3/envs/fetchrf/lib/python3.6/site-packages/numpy/ma/core.py:474: ComplexWarning: Casting complex values to real discards the imaginary part\n",
      "  fill_value = np.array(fill_value, copy=False, dtype=ndtype)\n",
      "2019-08-22 13:24:17,506 - rfpipe.flagging - INFO - flagged by badchtslide: 8/618 pol-times and 12/1792 pol-chans.\n",
      "2019-08-22 13:24:20,046 - rfpipe.flagging - INFO - flagged by badchtslide: 3/618 pol-times and 34/1792 pol-chans.\n",
      "2019-08-22 13:24:27,179 - rfpipe.flagging - INFO - badspw flagging finds deviations per spw: [ 3.70791937  7.78756117  4.69481712  5.15337169  6.57282744  0.08585054\n",
      "  0.16547182  0.17810643 12.25706322  7.82239563  0.91671748  0.19357537\n",
      "  0.18448328  0.19235802  0.37416044  0.41451693]\n",
      "2019-08-22 13:24:27,180 - rfpipe.flagging - INFO - flagged 8/16 spw ([ 0  1  2  3  4  8  9 10])\n",
      "2019-08-22 13:24:30,876 - rfpipe.flagging - INFO - flagged by blstd: 16158 of 553728 total channel/time/pol cells.\n",
      "2019-08-22 13:24:31,821 - rfpipe.source - INFO - No visibility subtraction done.\n",
      "2019-08-22 13:24:31,945 - rfpipe.search - WARNING - distributed not available. Using default GPU devicenum 0\n",
      "2019-08-22 13:24:31,946 - rfpipe.search - INFO - Using gpu devicenum(s): (0,)\n",
      "2019-08-22 13:24:35,498 - rfpipe.search - INFO - Gridded 99.98405612244898% of all baselines and channels\n",
      "2019-08-22 13:24:35,622 - rfpipe.search - INFO - Imaging 309 ints (0-308) in seg 0 at DM/dt 0.0/1 with image 4608x5184 (uvres 42) on GPU 0\n",
      "2019-08-22 13:24:37,623 - rfpipe.search - WARNING - rfgpu rms is 0 in ints [63, 278, 279, 280, 287, 288, 289].\n",
      "2019-08-22 13:24:37,630 - rfpipe.search - INFO - Imaging 308 ints (0-307) in seg 0 at DM/dt 4.2/1 with image 4608x5184 (uvres 42) on GPU 0\n",
      "2019-08-22 13:24:39,622 - rfpipe.search - WARNING - rfgpu rms is 0 in ints [63, 278, 279, 280, 287, 288, 289].\n",
      "2019-08-22 13:24:39,629 - rfpipe.search - INFO - Imaging 307 ints (0-306) in seg 0 at DM/dt 8.3/1 with image 4608x5184 (uvres 42) on GPU 0\n",
      "2019-08-22 13:24:41,615 - rfpipe.search - WARNING - rfgpu rms is 0 in ints [278, 279, 287, 288].\n",
      "2019-08-22 13:24:41,622 - rfpipe.search - INFO - Imaging 306 ints (0-305) in seg 0 at DM/dt 12.5/1 with image 4608x5184 (uvres 42) on GPU 0\n",
      "2019-08-22 13:24:43,601 - rfpipe.search - WARNING - rfgpu rms is 0 in ints [278, 279, 287, 288].\n",
      "2019-08-22 13:24:43,609 - rfpipe.search - INFO - Imaging 304 ints (0-303) in seg 0 at DM/dt 16.6/1 with image 4608x5184 (uvres 42) on GPU 0\n",
      "2019-08-22 13:24:45,574 - rfpipe.search - WARNING - rfgpu rms is 0 in ints [278, 287].\n",
      "2019-08-22 13:24:45,582 - rfpipe.search - INFO - Imaging 303 ints (0-302) in seg 0 at DM/dt 20.8/1 with image 4608x5184 (uvres 42) on GPU 0\n",
      "2019-08-22 13:24:47,541 - rfpipe.search - WARNING - rfgpu rms is 0 in ints [278, 287].\n",
      "2019-08-22 13:24:47,548 - rfpipe.search - INFO - Imaging 302 ints (0-301) in seg 0 at DM/dt 24.9/1 with image 4608x5184 (uvres 42) on GPU 0\n",
      "2019-08-22 13:24:49,508 - rfpipe.search - INFO - Imaging 301 ints (0-300) in seg 0 at DM/dt 29.1/1 with image 4608x5184 (uvres 42) on GPU 0\n",
      "2019-08-22 13:24:51,461 - rfpipe.search - INFO - Imaging 299 ints (0-298) in seg 0 at DM/dt 33.2/1 with image 4608x5184 (uvres 42) on GPU 0\n",
      "2019-08-22 13:24:53,401 - rfpipe.search - INFO - Imaging 298 ints (0-297) in seg 0 at DM/dt 37.4/1 with image 4608x5184 (uvres 42) on GPU 0\n",
      "2019-08-22 13:24:55,336 - rfpipe.search - INFO - Imaging 297 ints (0-296) in seg 0 at DM/dt 41.5/1 with image 4608x5184 (uvres 42) on GPU 0\n",
      "2019-08-22 13:24:57,264 - rfpipe.search - INFO - Imaging 296 ints (0-295) in seg 0 at DM/dt 45.7/1 with image 4608x5184 (uvres 42) on GPU 0\n",
      "2019-08-22 13:24:59,185 - rfpipe.search - INFO - Imaging 294 ints (0-293) in seg 0 at DM/dt 49.8/1 with image 4608x5184 (uvres 42) on GPU 0\n"
     ]
    },
    {
     "name": "stderr",
     "output_type": "stream",
     "text": [
      "2019-08-22 13:25:01,093 - rfpipe.search - INFO - Imaging 293 ints (0-292) in seg 0 at DM/dt 54.0/1 with image 4608x5184 (uvres 42) on GPU 0\n",
      "2019-08-22 13:25:02,996 - rfpipe.search - INFO - Imaging 292 ints (0-291) in seg 0 at DM/dt 58.2/1 with image 4608x5184 (uvres 42) on GPU 0\n",
      "2019-08-22 13:25:04,892 - rfpipe.search - INFO - Imaging 291 ints (0-290) in seg 0 at DM/dt 62.4/1 with image 4608x5184 (uvres 42) on GPU 0\n",
      "2019-08-22 13:25:06,781 - rfpipe.search - INFO - Imaging 289 ints (0-288) in seg 0 at DM/dt 66.6/1 with image 4608x5184 (uvres 42) on GPU 0\n",
      "2019-08-22 13:25:08,657 - rfpipe.search - INFO - Imaging 288 ints (0-287) in seg 0 at DM/dt 70.8/1 with image 4608x5184 (uvres 42) on GPU 0\n",
      "2019-08-22 13:25:10,527 - rfpipe.search - INFO - Imaging 287 ints (0-286) in seg 0 at DM/dt 75.0/1 with image 4608x5184 (uvres 42) on GPU 0\n",
      "2019-08-22 13:25:12,390 - rfpipe.search - INFO - Imaging 285 ints (0-284) in seg 0 at DM/dt 79.2/1 with image 4608x5184 (uvres 42) on GPU 0\n",
      "2019-08-22 13:25:14,240 - rfpipe.search - INFO - Imaging 284 ints (0-283) in seg 0 at DM/dt 83.4/1 with image 4608x5184 (uvres 42) on GPU 0\n",
      "2019-08-22 13:25:16,084 - rfpipe.search - INFO - Imaging 283 ints (0-282) in seg 0 at DM/dt 87.6/1 with image 4608x5184 (uvres 42) on GPU 0\n",
      "2019-08-22 13:25:16,428 - rfpipe.search - INFO - Got one! SNR1 7.5 candidate at (0, 52, 21, 0, 0) and (l, m) = (-0.00169, -0.00487)\n",
      "2019-08-22 13:25:17,922 - rfpipe.search - INFO - Imaging 282 ints (0-281) in seg 0 at DM/dt 91.8/1 with image 4608x5184 (uvres 42) on GPU 0\n",
      "2019-08-22 13:25:19,754 - rfpipe.search - INFO - Imaging 280 ints (0-279) in seg 0 at DM/dt 96.0/1 with image 4608x5184 (uvres 42) on GPU 0\n",
      "2019-08-22 13:25:21,572 - rfpipe.search - INFO - Imaging 279 ints (0-278) in seg 0 at DM/dt 100.2/1 with image 4608x5184 (uvres 42) on GPU 0\n",
      "2019-08-22 13:25:23,383 - rfpipe.search - INFO - Imaging 278 ints (0-277) in seg 0 at DM/dt 104.4/1 with image 4608x5184 (uvres 42) on GPU 0\n",
      "2019-08-22 13:25:25,188 - rfpipe.search - INFO - Imaging 276 ints (0-275) in seg 0 at DM/dt 108.6/1 with image 4608x5184 (uvres 42) on GPU 0\n",
      "2019-08-22 13:25:26,980 - rfpipe.search - INFO - Imaging 275 ints (0-274) in seg 0 at DM/dt 112.8/1 with image 4608x5184 (uvres 42) on GPU 0\n",
      "2019-08-22 13:25:28,766 - rfpipe.search - INFO - Imaging 274 ints (0-273) in seg 0 at DM/dt 117.0/1 with image 4608x5184 (uvres 42) on GPU 0\n",
      "2019-08-22 13:25:30,546 - rfpipe.search - INFO - Imaging 273 ints (0-272) in seg 0 at DM/dt 121.2/1 with image 4608x5184 (uvres 42) on GPU 0\n",
      "2019-08-22 13:25:32,319 - rfpipe.search - INFO - Imaging 271 ints (0-270) in seg 0 at DM/dt 125.4/1 with image 4608x5184 (uvres 42) on GPU 0\n",
      "2019-08-22 13:25:34,079 - rfpipe.search - INFO - Imaging 270 ints (0-269) in seg 0 at DM/dt 129.6/1 with image 4608x5184 (uvres 42) on GPU 0\n",
      "2019-08-22 13:25:35,833 - rfpipe.search - INFO - Imaging 269 ints (0-268) in seg 0 at DM/dt 133.8/1 with image 4608x5184 (uvres 42) on GPU 0\n",
      "2019-08-22 13:25:37,581 - rfpipe.search - INFO - Imaging 268 ints (0-267) in seg 0 at DM/dt 138.0/1 with image 4608x5184 (uvres 42) on GPU 0\n",
      "2019-08-22 13:25:39,321 - rfpipe.search - INFO - Imaging 266 ints (0-265) in seg 0 at DM/dt 142.2/1 with image 4608x5184 (uvres 42) on GPU 0\n",
      "2019-08-22 13:25:41,050 - rfpipe.search - INFO - Imaging 265 ints (0-264) in seg 0 at DM/dt 146.4/1 with image 4608x5184 (uvres 42) on GPU 0\n",
      "2019-08-22 13:25:42,771 - rfpipe.search - INFO - Imaging 264 ints (0-263) in seg 0 at DM/dt 150.6/1 with image 4608x5184 (uvres 42) on GPU 0\n",
      "2019-08-22 13:25:44,486 - rfpipe.search - INFO - Imaging 262 ints (0-261) in seg 0 at DM/dt 154.8/1 with image 4608x5184 (uvres 42) on GPU 0\n",
      "2019-08-22 13:25:46,188 - rfpipe.search - INFO - Imaging 261 ints (0-260) in seg 0 at DM/dt 159.0/1 with image 4608x5184 (uvres 42) on GPU 0\n",
      "2019-08-22 13:25:47,883 - rfpipe.search - INFO - Imaging 260 ints (0-259) in seg 0 at DM/dt 163.2/1 with image 4608x5184 (uvres 42) on GPU 0\n",
      "2019-08-22 13:25:49,572 - rfpipe.search - INFO - Imaging 259 ints (0-258) in seg 0 at DM/dt 167.4/1 with image 4608x5184 (uvres 42) on GPU 0\n",
      "2019-08-22 13:25:51,255 - rfpipe.search - INFO - Imaging 257 ints (0-256) in seg 0 at DM/dt 171.6/1 with image 4608x5184 (uvres 42) on GPU 0\n",
      "2019-08-22 13:25:52,925 - rfpipe.search - INFO - Imaging 256 ints (0-255) in seg 0 at DM/dt 175.8/1 with image 4608x5184 (uvres 42) on GPU 0\n",
      "2019-08-22 13:25:54,588 - rfpipe.search - INFO - Imaging 255 ints (0-254) in seg 0 at DM/dt 180.0/1 with image 4608x5184 (uvres 42) on GPU 0\n",
      "2019-08-22 13:25:56,245 - rfpipe.search - INFO - Imaging 253 ints (0-252) in seg 0 at DM/dt 184.2/1 with image 4608x5184 (uvres 42) on GPU 0\n",
      "2019-08-22 13:25:56,660 - rfpipe.search - INFO - Got one! SNR1 7.3 candidate at (0, 63, 44, 0, 0) and (l, m) = (-0.00169, -0.00487)\n",
      "2019-08-22 13:25:57,890 - rfpipe.search - INFO - Imaging 252 ints (0-251) in seg 0 at DM/dt 188.4/1 with image 4608x5184 (uvres 42) on GPU 0\n",
      "2019-08-22 13:25:59,527 - rfpipe.search - INFO - Imaging 251 ints (0-250) in seg 0 at DM/dt 192.6/1 with image 4608x5184 (uvres 42) on GPU 0\n",
      "2019-08-22 13:26:01,158 - rfpipe.search - INFO - Imaging 250 ints (0-249) in seg 0 at DM/dt 196.8/1 with image 4608x5184 (uvres 42) on GPU 0\n",
      "2019-08-22 13:26:02,783 - rfpipe.search - INFO - Imaging 248 ints (0-247) in seg 0 at DM/dt 201.0/1 with image 4608x5184 (uvres 42) on GPU 0\n",
      "2019-08-22 13:26:04,395 - rfpipe.search - INFO - Imaging 247 ints (0-246) in seg 0 at DM/dt 205.2/1 with image 4608x5184 (uvres 42) on GPU 0\n",
      "2019-08-22 13:26:06,000 - rfpipe.search - INFO - Imaging 246 ints (0-245) in seg 0 at DM/dt 209.4/1 with image 4608x5184 (uvres 42) on GPU 0\n",
      "2019-08-22 13:26:07,600 - rfpipe.search - INFO - Imaging 245 ints (0-244) in seg 0 at DM/dt 213.6/1 with image 4608x5184 (uvres 42) on GPU 0\n",
      "2019-08-22 13:26:09,192 - rfpipe.search - INFO - Imaging 243 ints (0-242) in seg 0 at DM/dt 217.8/1 with image 4608x5184 (uvres 42) on GPU 0\n",
      "2019-08-22 13:26:10,772 - rfpipe.search - INFO - Imaging 242 ints (0-241) in seg 0 at DM/dt 222.0/1 with image 4608x5184 (uvres 42) on GPU 0\n",
      "2019-08-22 13:26:12,345 - rfpipe.search - INFO - Imaging 241 ints (0-240) in seg 0 at DM/dt 226.2/1 with image 4608x5184 (uvres 42) on GPU 0\n",
      "2019-08-22 13:26:13,912 - rfpipe.search - INFO - Imaging 239 ints (0-238) in seg 0 at DM/dt 230.4/1 with image 4608x5184 (uvres 42) on GPU 0\n",
      "2019-08-22 13:26:15,466 - rfpipe.search - INFO - Imaging 238 ints (0-237) in seg 0 at DM/dt 234.6/1 with image 4608x5184 (uvres 42) on GPU 0\n",
      "2019-08-22 13:26:17,013 - rfpipe.search - INFO - Imaging 237 ints (0-236) in seg 0 at DM/dt 238.8/1 with image 4608x5184 (uvres 42) on GPU 0\n",
      "2019-08-22 13:26:18,554 - rfpipe.search - INFO - Imaging 236 ints (0-235) in seg 0 at DM/dt 243.0/1 with image 4608x5184 (uvres 42) on GPU 0\n",
      "2019-08-22 13:26:20,088 - rfpipe.search - INFO - Imaging 234 ints (0-233) in seg 0 at DM/dt 247.2/1 with image 4608x5184 (uvres 42) on GPU 0\n",
      "2019-08-22 13:26:21,610 - rfpipe.search - INFO - Imaging 233 ints (0-232) in seg 0 at DM/dt 251.4/1 with image 4608x5184 (uvres 42) on GPU 0\n",
      "2019-08-22 13:26:23,124 - rfpipe.search - INFO - Imaging 232 ints (0-231) in seg 0 at DM/dt 255.6/1 with image 4608x5184 (uvres 42) on GPU 0\n",
      "2019-08-22 13:26:24,633 - rfpipe.search - INFO - Imaging 230 ints (0-229) in seg 0 at DM/dt 259.8/1 with image 4608x5184 (uvres 42) on GPU 0\n",
      "2019-08-22 13:26:26,129 - rfpipe.search - INFO - Imaging 229 ints (0-228) in seg 0 at DM/dt 264.0/1 with image 4608x5184 (uvres 42) on GPU 0\n",
      "2019-08-22 13:26:27,618 - rfpipe.search - INFO - Imaging 228 ints (0-227) in seg 0 at DM/dt 268.2/1 with image 4608x5184 (uvres 42) on GPU 0\n",
      "2019-08-22 13:26:29,100 - rfpipe.search - INFO - Imaging 227 ints (0-226) in seg 0 at DM/dt 272.4/1 with image 4608x5184 (uvres 42) on GPU 0\n",
      "2019-08-22 13:26:30,576 - rfpipe.search - INFO - Imaging 225 ints (0-224) in seg 0 at DM/dt 276.6/1 with image 4608x5184 (uvres 42) on GPU 0\n",
      "2019-08-22 13:26:32,040 - rfpipe.search - INFO - Imaging 224 ints (0-223) in seg 0 at DM/dt 280.8/1 with image 4608x5184 (uvres 42) on GPU 0\n",
      "2019-08-22 13:26:33,497 - rfpipe.search - INFO - Imaging 223 ints (0-222) in seg 0 at DM/dt 285.0/1 with image 4608x5184 (uvres 42) on GPU 0\n",
      "2019-08-22 13:26:34,947 - rfpipe.search - INFO - Imaging 222 ints (0-221) in seg 0 at DM/dt 289.2/1 with image 4608x5184 (uvres 42) on GPU 0\n"
     ]
    },
    {
     "name": "stderr",
     "output_type": "stream",
     "text": [
      "2019-08-22 13:26:36,391 - rfpipe.search - INFO - Imaging 220 ints (0-219) in seg 0 at DM/dt 293.4/1 with image 4608x5184 (uvres 42) on GPU 0\n",
      "2019-08-22 13:26:37,822 - rfpipe.search - INFO - Imaging 219 ints (0-218) in seg 0 at DM/dt 297.6/1 with image 4608x5184 (uvres 42) on GPU 0\n",
      "2019-08-22 13:26:39,246 - rfpipe.search - INFO - Imaging 218 ints (0-217) in seg 0 at DM/dt 301.8/1 with image 4608x5184 (uvres 42) on GPU 0\n",
      "2019-08-22 13:26:40,529 - rfpipe.search - INFO - Got one! SNR1 7.3 candidate at (0, 197, 72, 0, 0) and (l, m) = (-0.00169, -0.00486)\n",
      "2019-08-22 13:26:40,665 - rfpipe.search - INFO - Imaging 216 ints (0-215) in seg 0 at DM/dt 306.0/1 with image 4608x5184 (uvres 42) on GPU 0\n",
      "2019-08-22 13:26:42,070 - rfpipe.search - INFO - Imaging 215 ints (0-214) in seg 0 at DM/dt 310.2/1 with image 4608x5184 (uvres 42) on GPU 0\n",
      "2019-08-22 13:26:43,469 - rfpipe.search - INFO - Imaging 214 ints (0-213) in seg 0 at DM/dt 314.4/1 with image 4608x5184 (uvres 42) on GPU 0\n",
      "2019-08-22 13:26:44,861 - rfpipe.search - INFO - Imaging 213 ints (0-212) in seg 0 at DM/dt 318.6/1 with image 4608x5184 (uvres 42) on GPU 0\n",
      "2019-08-22 13:26:45,321 - rfpipe.search - INFO - Got one! SNR1 7.3 candidate at (0, 70, 76, 0, 0) and (l, m) = (-0.00169, -0.00487)\n",
      "2019-08-22 13:26:46,247 - rfpipe.search - INFO - Imaging 211 ints (0-210) in seg 0 at DM/dt 322.8/1 with image 4608x5184 (uvres 42) on GPU 0\n",
      "2019-08-22 13:26:46,708 - rfpipe.search - INFO - Got one! SNR1 7.1 candidate at (0, 70, 77, 0, 0) and (l, m) = (-0.00169, -0.00487)\n",
      "2019-08-22 13:26:47,621 - rfpipe.search - INFO - Imaging 210 ints (0-209) in seg 0 at DM/dt 327.0/1 with image 4608x5184 (uvres 42) on GPU 0\n",
      "2019-08-22 13:26:48,986 - rfpipe.search - INFO - Imaging 209 ints (0-208) in seg 0 at DM/dt 331.2/1 with image 4608x5184 (uvres 42) on GPU 0\n",
      "2019-08-22 13:26:50,346 - rfpipe.search - INFO - Imaging 207 ints (0-206) in seg 0 at DM/dt 335.4/1 with image 4608x5184 (uvres 42) on GPU 0\n",
      "2019-08-22 13:26:51,692 - rfpipe.search - INFO - Imaging 206 ints (0-205) in seg 0 at DM/dt 339.6/1 with image 4608x5184 (uvres 42) on GPU 0\n",
      "2019-08-22 13:26:53,032 - rfpipe.search - INFO - Imaging 205 ints (0-204) in seg 0 at DM/dt 343.8/1 with image 4608x5184 (uvres 42) on GPU 0\n",
      "2019-08-22 13:26:54,366 - rfpipe.search - INFO - Imaging 204 ints (0-203) in seg 0 at DM/dt 348.0/1 with image 4608x5184 (uvres 42) on GPU 0\n",
      "2019-08-22 13:26:55,693 - rfpipe.search - INFO - Imaging 202 ints (0-201) in seg 0 at DM/dt 352.2/1 with image 4608x5184 (uvres 42) on GPU 0\n",
      "2019-08-22 13:26:56,361 - rfpipe.search - INFO - Got one! SNR1 7.1 candidate at (0, 102, 84, 0, 0) and (l, m) = (-0.00169, -0.00487)\n",
      "2019-08-22 13:26:57,009 - rfpipe.search - INFO - Imaging 201 ints (0-200) in seg 0 at DM/dt 356.4/1 with image 4608x5184 (uvres 42) on GPU 0\n",
      "2019-08-22 13:26:57,677 - rfpipe.search - INFO - Got one! SNR1 7.3 candidate at (0, 102, 85, 0, 0) and (l, m) = (-0.00169, -0.00487)\n",
      "2019-08-22 13:26:58,318 - rfpipe.search - INFO - Imaging 200 ints (0-199) in seg 0 at DM/dt 360.6/1 with image 4608x5184 (uvres 42) on GPU 0\n",
      "2019-08-22 13:26:59,619 - rfpipe.search - INFO - Imaging 199 ints (0-198) in seg 0 at DM/dt 364.8/1 with image 4608x5184 (uvres 42) on GPU 0\n",
      "2019-08-22 13:27:00,914 - rfpipe.search - INFO - Imaging 197 ints (0-196) in seg 0 at DM/dt 369.0/1 with image 4608x5184 (uvres 42) on GPU 0\n",
      "2019-08-22 13:27:02,196 - rfpipe.search - INFO - Imaging 196 ints (0-195) in seg 0 at DM/dt 373.2/1 with image 4608x5184 (uvres 42) on GPU 0\n",
      "2019-08-22 13:27:03,471 - rfpipe.search - INFO - Imaging 195 ints (0-194) in seg 0 at DM/dt 377.4/1 with image 4608x5184 (uvres 42) on GPU 0\n",
      "2019-08-22 13:27:04,740 - rfpipe.search - INFO - Imaging 193 ints (0-192) in seg 0 at DM/dt 381.6/1 with image 4608x5184 (uvres 42) on GPU 0\n",
      "2019-08-22 13:27:05,996 - rfpipe.search - INFO - Imaging 192 ints (0-191) in seg 0 at DM/dt 385.8/1 with image 4608x5184 (uvres 42) on GPU 0\n",
      "2019-08-22 13:27:07,246 - rfpipe.search - INFO - Imaging 191 ints (0-190) in seg 0 at DM/dt 390.0/1 with image 4608x5184 (uvres 42) on GPU 0\n",
      "2019-08-22 13:27:08,489 - rfpipe.search - INFO - Imaging 190 ints (0-189) in seg 0 at DM/dt 394.2/1 with image 4608x5184 (uvres 42) on GPU 0\n",
      "2019-08-22 13:27:09,726 - rfpipe.search - INFO - Imaging 188 ints (0-187) in seg 0 at DM/dt 398.4/1 with image 4608x5184 (uvres 42) on GPU 0\n",
      "2019-08-22 13:27:10,950 - rfpipe.search - INFO - Imaging 187 ints (0-186) in seg 0 at DM/dt 402.6/1 with image 4608x5184 (uvres 42) on GPU 0\n",
      "2019-08-22 13:27:12,167 - rfpipe.search - INFO - Imaging 186 ints (0-185) in seg 0 at DM/dt 406.8/1 with image 4608x5184 (uvres 42) on GPU 0\n",
      "2019-08-22 13:27:13,378 - rfpipe.search - INFO - Imaging 185 ints (0-184) in seg 0 at DM/dt 411.0/1 with image 4608x5184 (uvres 42) on GPU 0\n",
      "2019-08-22 13:27:14,582 - rfpipe.search - INFO - Imaging 183 ints (0-182) in seg 0 at DM/dt 415.2/1 with image 4608x5184 (uvres 42) on GPU 0\n",
      "2019-08-22 13:27:15,774 - rfpipe.search - INFO - Imaging 182 ints (0-181) in seg 0 at DM/dt 419.4/1 with image 4608x5184 (uvres 42) on GPU 0\n",
      "2019-08-22 13:27:16,959 - rfpipe.search - INFO - Imaging 181 ints (0-180) in seg 0 at DM/dt 423.6/1 with image 4608x5184 (uvres 42) on GPU 0\n",
      "2019-08-22 13:27:18,137 - rfpipe.search - INFO - Imaging 179 ints (0-178) in seg 0 at DM/dt 427.8/1 with image 4608x5184 (uvres 42) on GPU 0\n",
      "2019-08-22 13:27:19,303 - rfpipe.search - INFO - Imaging 178 ints (0-177) in seg 0 at DM/dt 432.0/1 with image 4608x5184 (uvres 42) on GPU 0\n",
      "2019-08-22 13:27:20,462 - rfpipe.search - INFO - Imaging 177 ints (0-176) in seg 0 at DM/dt 436.2/1 with image 4608x5184 (uvres 42) on GPU 0\n",
      "2019-08-22 13:27:21,615 - rfpipe.search - INFO - Imaging 176 ints (0-175) in seg 0 at DM/dt 440.4/1 with image 4608x5184 (uvres 42) on GPU 0\n",
      "2019-08-22 13:27:22,761 - rfpipe.search - INFO - Imaging 174 ints (0-173) in seg 0 at DM/dt 444.6/1 with image 4608x5184 (uvres 42) on GPU 0\n",
      "2019-08-22 13:27:23,894 - rfpipe.search - INFO - Imaging 173 ints (0-172) in seg 0 at DM/dt 448.8/1 with image 4608x5184 (uvres 42) on GPU 0\n",
      "2019-08-22 13:27:25,021 - rfpipe.search - INFO - Imaging 172 ints (0-171) in seg 0 at DM/dt 453.0/1 with image 4608x5184 (uvres 42) on GPU 0\n",
      "2019-08-22 13:27:26,141 - rfpipe.search - INFO - Imaging 170 ints (0-169) in seg 0 at DM/dt 457.2/1 with image 4608x5184 (uvres 42) on GPU 0\n",
      "2019-08-22 13:27:27,248 - rfpipe.search - INFO - Imaging 169 ints (0-168) in seg 0 at DM/dt 461.4/1 with image 4608x5184 (uvres 42) on GPU 0\n",
      "2019-08-22 13:27:28,349 - rfpipe.search - INFO - Imaging 168 ints (0-167) in seg 0 at DM/dt 465.6/1 with image 4608x5184 (uvres 42) on GPU 0\n",
      "2019-08-22 13:27:29,443 - rfpipe.search - INFO - Imaging 167 ints (0-166) in seg 0 at DM/dt 469.8/1 with image 4608x5184 (uvres 42) on GPU 0\n",
      "2019-08-22 13:27:30,531 - rfpipe.search - INFO - Imaging 165 ints (0-164) in seg 0 at DM/dt 474.0/1 with image 4608x5184 (uvres 42) on GPU 0\n",
      "2019-08-22 13:27:31,606 - rfpipe.search - INFO - Imaging 164 ints (0-163) in seg 0 at DM/dt 478.2/1 with image 4608x5184 (uvres 42) on GPU 0\n",
      "2019-08-22 13:27:32,674 - rfpipe.search - INFO - Imaging 163 ints (0-162) in seg 0 at DM/dt 482.4/1 with image 4608x5184 (uvres 42) on GPU 0\n",
      "2019-08-22 13:27:33,737 - rfpipe.search - INFO - Imaging 162 ints (0-161) in seg 0 at DM/dt 486.6/1 with image 4608x5184 (uvres 42) on GPU 0\n",
      "2019-08-22 13:27:34,792 - rfpipe.search - INFO - Imaging 160 ints (0-159) in seg 0 at DM/dt 490.8/1 with image 4608x5184 (uvres 42) on GPU 0\n",
      "2019-08-22 13:27:35,834 - rfpipe.search - INFO - Imaging 159 ints (0-158) in seg 0 at DM/dt 495.0/1 with image 4608x5184 (uvres 42) on GPU 0\n",
      "2019-08-22 13:27:36,871 - rfpipe.search - INFO - Imaging 158 ints (0-157) in seg 0 at DM/dt 499.2/1 with image 4608x5184 (uvres 42) on GPU 0\n",
      "2019-08-22 13:27:37,900 - rfpipe.search - INFO - Imaging 157 ints (0-156) in seg 0 at DM/dt 500.0/1 with image 4608x5184 (uvres 42) on GPU 0\n",
      "2019-08-22 13:27:38,918 - rfpipe.search - INFO - First pass found 7 candidates in seg 0.\n",
      "2019-08-22 13:27:39,045 - rfpipe.candidates - INFO - Clustering parameters set to (4,3) and downsampling xy by 1.\n",
      "2019-08-22 13:27:39,050 - rfpipe.candidates - INFO - Found 1 clusters and 0 unclustered candidates for min cluster size 4\n",
      "2019-08-22 13:27:39,178 - rfpipe.reproduce - INFO - Generating canddata for 1 candidates\n"
     ]
    },
    {
     "name": "stderr",
     "output_type": "stream",
     "text": [
      "2019-08-22 13:27:39,197 - rfpipe.candidates - INFO - Calculating normal probability distribution for 7 event in 893143646208.0 trials\n",
      "2019-08-22 13:27:39,198 - rfpipe.reproduce - INFO - Zscore/SNR for candidates(s): [(7.114948182342712, 7.4869943), (6.805400818265577, 7.2728553), (6.889517632701082, 7.2871594), (6.961827401979237, 7.3221574), (6.77645372853965, 7.127565), (6.752267237470937, 7.064553), (6.841487427722622, 7.2729125)]\n",
      "2019-08-22 13:27:45,099 - rfpipe.reproduce - INFO - Cluster 0/0 has 7 candidates and max detected SNR 7.5 at (0, 52, 21, 0, 0)\n",
      "2019-08-22 13:27:45,190 - rfpipe.search - INFO - Correcting by delay/resampling 26/1 ints in single mode\n",
      "2019-08-22 13:27:45,275 - rfpipe.search - INFO - Resampling data of length 309 by a factor of 1\n",
      "2019-08-22 13:27:47,484 - rfpipe.search - INFO - Dedispersing up to delay shift of 26 integrations\n",
      "2019-08-22 13:27:51,382 - rfpipe.reproduce - INFO - Calculated snrk of 2.5357752005215977 after detection. Adding it to CandData.\n",
      "2019-08-22 13:27:51,447 - rfpipe.search - INFO - Calculating FFT wisdom...\n",
      "2019-08-22 13:28:08,243 - rfpipe.candidates - INFO - Making 1 candidate plots.\n",
      "2019-08-22 13:28:08,400 - rfpipe.candidates - INFO - Plotting candloc (0, 52, 21, 0, 0) with SNR 7.5 and image/data shapes: (4608, 5184)/(60, 896, 2)\n",
      "2019-08-22 13:28:08,401 - rfpipe.candidates - INFO - Peak (RA, Dec): (1 56 10.653334698169772, 65 27 39.80810518773296)\n",
      "2019-08-22 13:28:10,111 - rfpipe.candidates - INFO - Wrote candidate plot to /lustre/aoc/observers/nm-10222/rfgpu/Refinement/nbs/cands_realfast_18B-405_TEST_R3_A_cut.58665.73435530093_1562005608240.1.1_seg0-i52-dm21-dt0.png\n",
      "2019-08-22 13:28:10,111 - rfpipe.candidates - INFO - Calculating features for candidate.\n",
      "2019-08-22 13:28:13,644 - rfpipe.candidates - INFO - Saving 1 candidate with canddata to /lustre/aoc/observers/nm-10222/rfgpu/Refinement/nbs/cands_realfast_18B-405_TEST_R3_A_cut.58665.73435530093_1562005608240.1.1.pkl.\n"
     ]
    }
   ],
   "source": [
    "for index, sdm in enumerate(miniSDMlist):\n",
    "    st = rfpipe.state.State(sdmfile=os.path.join(datadir, sdm), sdmscan=1, inprefs = prefs)#preffile = preffile, name='NRAOdefaultS')\n",
    "    #inprefs = prefs)\n",
    "    st.prefs.workdir = workdir\n",
    "    st.prefs.gainfile = gainfile[index]\n",
    "    st.prefs.sigma_image1 = search_sigma\n",
    "    st.prefs.savecanddata = True\n",
    "    \n",
    "    cc = pipeline.pipeline_scan(st)"
   ]
  },
  {
   "cell_type": "markdown",
   "metadata": {},
   "source": [
    "# Classify and generate refinement plots"
   ]
  },
  {
   "cell_type": "code",
   "execution_count": 29,
   "metadata": {},
   "outputs": [
    {
     "data": {
      "text/plain": [
       "[CandData for scanId realfast_19A-397.sb37006961.eb37092350.58715.036993946764_1566274015550.1.1 at loc (0, 183, 0, 0, 0),\n",
       " CandData for scanId realfast_19A-397.sb37006961.eb37092350.58715.036993946764_1566274015550.1.1 at loc (0, 189, 0, 0, 0),\n",
       " CandData for scanId realfast_19A-397.sb37006961.eb37092350.58715.036993946764_1566274015550.1.1 at loc (0, 191, 0, 0, 0),\n",
       " CandData for scanId realfast_19A-397.sb37006961.eb37092350.58715.036993946764_1566274015550.1.1 at loc (0, 183, 1, 0, 0),\n",
       " CandData for scanId realfast_19A-397.sb37006961.eb37092350.58715.036993946764_1566274015550.1.1 at loc (0, 189, 1, 0, 0),\n",
       " CandData for scanId realfast_19A-397.sb37006961.eb37092350.58715.036993946764_1566274015550.1.1 at loc (0, 191, 1, 0, 0),\n",
       " CandData for scanId realfast_19A-397.sb37006961.eb37092350.58715.036993946764_1566274015550.1.1 at loc (0, 183, 3, 0, 0),\n",
       " CandData for scanId realfast_19A-397.sb37006961.eb37092350.58715.036993946764_1566274015550.1.1 at loc (0, 191, 3, 0, 0),\n",
       " CandData for scanId realfast_19A-397.sb37006961.eb37092350.58715.036993946764_1566274015550.1.1 at loc (0, 191, 4, 0, 0),\n",
       " CandData for scanId realfast_19A-397.sb37006961.eb37092350.58715.036993946764_1566274015550.1.1 at loc (0, 196, 5, 0, 0),\n",
       " CandData for scanId realfast_19A-397.sb37006961.eb37092350.58715.036993946764_1566274015550.1.1 at loc (0, 184, 14, 0, 0),\n",
       " CandData for scanId realfast_19A-397.sb37006961.eb37092350.58715.036993946764_1566274015550.1.1 at loc (0, 22, 13, 3, 0),\n",
       " CandData for scanId realfast_19A-397.sb37006961.eb37092350.58715.036993946764_1566274015550.1.1 at loc (0, 24, 17, 3, 0),\n",
       " CandData for scanId realfast_19A-397.sb37006961.eb37092350.58715.036993946764_1566274015550.1.1 at loc (0, 21, 18, 3, 0),\n",
       " CandData for scanId realfast_19A-397.sb37006961.eb37092350.58715.036993946764_1566274015550.1.1 at loc (0, 22, 18, 3, 0),\n",
       " CandData for scanId realfast_19A-397.sb37006961.eb37092350.58715.036993946764_1566274015550.1.1 at loc (0, 23, 18, 3, 0),\n",
       " CandData for scanId realfast_19A-397.sb37006961.eb37092350.58715.036993946764_1566274015550.1.1 at loc (0, 22, 19, 3, 0)]"
      ]
     },
     "execution_count": 29,
     "metadata": {},
     "output_type": "execute_result"
    }
   ],
   "source": [
    "cc.canddata"
   ]
  },
  {
   "cell_type": "code",
   "execution_count": 31,
   "metadata": {
    "scrolled": false
   },
   "outputs": [
    {
     "name": "stderr",
     "output_type": "stream",
     "text": [
      "2019-08-20 21:54:45,162 - root - INFO - Refining and classifying pkl: /lustre/aoc/observers/nm-10222/rfgpu/Refinement/cands_realfast_19A-397.sb37006961.eb37092350.58715.036993946764_1566274015550.1.1.pkl\n",
      "2019-08-20 21:54:45,399 - root - INFO - No candidate was found in cc: CandCollection for realfast_19A-397.sb37006961.eb37092350.58715.036993946764_1566274015550, scan 1, segment 0 with 17 candidates\n",
      "2019-08-20 21:54:45,404 - rfpipe.candidates - INFO - Timewindow length is 60\n",
      "2019-08-20 21:54:45,404 - rfpipe.candidates - INFO - Generating DM-time for candid realfast_19A-397.sb37006961.eb37092350.58715.036993946764_1566274015550.1.1_seg0-i183-dm0-dt0 in DM range 0.00--0.00 pc/cm3\n",
      "2019-08-20 21:54:45,405 - rfpipe.candidates - INFO - Using gpu devicenum: 0\n"
     ]
    },
    {
     "ename": "NameError",
     "evalue": "name 'device' is not defined",
     "output_type": "error",
     "traceback": [
      "\u001b[0;31m---------------------------------------------------------------------------\u001b[0m",
      "\u001b[0;31mNameError\u001b[0m                                 Traceback (most recent call last)",
      "\u001b[0;32m<ipython-input-31-ea5ba5e93445>\u001b[0m in \u001b[0;36m<module>\u001b[0;34m\u001b[0m\n\u001b[1;32m     10\u001b[0m                 \u001b[0;32mfor\u001b[0m \u001b[0mcd\u001b[0m \u001b[0;32min\u001b[0m \u001b[0mcds\u001b[0m\u001b[0;34m:\u001b[0m\u001b[0;34m\u001b[0m\u001b[0m\n\u001b[1;32m     11\u001b[0m                     \u001b[0;32mif\u001b[0m \u001b[0mclassify\u001b[0m\u001b[0;34m:\u001b[0m\u001b[0;34m\u001b[0m\u001b[0m\n\u001b[0;32m---> 12\u001b[0;31m                         \u001b[0mpayload\u001b[0m \u001b[0;34m=\u001b[0m \u001b[0mcandidates\u001b[0m\u001b[0;34m.\u001b[0m\u001b[0mcd_to_fetch\u001b[0m\u001b[0;34m(\u001b[0m\u001b[0mcd\u001b[0m\u001b[0;34m,\u001b[0m \u001b[0mclassify\u001b[0m\u001b[0;34m=\u001b[0m\u001b[0;32mTrue\u001b[0m\u001b[0;34m,\u001b[0m \u001b[0msave_png\u001b[0m\u001b[0;34m=\u001b[0m\u001b[0;32mTrue\u001b[0m\u001b[0;34m,\u001b[0m \u001b[0mshow\u001b[0m\u001b[0;34m=\u001b[0m\u001b[0;32mTrue\u001b[0m\u001b[0;34m,\u001b[0m \u001b[0mmode\u001b[0m \u001b[0;34m=\u001b[0m \u001b[0;34m'GPU'\u001b[0m\u001b[0;34m,\u001b[0m \u001b[0mdevicenum\u001b[0m\u001b[0;34m=\u001b[0m\u001b[0;34m'0'\u001b[0m\u001b[0;34m)\u001b[0m\u001b[0;34m\u001b[0m\u001b[0m\n\u001b[0m\u001b[1;32m     13\u001b[0m                         \u001b[0mlogging\u001b[0m\u001b[0;34m.\u001b[0m\u001b[0minfo\u001b[0m\u001b[0;34m(\u001b[0m\u001b[0;34m'FETCH FRB Probability of the candidate {0} is {1}'\u001b[0m\u001b[0;34m.\u001b[0m\u001b[0mformat\u001b[0m\u001b[0;34m(\u001b[0m\u001b[0mcd\u001b[0m\u001b[0;34m.\u001b[0m\u001b[0mcandid\u001b[0m\u001b[0;34m,\u001b[0m \u001b[0mpayload\u001b[0m\u001b[0;34m)\u001b[0m\u001b[0;34m)\u001b[0m\u001b[0;34m\u001b[0m\u001b[0m\n\u001b[1;32m     14\u001b[0m                     \u001b[0;32mif\u001b[0m \u001b[0mrefine\u001b[0m\u001b[0;34m:\u001b[0m\u001b[0;34m\u001b[0m\u001b[0m\n",
      "\u001b[0;32m~/anaconda3/envs/fetchrf/lib/python3.6/site-packages/rfpipe-1.3.6-py3.6.egg/rfpipe/candidates.py\u001b[0m in \u001b[0;36mcd_to_fetch\u001b[0;34m(cd, classify, devicenum, save_h5, save_png, outdir, show, f_size, t_size, dm_size, mode)\u001b[0m\n\u001b[1;32m    867\u001b[0m     \u001b[0;31m# note that dmt range assuming data already dispersed to dm\u001b[0m\u001b[0;34m\u001b[0m\u001b[0;34m\u001b[0m\u001b[0m\n\u001b[1;32m    868\u001b[0m     dmt = make_dmt(ft_dedisp, dm_start-dm, dm_end-dm, 256, chan_freqs/1000,\n\u001b[0;32m--> 869\u001b[0;31m                    tsamp, mode=mode, devicenum=int(devicenum))\n\u001b[0m\u001b[1;32m    870\u001b[0m \u001b[0;34m\u001b[0m\u001b[0m\n\u001b[1;32m    871\u001b[0m     \u001b[0mreshaped_ft\u001b[0m \u001b[0;34m=\u001b[0m \u001b[0mresize\u001b[0m\u001b[0;34m(\u001b[0m\u001b[0mft_dedisp\u001b[0m\u001b[0;34m,\u001b[0m \u001b[0;34m(\u001b[0m\u001b[0mf_size\u001b[0m\u001b[0;34m,\u001b[0m \u001b[0mnt\u001b[0m\u001b[0;34m)\u001b[0m\u001b[0;34m,\u001b[0m \u001b[0manti_aliasing\u001b[0m\u001b[0;34m=\u001b[0m\u001b[0;32mTrue\u001b[0m\u001b[0;34m)\u001b[0m\u001b[0;34m\u001b[0m\u001b[0m\n",
      "\u001b[0;32m~/anaconda3/envs/fetchrf/lib/python3.6/site-packages/rfpipe-1.3.6-py3.6.egg/rfpipe/search.py\u001b[0m in \u001b[0;36mmake_dmt\u001b[0;34m(data, dmi, dmf, dmsteps, freqs, inttime, mode, devicenum)\u001b[0m\n\u001b[1;32m    690\u001b[0m     \u001b[0;32mif\u001b[0m \u001b[0mmode\u001b[0m \u001b[0;34m==\u001b[0m \u001b[0;34m'GPU'\u001b[0m\u001b[0;34m:\u001b[0m\u001b[0;34m\u001b[0m\u001b[0m\n\u001b[1;32m    691\u001b[0m         dmt = gpu_dmtime(data, dmi, dmf, dmsteps, freqs, inttime,\n\u001b[0;32m--> 692\u001b[0;31m                          devicenum=devicenum)\n\u001b[0m\u001b[1;32m    693\u001b[0m     \u001b[0;32melse\u001b[0m\u001b[0;34m:\u001b[0m\u001b[0;34m\u001b[0m\u001b[0m\n\u001b[1;32m    694\u001b[0m         \u001b[0mdmt\u001b[0m \u001b[0;34m=\u001b[0m \u001b[0mcpu_dmtime\u001b[0m\u001b[0;34m(\u001b[0m\u001b[0mdata\u001b[0m\u001b[0;34m,\u001b[0m \u001b[0mdmi\u001b[0m\u001b[0;34m,\u001b[0m \u001b[0mdmf\u001b[0m\u001b[0;34m,\u001b[0m \u001b[0mdmsteps\u001b[0m\u001b[0;34m,\u001b[0m \u001b[0mfreqs\u001b[0m\u001b[0;34m,\u001b[0m \u001b[0minttime\u001b[0m\u001b[0;34m)\u001b[0m\u001b[0;34m\u001b[0m\u001b[0m\n",
      "\u001b[0;32m~/anaconda3/envs/fetchrf/lib/python3.6/site-packages/rfpipe-1.3.6-py3.6.egg/rfpipe/search.py\u001b[0m in \u001b[0;36mgpu_dmtime\u001b[0;34m(ft, dm_i, dm_f, dmsteps, freqs, inttime, devicenum)\u001b[0m\n\u001b[1;32m    725\u001b[0m         \u001b[0mdelays\u001b[0m\u001b[0;34m[\u001b[0m\u001b[0mii\u001b[0m\u001b[0;34m,\u001b[0m\u001b[0;34m:\u001b[0m\u001b[0;34m]\u001b[0m \u001b[0;34m=\u001b[0m \u001b[0mutil\u001b[0m\u001b[0;34m.\u001b[0m\u001b[0mcalc_delay\u001b[0m\u001b[0;34m(\u001b[0m\u001b[0mfreqs\u001b[0m\u001b[0;34m,\u001b[0m \u001b[0mfreqs\u001b[0m\u001b[0;34m.\u001b[0m\u001b[0mmax\u001b[0m\u001b[0;34m(\u001b[0m\u001b[0;34m)\u001b[0m\u001b[0;34m,\u001b[0m \u001b[0mdm\u001b[0m\u001b[0;34m,\u001b[0m \u001b[0minttime\u001b[0m\u001b[0;34m)\u001b[0m\u001b[0;34m.\u001b[0m\u001b[0mastype\u001b[0m\u001b[0;34m(\u001b[0m\u001b[0;34m'int32'\u001b[0m\u001b[0;34m)\u001b[0m\u001b[0;34m\u001b[0m\u001b[0m\n\u001b[1;32m    726\u001b[0m \u001b[0;34m\u001b[0m\u001b[0m\n\u001b[0;32m--> 727\u001b[0;31m     \u001b[0mcuda\u001b[0m\u001b[0;34m.\u001b[0m\u001b[0mselect_device\u001b[0m\u001b[0;34m(\u001b[0m\u001b[0mdevice\u001b[0m\u001b[0;34m)\u001b[0m\u001b[0;34m\u001b[0m\u001b[0m\n\u001b[0m\u001b[1;32m    728\u001b[0m     \u001b[0mstream\u001b[0m \u001b[0;34m=\u001b[0m \u001b[0mcuda\u001b[0m\u001b[0;34m.\u001b[0m\u001b[0mstream\u001b[0m\u001b[0;34m(\u001b[0m\u001b[0;34m)\u001b[0m\u001b[0;34m\u001b[0m\u001b[0m\n\u001b[1;32m    729\u001b[0m \u001b[0;34m\u001b[0m\u001b[0m\n",
      "\u001b[0;31mNameError\u001b[0m: name 'device' is not defined"
     ]
    }
   ],
   "source": [
    "# Classify the generated pickles using FETCH and generate refinement plots\n",
    "sdmname = miniSDMlist[0].split('/')[-1]\n",
    "for pkl in glob.glob(st.prefs.workdir+'/'+'cands_*'+sdmname.split('/')[0]+'*.pkl'):\n",
    "    if classify or refine:\n",
    "        logging.info('Refining and classifying pkl: {0}'.format(pkl))\n",
    "        ccs = list(candidates.iter_cands(pkl, select='candcollection'))\n",
    "        for cc in ccs:\n",
    "            cds = cc.canddata\n",
    "            if cds:\n",
    "                for cd in cds:\n",
    "                    if classify:\n",
    "                        payload = candidates.cd_to_fetch(cd, classify=True, save_png=True, show=True, mode = 'GPU', devicenum='0')\n",
    "                        logging.info('FETCH FRB Probability of the candidate {0} is {1}'.format(cd.candid, payload))\n",
    "                    if refine:\n",
    "                        logging.info('Generating Refinement plots')\n",
    "                        cd_refine(cd)\n",
    "            else:\n",
    "                logging.info('No candidate was found in cc: {0}'.format(cc))"
   ]
  },
  {
   "cell_type": "code",
   "execution_count": null,
   "metadata": {},
   "outputs": [],
   "source": []
  }
 ],
 "metadata": {
  "kernelspec": {
   "display_name": "Python 3",
   "language": "python",
   "name": "python3"
  },
  "language_info": {
   "codemirror_mode": {
    "name": "ipython",
    "version": 3
   },
   "file_extension": ".py",
   "mimetype": "text/x-python",
   "name": "python",
   "nbconvert_exporter": "python",
   "pygments_lexer": "ipython3",
   "version": "3.6.6"
  }
 },
 "nbformat": 4,
 "nbformat_minor": 2
}
