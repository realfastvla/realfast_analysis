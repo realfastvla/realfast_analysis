{
 "cells": [
  {
   "cell_type": "code",
   "execution_count": null,
   "metadata": {},
   "outputs": [],
   "source": [
    "from burstfit.data import BurstData\n",
    "from burstfit.model import Model, SgramModel\n",
    "from burstfit.utils.plotter import plot_me, plot_2d_fit\n",
    "from burstfit.utils.functions import pulse_fn_vec, sgram_fn_vec, gauss_norm, gauss, sgram_fn\n",
    "from burstfit.io import BurstIO\n",
    "from burstfit.fit import BurstFit\n",
    "import logging\n",
    "import pylab as plt\n",
    "import numpy as np\n",
    "\n",
    "logging_format = \"%(asctime)s - %(funcName)s -%(name)s - %(levelname)s - %(message)s\"\n",
    "logging.basicConfig(\n",
    "    level=logging.DEBUG,\n",
    "    format=logging_format,\n",
    ")\n",
    "logger = logging.getLogger('matplotlib')\n",
    "logger.setLevel(logging.INFO)\n",
    "\n",
    "%matplotlib inline"
   ]
  },
  {
   "cell_type": "markdown",
   "metadata": {},
   "source": [
    "Load the candidate pickle file"
   ]
  },
  {
   "cell_type": "code",
   "execution_count": null,
   "metadata": {
    "scrolled": true
   },
   "outputs": [],
   "source": [
    "pkl = 'pkl_file_with_native_resolution_canddata.pkl'\n",
    "cc = list(candidates.iter_cands(pkl, \n",
    "                                select='canddata'))"
   ]
  },
  {
   "cell_type": "markdown",
   "metadata": {},
   "source": [
    "Indexes to use the relevant canddata"
   ]
  },
  {
   "cell_type": "code",
   "execution_count": null,
   "metadata": {
    "scrolled": true
   },
   "outputs": [],
   "source": [
    "cd = cc[ind][ind2]\n",
    "print(cd.state.inttime)"
   ]
  },
  {
   "cell_type": "code",
   "execution_count": null,
   "metadata": {},
   "outputs": [],
   "source": [
    "mask_chans = None"
   ]
  },
  {
   "cell_type": "code",
   "execution_count": null,
   "metadata": {},
   "outputs": [],
   "source": [
    "def sgram_fn_2(\n",
    "    metadata,\n",
    "    pulse_function,\n",
    "    spectra_function,\n",
    "    spectra_params,\n",
    "    pulse_params,\n",
    "    other_params,\n",
    "):\n",
    "    \"\"\"\n",
    "    Vectorized implementation of spectrogram function. Assumes the following input names for pulse_function:\n",
    "    S, mu, sigma, tau\n",
    "    Args:\n",
    "        metadata: Some useful metadata (nt, nf, dispersed_at_dm, tsamp, fstart, foff)\n",
    "        pulse_function: Function to model pulse\n",
    "        spectra_function: Function to model spectra\n",
    "        spectra_params: Dictionary with spectra parameters\n",
    "        pulse_params: Dictionary with pulse parameters\n",
    "        other_params: list of other params needed for this function (eg: [dm])\n",
    "    Returns:\n",
    "    \"\"\"\n",
    "\n",
    "    nt, nf, dispersed_at_dm, tsamp, fstart, foff = metadata\n",
    "    [dm] = other_params\n",
    "    nt = int(nt)\n",
    "    nf = int(nf)\n",
    "    freqs = fstart + foff * np.linspace(0, nf - 1, nf)\n",
    "    chans = np.arange(nf)\n",
    "    times = np.arange(nt)\n",
    "    spectra_from_fit = spectra_function(chans, **spectra_params)  # nu_0, nu_sig)\n",
    "\n",
    "    model_dm = dispersed_at_dm - dm\n",
    "\n",
    "    assert \"mu\" in pulse_params.keys()\n",
    "    assert \"S\" in pulse_params.keys()\n",
    "    assert \"sigma\" in pulse_params.keys()\n",
    "\n",
    "    mu_t = pulse_params[\"mu\"]\n",
    "    mus = (\n",
    "        mu_t\n",
    "        + 4148808.0 * model_dm * (1 / (freqs[0]) ** 2 - 1 / (freqs) ** 2) / 1000 / tsamp\n",
    "    )\n",
    "    \n",
    "    l = np.zeros(shape=(nf, nt))\n",
    "    for i, freq in enumerate(freqs):\n",
    "        p = pulse_function(times, pulse_params[\"S\"], mus[i], pulse_params[\"sigma\"])\n",
    "        l[i, :] += p\n",
    "\n",
    "    model = l * spectra_from_fit[:, None]\n",
    "\n",
    "    return model"
   ]
  },
  {
   "cell_type": "code",
   "execution_count": null,
   "metadata": {},
   "outputs": [],
   "source": [
    "def gauss_decimate_64(x, S, mu, sigma):\n",
    "    decimate_factor = 64\n",
    "    \n",
    "    if decimate_factor*sigma < 0.5 and mu > 0 and mu < len(x):\n",
    "        pulse = np.zeros(len(x))\n",
    "        pulse[int(np.around(mu))] = S\n",
    "    else:\n",
    "        S*=decimate_factor\n",
    "        mu*=decimate_factor\n",
    "        sigma*=decimate_factor\n",
    "\n",
    "        x = np.arange(decimate_factor*len(x))\n",
    "        high_res_pulse =  (S / (np.sqrt(2 * np.pi) * sigma)) * np.exp(\n",
    "            -(1 / 2) * ((x - mu) / sigma) ** 2)\n",
    "        pulse = high_res_pulse.reshape(len(x)//decimate_factor, decimate_factor).mean(-1)\n",
    "    return pulse\n",
    "\n",
    "def gauss_decimate_256(x, S, mu, sigma):\n",
    "    decimate_factor = 256\n",
    "    \n",
    "    if decimate_factor*sigma < 0.5 and mu > 0 and mu < len(x):\n",
    "        pulse = np.zeros(len(x))\n",
    "        pulse[int(np.around(mu))] = S\n",
    "    else:\n",
    "        S*=decimate_factor\n",
    "        mu*=decimate_factor\n",
    "        sigma*=decimate_factor\n",
    "\n",
    "        x = np.arange(decimate_factor*len(x))\n",
    "        high_res_pulse =  (S / (np.sqrt(2 * np.pi) * sigma)) * np.exp(\n",
    "            -(1 / 2) * ((x - mu) / sigma) ** 2)\n",
    "        pulse = high_res_pulse.reshape(len(x)//decimate_factor, decimate_factor).mean(-1)\n",
    "    return pulse"
   ]
  },
  {
   "cell_type": "markdown",
   "metadata": {},
   "source": [
    "Fitting function"
   ]
  },
  {
   "cell_type": "code",
   "execution_count": null,
   "metadata": {
    "scrolled": false
   },
   "outputs": [],
   "source": [
    "def fit(cd, casa_flux=1, flux_scale=1, mcmc=True, mask_chans=None):    \n",
    "    name = cd.candid\n",
    "    segment, candint, dmind, dtind, beamnum = cd.loc\n",
    "    width_m = cd.state.dtarr[dtind]\n",
    "    dm = cd.state.dmarr[dmind]\n",
    "    dt = cd.state.inttime*width_m\n",
    "    dispersed_at_dm = dm\n",
    "\n",
    "    sgram = np.flip((cd.data.real.sum(axis=2).T), axis=0)\n",
    "    \n",
    "    if np.any(mask_chans):\n",
    "        sgram.mask[mask_chans[0]:mask_chans[1], :] = True\n",
    "    nf, nt = sgram.shape\n",
    "    i0 = np.argmax(sgram.sum(0))\n",
    "    spectra = sgram[:, i0]\n",
    "    freqs = cd.state.freq\n",
    "    inttime = cd.state.inttime\n",
    "\n",
    "    print(cd.snr1)\n",
    "    print(np.mean(sgram), np.std(sgram))\n",
    "\n",
    "    pnames = ['S', 'mu_t', 'sigma_t']\n",
    "    pulseModel = Model(gauss_decimate_64, param_names=pnames)\n",
    "\n",
    "    snames = ['mu_f', 'sigma_f']\n",
    "    spectraModel = Model(gauss_norm, param_names=snames)\n",
    "\n",
    "    sgramModel = SgramModel(pulseModel, spectraModel, sgram_fn_2, clip_fac=0)\n",
    "\n",
    "    roll = -1*(i0 - nt//2)\n",
    "    sgram = np.roll(sgram, roll, 1)\n",
    "    sgram = sgram * flux_scale\n",
    "    \n",
    "    radiometer_std = np.std(sgram[:, :20].mean(0))\n",
    "\n",
    "    off_pulse_data = sgram[:, :20]\n",
    "    on_pulse_data = sgram    \n",
    "\n",
    "    off_pulse_mean = np.mean(off_pulse_data)\n",
    "    off_pulse_std = np.std(off_pulse_data)\n",
    "    # # # logger.info(f\"Off pulse mean and std are: {off_pulse_mean, off_pulse_std}\")\n",
    "    on_pulse_data = on_pulse_data - off_pulse_mean\n",
    "    on_pulse_data = on_pulse_data / off_pulse_std\n",
    "    \n",
    "    mask = np.around(sgram.mask.mean(1)).astype('bool')    \n",
    "    \n",
    "    bf = BurstFit(\n",
    "        sgram_model=sgramModel,\n",
    "        sgram=on_pulse_data,\n",
    "        width=width_m,\n",
    "        dm=dm,\n",
    "        foff=(freqs[-1] - freqs[0])*1000/len(freqs),\n",
    "        fch1=freqs[0]*1000,\n",
    "        tsamp=inttime,\n",
    "        clip_fac=0,\n",
    "        mask = mask)\n",
    "    bf.fitall(profile_bounds=([0, nt//2-10, 0], [1000, nt//2+10, 50])) \n",
    "    \n",
    "    peak_flux_sgram = np.max(sgram.mean(0))\n",
    "    casa_flux = burst['imfit_res']['results']['component0']['peak']['value']\n",
    "    print(f'Peak flux (CASA): {casa_flux}')\n",
    "    print(f'Peak flux (canddata): {peak_flux_sgram}')    \n",
    "        \n",
    "    bf.radiometer_std = radiometer_std\n",
    "    bf.off_pulse_ts_std = np.std(bf.ts[:20])\n",
    "    \n",
    "    fluence = 10*bf.sgram_params['all'][1]['popt'][2]*radiometer_std/bf.off_pulse_ts_std\n",
    "    sigma =  bf.sgram_params['all'][1]['popt'][4]*10\n",
    "    width = 2.355 * sigma\n",
    "    peak_fit_flux = fluence/(sigma*np.sqrt(2*np.pi))\n",
    "\n",
    "    print(f'Peak flux fitted: {peak_fit_flux}')\n",
    "    print(f'Fluence (Jy ms) is : {fluence}')\n",
    "    print(f'Fit width (ms) is: {width}')\n",
    "    \n",
    "    if mcmc:\n",
    "        mcmc_kwargs = {}\n",
    "        mcmc_kwargs = {'nwalkers':40, 'nsteps':20000,\n",
    "                       'skip':10000, 'ncores':20, \n",
    "                       'start_pos_dev':0.01,\n",
    "                       'prior_range':0.5, \n",
    "                       'save_results':True,\n",
    "                       'outname': 'rf_burstfit_mcmc'}\n",
    "\n",
    "        bf.run_mcmc(plot=True, **mcmc_kwargs)"
   ]
  },
  {
   "cell_type": "markdown",
   "metadata": {},
   "source": [
    "Reading MCMC outputs"
   ]
  },
  {
   "cell_type": "code",
   "execution_count": null,
   "metadata": {},
   "outputs": [],
   "source": [
    "def get_param(h5):\n",
    "    reader = emcee.backends.HDFBackend(h5)\n",
    "    try:\n",
    "        tau = reader.get_autocorr_time()\n",
    "        burnin = int(2 * np.max(tau))\n",
    "        samples = reader.get_chain(discard=burnin, flat=True)\n",
    "    except (AutocorrError, ValueError):\n",
    "        print('Got error!')\n",
    "        samples = reader.get_chain(discard=0, flat=True)\n",
    "        burnin = int(samples.shape[0] * 0.75)\n",
    "        samples = samples[burnin:,:]\n",
    "\n",
    "    print(\"burn-in: {0}\".format(burnin))\n",
    "    print(\"flat chain shape: {0}\".format(samples.shape))\n",
    "    \n",
    "    mu_fs = samples[:, 0] \n",
    "    sigma_fs = samples[:, 1]\n",
    "    Ss = samples[:, 2]\n",
    "    mu_ts = samples[:, 3]\n",
    "    sigma_ts = samples[:, 4] \n",
    "    DMs = samples[:, 5]\n",
    "    \n",
    "    return mu_fs, sigma_fs, Ss, mu_ts, sigma_ts, DMs\n",
    "\n",
    "def get_bary_time(ra, dec, mjd, dm, max_freq):\n",
    "    \"\"\"\n",
    "    ra, dec as hms and dms strings\n",
    "    \n",
    "    \"\"\"\n",
    "    t_ms_vla = 4.148808*10**6*dm*(1/(max_freq)**2)\n",
    "    _mjd = mjd - t_ms_vla/(1000*60*60*24)\n",
    "    \n",
    "    ip_frb = coord.SkyCoord(ra, dec, frame='icrs')\n",
    "    vla = coord.EarthLocation.of_site('vla')\n",
    "    times = time.Time(_mjd, format='mjd', scale='utc', location=vla)  \n",
    "    ltt_bary = times.light_travel_time(ip_frb, )  \n",
    "    time_barycentre = times.tdb + ltt_bary\n",
    "    return time_barycentre.value\n",
    "\n",
    "def get_param_and_errors(samples):\n",
    "    qs = np.quantile(samples, [0.16, 0.5, 0.84], axis=0)\n",
    "    e1 = qs[1] - qs[0]\n",
    "    e2 = qs[2] - qs[1]\n",
    "    p = qs[1]\n",
    "    return p, e1, e2"
   ]
  },
  {
   "cell_type": "markdown",
   "metadata": {},
   "source": [
    "# Fit! "
   ]
  },
  {
   "cell_type": "code",
   "execution_count": null,
   "metadata": {},
   "outputs": [],
   "source": [
    "fit(cd, casa_flux=1, flux_scale=1, mcmc=True, mask_chans=None)"
   ]
  },
  {
   "cell_type": "markdown",
   "metadata": {},
   "source": [
    "## Read MCMC outputs and convert to physical parameters"
   ]
  },
  {
   "cell_type": "code",
   "execution_count": null,
   "metadata": {},
   "outputs": [],
   "source": [
    "from emcee.autocorr import AutocorrError\n",
    "import emcee\n",
    "mu_fs, sigma_fs, Ss, mu_ts, sigma_ts, DMs = get_param('rf_burstfit_mcmc.h5')"
   ]
  },
  {
   "cell_type": "code",
   "execution_count": null,
   "metadata": {},
   "outputs": [],
   "source": [
    "foff = bf.foff\n",
    "fch1 = bf.fch1\n",
    "tsamp = bf.tsamp\n",
    "nstart = cd.time_top - i0*bf.tsamp/(24*60*60)\n",
    "tcand = cd.time_top"
   ]
  },
  {
   "cell_type": "code",
   "execution_count": null,
   "metadata": {},
   "outputs": [],
   "source": [
    "fluences = (tsamp*1000)*Ss*bf.radiometer_std/bf.off_pulse_ts_std\n",
    "widths = 2.355*sigma_ts*tsamp*1000\n",
    "nu_0s = (fch1 + mu_fs*foff)/1000\n",
    "nu_sigs = sigma_fs*foff\n",
    "\n",
    "if foff > 0:\n",
    "    fmax = fch1 + foff * bf.nf\n",
    "else:\n",
    "    fmax = fch1\n",
    "_mjds = nstart + mu_ts*tsamp/(24*60*60)\n",
    "\n",
    "fluence = get_param_and_errors(fluences)\n",
    "width = get_param_and_errors(widths)\n",
    "nu_0 = get_param_and_errors(nu_0s)\n",
    "nu_sig = get_param_and_errors(nu_sigs)\n",
    "DM = get_param_and_errors(DMs)\n",
    "\n",
    "_mjd = get_param_and_errors(_mjds)\n",
    "mjds = [get_bary_time(_mjd[0], DM[0], fmax),\n",
    "       get_bary_time(_mjd[0]-_mjd[1], DM[0], fmax),\n",
    "       get_bary_time(_mjd[0]+_mjd[2], DM[0], fmax)]\n",
    "\n",
    "mjd = [mjds[0], mjds[0] - mjds[1], mjds[2] - mjds[0]]"
   ]
  },
  {
   "cell_type": "code",
   "execution_count": null,
   "metadata": {},
   "outputs": [],
   "source": [
    "print(fluence, width, nu_0, nu_sig, DM, mjd)"
   ]
  }
 ],
 "metadata": {
  "kernelspec": {
   "display_name": "Python 3",
   "language": "python",
   "name": "python3"
  },
  "language_info": {
   "codemirror_mode": {
    "name": "ipython",
    "version": 3
   },
   "file_extension": ".py",
   "mimetype": "text/x-python",
   "name": "python",
   "nbconvert_exporter": "python",
   "pygments_lexer": "ipython3",
   "version": "3.7.10"
  }
 },
 "nbformat": 4,
 "nbformat_minor": 2
}
