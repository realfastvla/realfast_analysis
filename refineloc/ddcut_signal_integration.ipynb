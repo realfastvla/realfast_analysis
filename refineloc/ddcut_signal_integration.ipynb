{
  "cells": [
    {
      "cell_type": "code",
      "source": [
        "from rfpipe import candidates\n",
        "import pylab as plt\n",
        "import numpy as np\n",
        "import glob\n",
        "from loc_utils import get_maxsnr_cd, calc_cand_integration\n",
        "%matplotlib inline"
      ],
      "outputs": [],
      "execution_count": 3,
      "metadata": {
        "execution": {
          "iopub.status.busy": "2021-10-31T19:18:01.163Z",
          "iopub.execute_input": "2021-10-31T19:18:01.172Z",
          "iopub.status.idle": "2021-10-31T19:18:04.724Z",
          "shell.execute_reply": "2021-10-31T19:18:04.765Z"
        }
      }
    },
    {
      "cell_type": "code",
      "source": [
        "cd /Users/claw/data/realfast_candidates/21A-017"
      ],
      "outputs": [
        {
          "output_type": "stream",
          "name": "stdout",
          "text": [
            "/Users/claw/data/realfast_candidates/21A-017\n"
          ]
        }
      ],
      "execution_count": 4,
      "metadata": {
        "collapsed": true,
        "jupyter": {
          "source_hidden": false,
          "outputs_hidden": false
        },
        "nteract": {
          "transient": {
            "deleting": false
          }
        },
        "execution": {
          "shell.execute_reply": "2021-10-31T19:18:04.770Z",
          "iopub.status.busy": "2021-10-31T19:18:04.736Z",
          "iopub.execute_input": "2021-10-31T19:18:04.742Z",
          "iopub.status.idle": "2021-10-31T19:18:04.759Z"
        }
      }
    },
    {
      "cell_type": "code",
      "source": [
        "pkls = glob.glob('*pkl')\n",
        "pkls"
      ],
      "outputs": [
        {
          "output_type": "execute_result",
          "execution_count": 6,
          "data": {
            "text/plain": "['cands_21A-017.sb39654566.eb40110122.59462.47288809028.26.1.pkl']"
          },
          "metadata": {}
        }
      ],
      "execution_count": 6,
      "metadata": {
        "execution": {
          "iopub.status.busy": "2021-10-31T19:18:11.402Z",
          "iopub.execute_input": "2021-10-31T19:18:11.412Z",
          "iopub.status.idle": "2021-10-31T19:18:11.497Z",
          "shell.execute_reply": "2021-10-31T19:18:11.504Z"
        }
      }
    },
    {
      "cell_type": "markdown",
      "source": [
        "### Chose the pkl file to use "
      ],
      "metadata": {}
    },
    {
      "cell_type": "code",
      "source": [
        "pkl = pkls[0]"
      ],
      "outputs": [],
      "execution_count": 7,
      "metadata": {
        "execution": {
          "iopub.status.busy": "2021-10-31T19:18:13.307Z",
          "iopub.execute_input": "2021-10-31T19:18:13.315Z",
          "iopub.status.idle": "2021-10-31T19:18:13.328Z",
          "shell.execute_reply": "2021-10-31T19:18:13.337Z"
        }
      }
    },
    {
      "cell_type": "code",
      "source": [
        "ccs = [cc for cc in candidates.iter_cands(pkl) if len(cc)]\n",
        "print(ccs)"
      ],
      "outputs": [
        {
          "output_type": "stream",
          "name": "stdout",
          "text": [
            "[CandCollection for 21A-017.sb39654566.eb40110122.59462.47288809028, scan 26, segment 5 with 1 candidate, CandCollection for 21A-017.sb39654566.eb40110122.59462.47288809028, scan 26, segment 37 with 1 candidate]\n"
          ]
        }
      ],
      "execution_count": 16,
      "metadata": {
        "collapsed": true,
        "jupyter": {
          "source_hidden": false,
          "outputs_hidden": false
        },
        "nteract": {
          "transient": {
            "deleting": false
          }
        },
        "execution": {
          "iopub.status.busy": "2021-10-31T19:20:19.641Z",
          "iopub.execute_input": "2021-10-31T19:20:19.655Z",
          "iopub.status.idle": "2021-10-31T19:20:19.735Z",
          "shell.execute_reply": "2021-10-31T19:20:19.743Z"
        }
      }
    },
    {
      "cell_type": "code",
      "source": [
        "cc = ccs[0]\n"
      ],
      "outputs": [],
      "execution_count": 17,
      "metadata": {
        "collapsed": true,
        "jupyter": {
          "source_hidden": false,
          "outputs_hidden": false
        },
        "nteract": {
          "transient": {
            "deleting": false
          }
        },
        "execution": {
          "iopub.status.busy": "2021-10-31T19:20:23.819Z",
          "iopub.execute_input": "2021-10-31T19:20:23.828Z",
          "iopub.status.idle": "2021-10-31T19:20:23.841Z",
          "shell.execute_reply": "2021-10-31T19:20:23.848Z"
        }
      }
    },
    {
      "cell_type": "code",
      "source": [
        "from rfpipe import reproduce"
      ],
      "outputs": [],
      "execution_count": 21,
      "metadata": {
        "collapsed": true,
        "jupyter": {
          "source_hidden": false,
          "outputs_hidden": false
        },
        "nteract": {
          "transient": {
            "deleting": false
          }
        },
        "execution": {
          "iopub.status.busy": "2021-10-31T19:24:11.545Z",
          "iopub.execute_input": "2021-10-31T19:24:11.554Z",
          "iopub.status.idle": "2021-10-31T19:24:11.567Z",
          "shell.execute_reply": "2021-10-31T19:24:11.575Z"
        }
      }
    },
    {
      "cell_type": "code",
      "source": [
        "loc = [0, 21, 5, 1, 0]"
      ],
      "outputs": [],
      "execution_count": 70,
      "metadata": {
        "collapsed": true,
        "jupyter": {
          "source_hidden": false,
          "outputs_hidden": false
        },
        "nteract": {
          "transient": {
            "deleting": false
          }
        },
        "execution": {
          "iopub.status.busy": "2021-10-31T20:04:14.887Z",
          "iopub.execute_input": "2021-10-31T20:04:14.896Z",
          "iopub.status.idle": "2021-10-31T20:04:14.912Z",
          "shell.execute_reply": "2021-10-31T20:04:14.926Z"
        }
      }
    },
    {
      "cell_type": "code",
      "source": [
        "cc.prefs.gainfile = './21A-017.sb39654566.eb40110122.59462.47288809028.GN'\n",
        "cc.metadata.datasource = 'sdm'\n",
        "cc.metadata.filename = 'realfast_21A-017.sb39654566.eb40110122.59462.47288809028_1630845033599'\n",
        "cc.metadata.bdfstr = 'ASDMBinary/uid____evla_realfastbdf_1630845033599'"
      ],
      "outputs": [],
      "execution_count": 71,
      "metadata": {
        "collapsed": true,
        "jupyter": {
          "source_hidden": false,
          "outputs_hidden": false
        },
        "nteract": {
          "transient": {
            "deleting": false
          }
        },
        "execution": {
          "iopub.status.busy": "2021-10-31T20:04:16.082Z",
          "iopub.execute_input": "2021-10-31T20:04:16.093Z",
          "iopub.status.idle": "2021-10-31T20:04:16.109Z",
          "shell.execute_reply": "2021-10-31T20:04:16.118Z"
        }
      }
    },
    {
      "cell_type": "code",
      "source": [
        "#cd = reproduce.pipeline_canddata(cc.state, loc)"
      ],
      "outputs": [],
      "execution_count": 72,
      "metadata": {
        "collapsed": true,
        "jupyter": {
          "source_hidden": false,
          "outputs_hidden": false
        },
        "nteract": {
          "transient": {
            "deleting": false
          }
        },
        "execution": {
          "iopub.status.busy": "2021-10-31T20:04:17.277Z",
          "iopub.execute_input": "2021-10-31T20:04:17.287Z",
          "iopub.status.idle": "2021-10-31T20:04:17.302Z",
          "shell.execute_reply": "2021-10-31T20:04:17.312Z"
        }
      }
    },
    {
      "cell_type": "code",
      "source": [
        "import os"
      ],
      "outputs": [],
      "execution_count": 73,
      "metadata": {
        "collapsed": true,
        "jupyter": {
          "source_hidden": false,
          "outputs_hidden": false
        },
        "nteract": {
          "transient": {
            "deleting": false
          }
        },
        "execution": {
          "iopub.status.busy": "2021-10-31T20:04:17.467Z",
          "iopub.execute_input": "2021-10-31T20:04:17.477Z",
          "iopub.status.idle": "2021-10-31T20:04:17.492Z",
          "shell.execute_reply": "2021-10-31T20:04:17.501Z"
        }
      }
    },
    {
      "cell_type": "code",
      "source": [
        "cc.prefs.fftmode='fftw'"
      ],
      "outputs": [],
      "execution_count": 88,
      "metadata": {
        "collapsed": true,
        "jupyter": {
          "source_hidden": false,
          "outputs_hidden": false
        },
        "nteract": {
          "transient": {
            "deleting": false
          }
        },
        "execution": {
          "iopub.status.busy": "2021-10-31T20:14:27.466Z",
          "iopub.execute_input": "2021-10-31T20:14:27.477Z",
          "iopub.status.idle": "2021-10-31T20:14:27.494Z",
          "shell.execute_reply": "2021-10-31T20:14:27.505Z"
        }
      }
    },
    {
      "cell_type": "code",
      "source": [
        "sdmname = './realfast_21A-017.sb39654566.eb40110122.59462.47288809028_1630845033599'\n",
        "print('{0}'.format('_'.join(os.path.basename(sdmname).split('_')[1:-1])))"
      ],
      "outputs": [
        {
          "output_type": "stream",
          "name": "stdout",
          "text": [
            "21A-017.sb39654566.eb40110122.59462.47288809028\n"
          ]
        }
      ],
      "execution_count": 89,
      "metadata": {
        "collapsed": true,
        "jupyter": {
          "source_hidden": false,
          "outputs_hidden": false
        },
        "nteract": {
          "transient": {
            "deleting": false
          }
        },
        "execution": {
          "iopub.status.busy": "2021-10-31T20:14:27.824Z",
          "iopub.execute_input": "2021-10-31T20:14:27.836Z",
          "iopub.status.idle": "2021-10-31T20:14:27.864Z",
          "shell.execute_reply": "2021-10-31T20:14:27.874Z"
        }
      }
    },
    {
      "cell_type": "code",
      "source": [
        "dm = cc.state.dmarr[cc.locs[0][2]]\n",
        "cc2 = reproduce.refine_sdm('./realfast_21A-017.sb39654566.eb40110122.59462.47288809028_1630845033599', dm, gainpath='./', classify=False, refine=False, ddm=100, preffile='./realfast.yml', inprefs={'fftmode': 'fftw'})"
      ],
      "outputs": [
        {
          "output_type": "stream",
          "name": "stderr",
          "text": [
            "2021-10-31 13:25:08,680 - root - INFO - Searching for the gainfile 21A-017.sb39654566.eb40110122.59462.47288809028.GN in ./\n",
            "2021-10-31 13:25:08,708 - rfpipe.metadata - INFO - Reading metadata from ./realfast_21A-017.sb39654566.eb40110122.59462.47288809028_1630845033599, scan 1\n",
            "2021-10-31 13:25:08,765 - rfpipe.preferences - INFO - Parsing preffile for preference set NRAOdefaultS\n",
            "2021-10-31 13:25:08,792 - rfpipe.metadata - INFO - Reading metadata from ./realfast_21A-017.sb39654566.eb40110122.59462.47288809028_1630845033599, scan 1\n",
            "2021-10-31 13:25:09,056 - rfpipe.state - INFO - Metadata summary:\n",
            "2021-10-31 13:25:09,057 - rfpipe.state - INFO - \t Working directory and fileroot: None, realfast_21A-017.sb39654566.eb40110122.59462.47288809028_1630845033599.1.1\n",
            "2021-10-31 13:25:09,057 - rfpipe.state - INFO - \t Using scan 1, source P331\n",
            "2021-10-31 13:25:09,057 - rfpipe.state - INFO - \t nants, nbl: 26, 325\n",
            "2021-10-31 13:25:09,058 - rfpipe.state - INFO - \t nchan, nspw: 560, 10\n",
            "2021-10-31 13:25:09,060 - rfpipe.state - INFO - \t Freq range: 2.508 -- 3.746\n",
            "2021-10-31 13:25:09,060 - rfpipe.state - INFO - \t Scan has 358 ints (3.6 s) and inttime 0.010 s\n",
            "2021-10-31 13:25:09,060 - rfpipe.state - INFO - \t 2 polarizations: ['RR', 'LL']\n",
            "2021-10-31 13:25:09,242 - rfpipe.state - INFO - \t Ideal uvgrid npix=(1152, 486) and res=104 (oversample 1.5)\n",
            "2021-10-31 13:25:09,243 - rfpipe.state - INFO - Pipeline summary:\n",
            "2021-10-31 13:25:09,247 - rfpipe.state - INFO - \t Using 1 segment of 356 ints (3.6 s) with overlap of 0.7 s\n",
            "2021-10-31 13:25:09,247 - rfpipe.state - INFO - \t Searching 356 of 358 ints in scan\n",
            "2021-10-31 13:25:09,248 - rfpipe.state - INFO - \t Using pols ['RR', 'LL']\n",
            "2021-10-31 13:25:09,248 - rfpipe.state - INFO - \t Found telcal file ./21A-017.sb39654566.eb40110122.59462.47288809028.GN\n",
            "2021-10-31 13:25:09,248 - rfpipe.state - INFO - \n",
            "2021-10-31 13:25:09,249 - rfpipe.state - INFO - \t Using fftw for image search using 2 threads.\n",
            "2021-10-31 13:25:09,249 - rfpipe.state - INFO - \t Image threshold of 7 sigma.\n",
            "2021-10-31 13:25:09,250 - rfpipe.state - INFO - \t Using 10 DMs from 0.0 to 1938.45 and dts [1, 2, 4, 8].\n",
            "2021-10-31 13:25:09,251 - rfpipe.state - INFO - \t Using uvgrid npix=(1152, 486) and res=104 with 356 int chunks.\n",
            "2021-10-31 13:25:09,251 - rfpipe.state - INFO - \t Expect 0 thermal false positives per scan.\n",
            "2021-10-31 13:25:09,251 - rfpipe.state - INFO - \t Clustering candidates wth min_cluster_size=2 and min_samples=5\n",
            "2021-10-31 13:25:09,252 - rfpipe.state - INFO - \n",
            "2021-10-31 13:25:09,253 - rfpipe.state - INFO - \t Visibility/image memory usage is 1.8956288000000001/1.594515456 GB/segment when using fftw imaging.\n",
            "2021-10-31 13:25:09,253 - rfpipe.source - INFO - Reading segment 0 of scanId realfast_21A-017.sb39654566.eb40110122.59462.47288809028_1630845033599.1.1\n",
            "2021-10-31 13:25:09,254 - rfpipe.source - INFO - Reading scan 1, segment 0/0, times 1630845033.6000004 to 1630845037.1600003\n",
            "2021-10-31 13:25:09,254 - rfpipe.source - INFO - Reading 356 ints starting at int 0\n",
            "2021-10-31 13:25:14,910 - rfpipe.source - INFO - Read data with zero fraction of 0.000 for segment 0\n",
            "2021-10-31 13:25:19,323 - rfpipe.flagging - INFO - No flagged antennas in time range 59462.521222222225-59462.52126342593 \n",
            "2021-10-31 13:25:20,036 - rfpipe.source - INFO - Applying calibration with ./21A-017.sb39654566.eb40110122.59462.47288809028.GN\n",
            "2021-10-31 13:25:20,065 - rfpipe.calibration - INFO - Read telcalfile ./21A-017.sb39654566.eb40110122.59462.47288809028.GN with 3 sources, 8 times, 32 IFIDs, and 26 antennas\n",
            "2021-10-31 13:25:20,068 - rfpipe.calibration - INFO - Selecting 728 solutions from calibrator J0402-3147 separated by 6.816333340248093 min (realtime mode).\n",
            "2021-10-31 13:25:20,071 - rfpipe.calibration - INFO - Applying solutions from frequencies [2052. 2436. 2564. 2692. 2820. 2948. 3052. 3180. 3308. 3436. 3564. 3692.\n",
            " 3820. 3948.] to data frequencies [2052. 2180. 2308. 2436. 2564. 2692. 2820. 2948. 3052. 3180. 3308. 3436.\n",
            " 3564. 3692. 3820. 3948.]\n",
            "2021-10-31 13:25:20,828 - rfpipe.source - INFO - Flagging with version: latest\n",
            "2021-10-31 13:25:21,770 - rfpipe.flagging - INFO - flagged by badchtslide: 0/712 pol-times and 14/1120 pol-chans.\n",
            "2021-10-31 13:25:22,680 - rfpipe.flagging - INFO - flagged by badchtslide: 0/712 pol-times and 12/1120 pol-chans.\n",
            "2021-10-31 13:25:23,692 - rfpipe.flagging - INFO - badspw flagging finds deviations per spw-pol: [-- -- -- -- -- -- -- -- 0.020635014146482503 0.01985809050856225\n",
            " 0.040827585114811174 0.03556264342222099 0.012809378675868743\n",
            " 0.010459247690949561 0.048363581556774615 0.048365451739959875\n",
            " 0.07229794278154042 0.07344654693136222 0.021710077253864528\n",
            " 0.021365366778537714 0.010138005371523389 0.011416928098988956\n",
            " 0.08874172823943334 0.0710566432109964 0.041625535976957714\n",
            " 0.03691588638796511 0.13627891303415832 0.12592644963994265 -- -- -- --]\n",
            "2021-10-31 13:25:23,694 - rfpipe.flagging - INFO - flagged 12/32 spw-pol ([ 0  1  2  3  4  5  6  7 28 29 30 31])\n",
            "2021-10-31 13:25:25,173 - rfpipe.flagging - INFO - flagged by blstd: 443 of 398720 total channel/time/pol cells.\n",
            "2021-10-31 13:25:26,032 - rfpipe.util - INFO - Subtracting mean visibility in time.\n",
            "2021-10-31 13:25:27,427 - rfpipe.search - INFO - image search of 356 ints (0-355) in seg 0 at DM/dt 0.0/1 with image 1152x486 (uvres 104) with fftw\n",
            "2021-10-31 13:25:27,554 - rfpipe.search - INFO - Correcting by delay/resampling 0/1 ints in parallel mode\n",
            "2021-10-31 13:25:33,605 - rfpipe.search - INFO - image search of 293 ints (0-292) in seg 0 at DM/dt 1749.2/1 with image 1152x486 (uvres 104) with fftw\n",
            "2021-10-31 13:25:33,707 - rfpipe.search - INFO - Correcting by delay/resampling 63/1 ints in parallel mode\n",
            "2021-10-31 13:25:37,927 - rfpipe.search - INFO - image search of 292 ints (0-291) in seg 0 at DM/dt 1779.0/1 with image 1152x486 (uvres 104) with fftw\n",
            "2021-10-31 13:25:38,025 - rfpipe.search - INFO - Correcting by delay/resampling 64/1 ints in parallel mode\n",
            "2021-10-31 13:25:42,140 - rfpipe.search - INFO - image search of 291 ints (0-290) in seg 0 at DM/dt 1808.7/1 with image 1152x486 (uvres 104) with fftw\n",
            "2021-10-31 13:25:42,238 - rfpipe.search - INFO - Correcting by delay/resampling 65/1 ints in parallel mode\n",
            "2021-10-31 13:25:46,289 - rfpipe.search - INFO - image search of 290 ints (0-289) in seg 0 at DM/dt 1838.5/1 with image 1152x486 (uvres 104) with fftw\n",
            "2021-10-31 13:25:46,387 - rfpipe.search - INFO - Correcting by delay/resampling 66/1 ints in parallel mode\n",
            "2021-10-31 13:25:50,478 - rfpipe.search - INFO - image search of 290 ints (0-289) in seg 0 at DM/dt 1838.5/1 with image 1152x486 (uvres 104) with fftw\n",
            "2021-10-31 13:25:50,582 - rfpipe.search - INFO - Correcting by delay/resampling 66/1 ints in parallel mode\n",
            "2021-10-31 13:25:54,603 - rfpipe.search - INFO - image search of 289 ints (0-288) in seg 0 at DM/dt 1868.2/1 with image 1152x486 (uvres 104) with fftw\n",
            "2021-10-31 13:25:54,701 - rfpipe.search - INFO - Correcting by delay/resampling 67/1 ints in parallel mode\n",
            "2021-10-31 13:25:58,830 - rfpipe.search - INFO - image search of 287 ints (0-286) in seg 0 at DM/dt 1898.0/1 with image 1152x486 (uvres 104) with fftw\n",
            "2021-10-31 13:25:58,943 - rfpipe.search - INFO - Correcting by delay/resampling 69/1 ints in parallel mode\n",
            "2021-10-31 13:26:03,190 - rfpipe.search - INFO - image search of 286 ints (0-285) in seg 0 at DM/dt 1927.7/1 with image 1152x486 (uvres 104) with fftw\n",
            "2021-10-31 13:26:03,297 - rfpipe.search - INFO - Correcting by delay/resampling 70/1 ints in parallel mode\n",
            "2021-10-31 13:26:07,184 - rfpipe.search - INFO - image search of 286 ints (0-285) in seg 0 at DM/dt 1938.5/1 with image 1152x486 (uvres 104) with fftw\n",
            "2021-10-31 13:26:07,278 - rfpipe.search - INFO - Correcting by delay/resampling 70/1 ints in parallel mode\n",
            "2021-10-31 13:26:11,268 - rfpipe.search - INFO - image search of 178 ints (0-177) in seg 0 at DM/dt 0.0/2 with image 1152x486 (uvres 104) with fftw\n",
            "2021-10-31 13:26:11,378 - rfpipe.search - INFO - Correcting by delay/resampling 0/2 ints in parallel mode\n",
            "2021-10-31 13:26:13,941 - rfpipe.search - INFO - image search of 146 ints (0-145) in seg 0 at DM/dt 1749.2/2 with image 1152x486 (uvres 104) with fftw\n",
            "2021-10-31 13:26:14,034 - rfpipe.search - INFO - Correcting by delay/resampling 63/2 ints in parallel mode\n",
            "2021-10-31 13:26:16,271 - rfpipe.search - INFO - image search of 146 ints (0-145) in seg 0 at DM/dt 1779.0/2 with image 1152x486 (uvres 104) with fftw\n",
            "2021-10-31 13:26:16,363 - rfpipe.search - INFO - Correcting by delay/resampling 64/2 ints in parallel mode\n",
            "2021-10-31 13:26:18,382 - rfpipe.search - INFO - image search of 145 ints (0-144) in seg 0 at DM/dt 1808.7/2 with image 1152x486 (uvres 104) with fftw\n",
            "2021-10-31 13:26:18,482 - rfpipe.search - INFO - Correcting by delay/resampling 65/2 ints in parallel mode\n",
            "2021-10-31 13:26:20,465 - rfpipe.search - INFO - image search of 145 ints (0-144) in seg 0 at DM/dt 1838.5/2 with image 1152x486 (uvres 104) with fftw\n",
            "2021-10-31 13:26:20,558 - rfpipe.search - INFO - Correcting by delay/resampling 66/2 ints in parallel mode\n",
            "2021-10-31 13:26:22,605 - rfpipe.search - INFO - image search of 145 ints (0-144) in seg 0 at DM/dt 1838.5/2 with image 1152x486 (uvres 104) with fftw\n",
            "2021-10-31 13:26:22,701 - rfpipe.search - INFO - Correcting by delay/resampling 66/2 ints in parallel mode\n",
            "2021-10-31 13:26:24,769 - rfpipe.search - INFO - image search of 144 ints (0-143) in seg 0 at DM/dt 1868.2/2 with image 1152x486 (uvres 104) with fftw\n",
            "2021-10-31 13:26:24,864 - rfpipe.search - INFO - Correcting by delay/resampling 67/2 ints in parallel mode\n",
            "2021-10-31 13:26:27,003 - rfpipe.search - INFO - image search of 143 ints (0-142) in seg 0 at DM/dt 1898.0/2 with image 1152x486 (uvres 104) with fftw\n",
            "2021-10-31 13:26:27,108 - rfpipe.search - INFO - Correcting by delay/resampling 69/2 ints in parallel mode\n",
            "2021-10-31 13:26:29,342 - rfpipe.search - INFO - image search of 143 ints (0-142) in seg 0 at DM/dt 1927.7/2 with image 1152x486 (uvres 104) with fftw\n",
            "2021-10-31 13:26:29,442 - rfpipe.search - INFO - Correcting by delay/resampling 70/2 ints in parallel mode\n",
            "2021-10-31 13:26:31,614 - rfpipe.search - INFO - image search of 143 ints (0-142) in seg 0 at DM/dt 1938.5/2 with image 1152x486 (uvres 104) with fftw\n",
            "2021-10-31 13:26:31,708 - rfpipe.search - INFO - Correcting by delay/resampling 70/2 ints in parallel mode\n",
            "2021-10-31 13:26:33,805 - rfpipe.search - INFO - image search of 89 ints (0-88) in seg 0 at DM/dt 0.0/4 with image 1152x486 (uvres 104) with fftw\n",
            "2021-10-31 13:26:33,904 - rfpipe.search - INFO - Correcting by delay/resampling 0/4 ints in parallel mode\n",
            "2021-10-31 13:26:35,526 - rfpipe.search - INFO - image search of 73 ints (0-72) in seg 0 at DM/dt 1749.2/4 with image 1152x486 (uvres 104) with fftw\n",
            "2021-10-31 13:26:35,625 - rfpipe.search - INFO - Correcting by delay/resampling 63/4 ints in parallel mode\n",
            "2021-10-31 13:26:37,077 - rfpipe.search - INFO - image search of 73 ints (0-72) in seg 0 at DM/dt 1779.0/4 with image 1152x486 (uvres 104) with fftw\n",
            "2021-10-31 13:26:37,176 - rfpipe.search - INFO - Correcting by delay/resampling 64/4 ints in parallel mode\n",
            "2021-10-31 13:26:38,609 - rfpipe.search - INFO - image search of 72 ints (0-71) in seg 0 at DM/dt 1808.7/4 with image 1152x486 (uvres 104) with fftw\n",
            "2021-10-31 13:26:38,714 - rfpipe.search - INFO - Correcting by delay/resampling 65/4 ints in parallel mode\n",
            "2021-10-31 13:26:40,068 - rfpipe.search - INFO - image search of 72 ints (0-71) in seg 0 at DM/dt 1838.5/4 with image 1152x486 (uvres 104) with fftw\n",
            "2021-10-31 13:26:40,163 - rfpipe.search - INFO - Correcting by delay/resampling 66/4 ints in parallel mode\n",
            "2021-10-31 13:26:41,478 - rfpipe.search - INFO - image search of 72 ints (0-71) in seg 0 at DM/dt 1838.5/4 with image 1152x486 (uvres 104) with fftw\n",
            "2021-10-31 13:26:41,572 - rfpipe.search - INFO - Correcting by delay/resampling 66/4 ints in parallel mode\n",
            "2021-10-31 13:26:42,889 - rfpipe.search - INFO - image search of 72 ints (0-71) in seg 0 at DM/dt 1868.2/4 with image 1152x486 (uvres 104) with fftw\n",
            "2021-10-31 13:26:42,983 - rfpipe.search - INFO - Correcting by delay/resampling 67/4 ints in parallel mode\n",
            "2021-10-31 13:26:44,319 - rfpipe.search - INFO - image search of 71 ints (0-70) in seg 0 at DM/dt 1898.0/4 with image 1152x486 (uvres 104) with fftw\n",
            "2021-10-31 13:26:44,412 - rfpipe.search - INFO - Correcting by delay/resampling 69/4 ints in parallel mode\n",
            "2021-10-31 13:26:45,739 - rfpipe.search - INFO - image search of 71 ints (0-70) in seg 0 at DM/dt 1927.7/4 with image 1152x486 (uvres 104) with fftw\n",
            "2021-10-31 13:26:45,843 - rfpipe.search - INFO - Correcting by delay/resampling 70/4 ints in parallel mode\n",
            "2021-10-31 13:26:47,269 - rfpipe.search - INFO - image search of 71 ints (0-70) in seg 0 at DM/dt 1938.5/4 with image 1152x486 (uvres 104) with fftw\n",
            "2021-10-31 13:26:47,378 - rfpipe.search - INFO - Correcting by delay/resampling 70/4 ints in parallel mode\n",
            "2021-10-31 13:26:48,801 - rfpipe.search - INFO - image search of 44 ints (0-43) in seg 0 at DM/dt 0.0/8 with image 1152x486 (uvres 104) with fftw\n",
            "2021-10-31 13:26:48,895 - rfpipe.search - INFO - Correcting by delay/resampling 0/8 ints in parallel mode\n",
            "2021-10-31 13:26:50,156 - rfpipe.search - INFO - image search of 36 ints (0-35) in seg 0 at DM/dt 1749.2/8 with image 1152x486 (uvres 104) with fftw\n",
            "2021-10-31 13:26:50,253 - rfpipe.search - INFO - Correcting by delay/resampling 63/8 ints in parallel mode\n",
            "2021-10-31 13:26:51,332 - rfpipe.search - INFO - image search of 36 ints (0-35) in seg 0 at DM/dt 1779.0/8 with image 1152x486 (uvres 104) with fftw\n",
            "2021-10-31 13:26:51,427 - rfpipe.search - INFO - Correcting by delay/resampling 64/8 ints in parallel mode\n",
            "2021-10-31 13:26:52,487 - rfpipe.search - INFO - image search of 36 ints (0-35) in seg 0 at DM/dt 1808.7/8 with image 1152x486 (uvres 104) with fftw\n",
            "2021-10-31 13:26:52,581 - rfpipe.search - INFO - Correcting by delay/resampling 65/8 ints in parallel mode\n",
            "2021-10-31 13:26:53,616 - rfpipe.search - INFO - image search of 36 ints (0-35) in seg 0 at DM/dt 1838.5/8 with image 1152x486 (uvres 104) with fftw\n",
            "2021-10-31 13:26:53,712 - rfpipe.search - INFO - Correcting by delay/resampling 66/8 ints in parallel mode\n",
            "2021-10-31 13:26:54,709 - rfpipe.search - INFO - image search of 36 ints (0-35) in seg 0 at DM/dt 1838.5/8 with image 1152x486 (uvres 104) with fftw\n",
            "2021-10-31 13:26:54,802 - rfpipe.search - INFO - Correcting by delay/resampling 66/8 ints in parallel mode\n",
            "2021-10-31 13:26:55,803 - rfpipe.search - INFO - image search of 36 ints (0-35) in seg 0 at DM/dt 1868.2/8 with image 1152x486 (uvres 104) with fftw\n",
            "2021-10-31 13:26:55,896 - rfpipe.search - INFO - Correcting by delay/resampling 67/8 ints in parallel mode\n",
            "2021-10-31 13:26:56,892 - rfpipe.search - INFO - image search of 35 ints (0-34) in seg 0 at DM/dt 1898.0/8 with image 1152x486 (uvres 104) with fftw\n",
            "2021-10-31 13:26:56,987 - rfpipe.search - INFO - Correcting by delay/resampling 69/8 ints in parallel mode\n",
            "2021-10-31 13:26:57,948 - rfpipe.search - INFO - image search of 35 ints (0-34) in seg 0 at DM/dt 1927.7/8 with image 1152x486 (uvres 104) with fftw\n",
            "2021-10-31 13:26:58,041 - rfpipe.search - INFO - Correcting by delay/resampling 70/8 ints in parallel mode\n",
            "2021-10-31 13:26:58,994 - rfpipe.search - INFO - image search of 35 ints (0-34) in seg 0 at DM/dt 1938.5/8 with image 1152x486 (uvres 104) with fftw\n",
            "2021-10-31 13:26:59,088 - rfpipe.search - INFO - Correcting by delay/resampling 70/8 ints in parallel mode\n",
            "2021-10-31 13:27:00,083 - rfpipe.search - INFO - First pass found 0 candidates in seg 0.\n"
          ]
        },
        {
          "output_type": "error",
          "ename": "TypeError",
          "evalue": "expected str, bytes or os.PathLike object, not NoneType",
          "traceback": [
            "\u001b[0;31m---------------------------------------------------------------------------\u001b[0m",
            "\u001b[0;31mTypeError\u001b[0m                                 Traceback (most recent call last)",
            "\u001b[0;32m<ipython-input-98-dbc85a1064c7>\u001b[0m in \u001b[0;36m<module>\u001b[0;34m\u001b[0m\n\u001b[1;32m      1\u001b[0m \u001b[0mdm\u001b[0m \u001b[0;34m=\u001b[0m \u001b[0mcc\u001b[0m\u001b[0;34m.\u001b[0m\u001b[0mstate\u001b[0m\u001b[0;34m.\u001b[0m\u001b[0mdmarr\u001b[0m\u001b[0;34m[\u001b[0m\u001b[0mcc\u001b[0m\u001b[0;34m.\u001b[0m\u001b[0mlocs\u001b[0m\u001b[0;34m[\u001b[0m\u001b[0;36m0\u001b[0m\u001b[0;34m]\u001b[0m\u001b[0;34m[\u001b[0m\u001b[0;36m2\u001b[0m\u001b[0;34m]\u001b[0m\u001b[0;34m]\u001b[0m\u001b[0;34m\u001b[0m\u001b[0;34m\u001b[0m\u001b[0m\n\u001b[0;32m----> 2\u001b[0;31m \u001b[0mcc2\u001b[0m \u001b[0;34m=\u001b[0m \u001b[0mreproduce\u001b[0m\u001b[0;34m.\u001b[0m\u001b[0mrefine_sdm\u001b[0m\u001b[0;34m(\u001b[0m\u001b[0;34m'./realfast_21A-017.sb39654566.eb40110122.59462.47288809028_1630845033599'\u001b[0m\u001b[0;34m,\u001b[0m \u001b[0mdm\u001b[0m\u001b[0;34m,\u001b[0m \u001b[0mgainpath\u001b[0m\u001b[0;34m=\u001b[0m\u001b[0;34m'./'\u001b[0m\u001b[0;34m,\u001b[0m \u001b[0mclassify\u001b[0m\u001b[0;34m=\u001b[0m\u001b[0;32mFalse\u001b[0m\u001b[0;34m,\u001b[0m \u001b[0mrefine\u001b[0m\u001b[0;34m=\u001b[0m\u001b[0;32mFalse\u001b[0m\u001b[0;34m,\u001b[0m \u001b[0mddm\u001b[0m\u001b[0;34m=\u001b[0m\u001b[0;36m100\u001b[0m\u001b[0;34m,\u001b[0m \u001b[0mpreffile\u001b[0m\u001b[0;34m=\u001b[0m\u001b[0;34m'./realfast.yml'\u001b[0m\u001b[0;34m,\u001b[0m \u001b[0minprefs\u001b[0m\u001b[0;34m=\u001b[0m\u001b[0;34m{\u001b[0m\u001b[0;34m'fftmode'\u001b[0m\u001b[0;34m:\u001b[0m \u001b[0;34m'fftw'\u001b[0m\u001b[0;34m}\u001b[0m\u001b[0;34m)\u001b[0m\u001b[0;34m\u001b[0m\u001b[0;34m\u001b[0m\u001b[0m\n\u001b[0m",
            "\u001b[0;32m~/anaconda3/envs/py37/lib/python3.7/site-packages/rfpipe-1.6.3-py3.7.egg/rfpipe/reproduce.py\u001b[0m in \u001b[0;36mrefine_sdm\u001b[0;34m(sdmname, dm, preffile, gainpath, npix_max, npix_max_orig, search_sigma, ddm, refine, classify, devicenum, workdir, inprefs)\u001b[0m\n\u001b[1;32m    306\u001b[0m     \u001b[0mst\u001b[0m\u001b[0;34m.\u001b[0m\u001b[0mclearcache\u001b[0m\u001b[0;34m(\u001b[0m\u001b[0;34m)\u001b[0m\u001b[0;34m\u001b[0m\u001b[0;34m\u001b[0m\u001b[0m\n\u001b[1;32m    307\u001b[0m     \u001b[0mst\u001b[0m\u001b[0;34m.\u001b[0m\u001b[0msummarize\u001b[0m\u001b[0;34m(\u001b[0m\u001b[0;34m)\u001b[0m\u001b[0;34m\u001b[0m\u001b[0;34m\u001b[0m\u001b[0m\n\u001b[0;32m--> 308\u001b[0;31m     \u001b[0mccs\u001b[0m \u001b[0;34m=\u001b[0m \u001b[0mpipeline\u001b[0m\u001b[0;34m.\u001b[0m\u001b[0mpipeline_scan\u001b[0m\u001b[0;34m(\u001b[0m\u001b[0mst\u001b[0m\u001b[0;34m,\u001b[0m \u001b[0mdevicenum\u001b[0m\u001b[0;34m=\u001b[0m\u001b[0mdevicenum\u001b[0m\u001b[0;34m)\u001b[0m\u001b[0;34m\u001b[0m\u001b[0;34m\u001b[0m\u001b[0m\n\u001b[0m\u001b[1;32m    309\u001b[0m     \u001b[0mcc\u001b[0m \u001b[0;34m=\u001b[0m \u001b[0msum\u001b[0m\u001b[0;34m(\u001b[0m\u001b[0mccs\u001b[0m\u001b[0;34m)\u001b[0m \u001b[0;32mif\u001b[0m \u001b[0mlen\u001b[0m\u001b[0;34m(\u001b[0m\u001b[0mccs\u001b[0m\u001b[0;34m)\u001b[0m \u001b[0;32melse\u001b[0m \u001b[0mccs\u001b[0m\u001b[0;34m\u001b[0m\u001b[0;34m\u001b[0m\u001b[0m\n\u001b[1;32m    310\u001b[0m \u001b[0;34m\u001b[0m\u001b[0m\n",
            "\u001b[0;32m~/anaconda3/envs/py37/lib/python3.7/site-packages/rfpipe-1.6.3-py3.7.egg/rfpipe/pipeline.py\u001b[0m in \u001b[0;36mpipeline_scan\u001b[0;34m(st, segments, cfile, vys_timeout, devicenum)\u001b[0m\n\u001b[1;32m     28\u001b[0m     \u001b[0;32mfor\u001b[0m \u001b[0msegment\u001b[0m \u001b[0;32min\u001b[0m \u001b[0msegments\u001b[0m\u001b[0;34m:\u001b[0m\u001b[0;34m\u001b[0m\u001b[0;34m\u001b[0m\u001b[0m\n\u001b[1;32m     29\u001b[0m         candcollection += pipeline_seg(st, segment, devicenum=devicenum, cfile=cfile,\n\u001b[0;32m---> 30\u001b[0;31m                                        vys_timeout=vys_timeout)\n\u001b[0m\u001b[1;32m     31\u001b[0m \u001b[0;34m\u001b[0m\u001b[0m\n\u001b[1;32m     32\u001b[0m     \u001b[0;32mreturn\u001b[0m \u001b[0mcandcollection\u001b[0m\u001b[0;34m\u001b[0m\u001b[0;34m\u001b[0m\u001b[0m\n",
            "\u001b[0;32m~/anaconda3/envs/py37/lib/python3.7/site-packages/rfpipe-1.6.3-py3.7.egg/rfpipe/pipeline.py\u001b[0m in \u001b[0;36mpipeline_seg\u001b[0;34m(st, segment, cfile, vys_timeout, devicenum)\u001b[0m\n\u001b[1;32m     41\u001b[0m \u001b[0;34m\u001b[0m\u001b[0m\n\u001b[1;32m     42\u001b[0m     \u001b[0mdata\u001b[0m \u001b[0;34m=\u001b[0m \u001b[0msource\u001b[0m\u001b[0;34m.\u001b[0m\u001b[0mread_segment\u001b[0m\u001b[0;34m(\u001b[0m\u001b[0mst\u001b[0m\u001b[0;34m,\u001b[0m \u001b[0msegment\u001b[0m\u001b[0;34m,\u001b[0m \u001b[0mtimeout\u001b[0m\u001b[0;34m=\u001b[0m\u001b[0mvys_timeout\u001b[0m\u001b[0;34m,\u001b[0m \u001b[0mcfile\u001b[0m\u001b[0;34m=\u001b[0m\u001b[0mcfile\u001b[0m\u001b[0;34m)\u001b[0m\u001b[0;34m\u001b[0m\u001b[0;34m\u001b[0m\u001b[0m\n\u001b[0;32m---> 43\u001b[0;31m     \u001b[0mcandcollection\u001b[0m \u001b[0;34m=\u001b[0m \u001b[0mprep_and_search\u001b[0m\u001b[0;34m(\u001b[0m\u001b[0mst\u001b[0m\u001b[0;34m,\u001b[0m \u001b[0msegment\u001b[0m\u001b[0;34m,\u001b[0m \u001b[0mdata\u001b[0m\u001b[0;34m,\u001b[0m \u001b[0mdevicenum\u001b[0m\u001b[0;34m=\u001b[0m\u001b[0mdevicenum\u001b[0m\u001b[0;34m)\u001b[0m\u001b[0;34m\u001b[0m\u001b[0;34m\u001b[0m\u001b[0m\n\u001b[0m\u001b[1;32m     44\u001b[0m \u001b[0;34m\u001b[0m\u001b[0m\n\u001b[1;32m     45\u001b[0m     \u001b[0;32mreturn\u001b[0m \u001b[0mcandcollection\u001b[0m\u001b[0;34m\u001b[0m\u001b[0;34m\u001b[0m\u001b[0m\n",
            "\u001b[0;32m~/anaconda3/envs/py37/lib/python3.7/site-packages/rfpipe-1.6.3-py3.7.egg/rfpipe/pipeline.py\u001b[0m in \u001b[0;36mprep_and_search\u001b[0;34m(st, segment, data, devicenum, returnsoltime)\u001b[0m\n\u001b[1;32m     80\u001b[0m     \u001b[0mcandcollection\u001b[0m\u001b[0;34m.\u001b[0m\u001b[0msoltime\u001b[0m \u001b[0;34m=\u001b[0m \u001b[0msoltime\u001b[0m\u001b[0;34m\u001b[0m\u001b[0;34m\u001b[0m\u001b[0m\n\u001b[1;32m     81\u001b[0m \u001b[0;34m\u001b[0m\u001b[0m\n\u001b[0;32m---> 82\u001b[0;31m     \u001b[0mcandidates\u001b[0m\u001b[0;34m.\u001b[0m\u001b[0msave_cands\u001b[0m\u001b[0;34m(\u001b[0m\u001b[0mst\u001b[0m\u001b[0;34m,\u001b[0m \u001b[0mcandcollection\u001b[0m\u001b[0;34m)\u001b[0m\u001b[0;34m\u001b[0m\u001b[0;34m\u001b[0m\u001b[0m\n\u001b[0m\u001b[1;32m     83\u001b[0m \u001b[0;34m\u001b[0m\u001b[0m\n\u001b[1;32m     84\u001b[0m     \u001b[0;32mreturn\u001b[0m \u001b[0mcandcollection\u001b[0m\u001b[0;34m\u001b[0m\u001b[0;34m\u001b[0m\u001b[0m\n",
            "\u001b[0;32m~/anaconda3/envs/py37/lib/python3.7/site-packages/rfpipe-1.6.3-py3.7.egg/rfpipe/candidates.py\u001b[0m in \u001b[0;36msave_cands\u001b[0;34m(st, candcollection)\u001b[0m\n\u001b[1;32m    761\u001b[0m         logger.info('Saving {0} candidate{1} {2} canddata to {3}.'\n\u001b[1;32m    762\u001b[0m                     .format(len(candcollection),\n\u001b[0;32m--> 763\u001b[0;31m                             's'[not len(candcollection)-1:], wwo, st.candsfile))\n\u001b[0m\u001b[1;32m    764\u001b[0m \u001b[0;34m\u001b[0m\u001b[0m\n\u001b[1;32m    765\u001b[0m         \u001b[0;32mtry\u001b[0m\u001b[0;34m:\u001b[0m\u001b[0;34m\u001b[0m\u001b[0;34m\u001b[0m\u001b[0m\n",
            "\u001b[0;32m~/anaconda3/envs/py37/lib/python3.7/site-packages/rfpipe-1.6.3-py3.7.egg/rfpipe/state.py\u001b[0m in \u001b[0;36mcandsfile\u001b[0;34m(self)\u001b[0m\n\u001b[1;32m    909\u001b[0m         \u001b[0;32melse\u001b[0m\u001b[0;34m:\u001b[0m\u001b[0;34m\u001b[0m\u001b[0;34m\u001b[0m\u001b[0m\n\u001b[1;32m    910\u001b[0m             return os.path.join(self.prefs.workdir,\n\u001b[0;32m--> 911\u001b[0;31m                                 'cands_' + self.fileroot + '.pkl')\n\u001b[0m\u001b[1;32m    912\u001b[0m \u001b[0;34m\u001b[0m\u001b[0m\n\u001b[1;32m    913\u001b[0m     \u001b[0;34m@\u001b[0m\u001b[0mproperty\u001b[0m\u001b[0;34m\u001b[0m\u001b[0;34m\u001b[0m\u001b[0m\n",
            "\u001b[0;32m~/anaconda3/envs/py37/lib/python3.7/posixpath.py\u001b[0m in \u001b[0;36mjoin\u001b[0;34m(a, *p)\u001b[0m\n\u001b[1;32m     78\u001b[0m     \u001b[0mwill\u001b[0m \u001b[0mbe\u001b[0m \u001b[0mdiscarded\u001b[0m\u001b[0;34m.\u001b[0m  \u001b[0mAn\u001b[0m \u001b[0mempty\u001b[0m \u001b[0mlast\u001b[0m \u001b[0mpart\u001b[0m \u001b[0mwill\u001b[0m \u001b[0mresult\u001b[0m \u001b[0;32min\u001b[0m \u001b[0ma\u001b[0m \u001b[0mpath\u001b[0m \u001b[0mthat\u001b[0m\u001b[0;34m\u001b[0m\u001b[0;34m\u001b[0m\u001b[0m\n\u001b[1;32m     79\u001b[0m     ends with a separator.\"\"\"\n\u001b[0;32m---> 80\u001b[0;31m     \u001b[0ma\u001b[0m \u001b[0;34m=\u001b[0m \u001b[0mos\u001b[0m\u001b[0;34m.\u001b[0m\u001b[0mfspath\u001b[0m\u001b[0;34m(\u001b[0m\u001b[0ma\u001b[0m\u001b[0;34m)\u001b[0m\u001b[0;34m\u001b[0m\u001b[0;34m\u001b[0m\u001b[0m\n\u001b[0m\u001b[1;32m     81\u001b[0m     \u001b[0msep\u001b[0m \u001b[0;34m=\u001b[0m \u001b[0m_get_sep\u001b[0m\u001b[0;34m(\u001b[0m\u001b[0ma\u001b[0m\u001b[0;34m)\u001b[0m\u001b[0;34m\u001b[0m\u001b[0;34m\u001b[0m\u001b[0m\n\u001b[1;32m     82\u001b[0m     \u001b[0mpath\u001b[0m \u001b[0;34m=\u001b[0m \u001b[0ma\u001b[0m\u001b[0;34m\u001b[0m\u001b[0;34m\u001b[0m\u001b[0m\n",
            "\u001b[0;31mTypeError\u001b[0m: expected str, bytes or os.PathLike object, not NoneType"
          ]
        }
      ],
      "execution_count": 98,
      "metadata": {
        "collapsed": true,
        "jupyter": {
          "source_hidden": false,
          "outputs_hidden": false
        },
        "nteract": {
          "transient": {
            "deleting": false
          }
        },
        "execution": {
          "iopub.status.busy": "2021-10-31T20:25:08.733Z",
          "iopub.execute_input": "2021-10-31T20:25:08.746Z",
          "iopub.status.idle": "2021-10-31T20:07:56.996Z",
          "shell.execute_reply": "2021-10-31T20:07:57.023Z"
        }
      }
    },
    {
      "cell_type": "code",
      "source": [
        "cd = get_maxsnr_cd(pkl)"
      ],
      "outputs": [
        {
          "output_type": "error",
          "ename": "AssertionError",
          "evalue": "",
          "traceback": [
            "\u001b[0;31m---------------------------------------------------------------------------\u001b[0m",
            "\u001b[0;31mAssertionError\u001b[0m                            Traceback (most recent call last)",
            "\u001b[0;32m<ipython-input-8-cf3709e31f9b>\u001b[0m in \u001b[0;36m<module>\u001b[0;34m\u001b[0m\n\u001b[0;32m----> 1\u001b[0;31m \u001b[0mcd\u001b[0m \u001b[0;34m=\u001b[0m \u001b[0mget_maxsnr_cd\u001b[0m\u001b[0;34m(\u001b[0m\u001b[0mpkl\u001b[0m\u001b[0;34m)\u001b[0m\u001b[0;34m\u001b[0m\u001b[0;34m\u001b[0m\u001b[0m\n\u001b[0m",
            "\u001b[0;32m~/code/realfast_analysis/refineloc/loc_utils.py\u001b[0m in \u001b[0;36mget_maxsnr_cd\u001b[0;34m(pkl)\u001b[0m\n\u001b[1;32m     47\u001b[0m     \"\"\"\n\u001b[1;32m     48\u001b[0m     \u001b[0mccs\u001b[0m \u001b[0;34m=\u001b[0m \u001b[0mlist\u001b[0m\u001b[0;34m(\u001b[0m\u001b[0mcandidates\u001b[0m\u001b[0;34m.\u001b[0m\u001b[0miter_cands\u001b[0m\u001b[0;34m(\u001b[0m\u001b[0mpkl\u001b[0m\u001b[0;34m,\u001b[0m \u001b[0mselect\u001b[0m\u001b[0;34m=\u001b[0m\u001b[0;34m'candcollection'\u001b[0m\u001b[0;34m)\u001b[0m\u001b[0;34m)\u001b[0m\u001b[0;34m\u001b[0m\u001b[0;34m\u001b[0m\u001b[0m\n\u001b[0;32m---> 49\u001b[0;31m     \u001b[0;32massert\u001b[0m \u001b[0mlen\u001b[0m\u001b[0;34m(\u001b[0m\u001b[0mccs\u001b[0m\u001b[0;34m)\u001b[0m \u001b[0;34m==\u001b[0m \u001b[0;36m1\u001b[0m\u001b[0;34m\u001b[0m\u001b[0;34m\u001b[0m\u001b[0m\n\u001b[0m\u001b[1;32m     50\u001b[0m     \u001b[0mcc\u001b[0m \u001b[0;34m=\u001b[0m \u001b[0mccs\u001b[0m\u001b[0;34m[\u001b[0m\u001b[0;36m0\u001b[0m\u001b[0;34m]\u001b[0m\u001b[0;34m\u001b[0m\u001b[0;34m\u001b[0m\u001b[0m\n\u001b[1;32m     51\u001b[0m     \u001b[0mcds\u001b[0m \u001b[0;34m=\u001b[0m \u001b[0mlist\u001b[0m\u001b[0;34m(\u001b[0m\u001b[0mcandidates\u001b[0m\u001b[0;34m.\u001b[0m\u001b[0miter_cands\u001b[0m\u001b[0;34m(\u001b[0m\u001b[0mpkl\u001b[0m\u001b[0;34m,\u001b[0m \u001b[0mselect\u001b[0m\u001b[0;34m=\u001b[0m\u001b[0;34m'canddata'\u001b[0m\u001b[0;34m)\u001b[0m\u001b[0;34m)\u001b[0m\u001b[0;34m\u001b[0m\u001b[0;34m\u001b[0m\u001b[0m\n",
            "\u001b[0;31mAssertionError\u001b[0m: "
          ]
        }
      ],
      "execution_count": 8,
      "metadata": {
        "execution": {
          "iopub.status.busy": "2021-10-31T19:18:14.510Z",
          "iopub.execute_input": "2021-10-31T19:18:14.518Z"
        }
      }
    },
    {
      "cell_type": "code",
      "source": [
        "# cd = list(candidates.iter_cands(pkl, select='canddata'))[-1][1]\n",
        "cd.snr1"
      ],
      "outputs": [
        {
          "output_type": "execute_result",
          "execution_count": 53,
          "data": {
            "text/plain": "4.9811177"
          },
          "metadata": {}
        }
      ],
      "execution_count": 53,
      "metadata": {
        "execution": {
          "iopub.status.busy": "2021-10-31T19:37:28.783Z",
          "iopub.execute_input": "2021-10-31T19:37:28.793Z",
          "iopub.status.idle": "2021-10-31T19:37:28.876Z",
          "shell.execute_reply": "2021-10-31T19:37:28.886Z"
        }
      }
    },
    {
      "cell_type": "code",
      "source": [
        "i, name, dm = calc_cand_integration(cd)"
      ],
      "outputs": [],
      "execution_count": null,
      "metadata": {}
    },
    {
      "cell_type": "code",
      "source": [
        "print(i, name, dm)"
      ],
      "outputs": [],
      "execution_count": null,
      "metadata": {}
    },
    {
      "cell_type": "code",
      "source": [
        "n = 10\n",
        "i = i - 5\n",
        "i, n"
      ],
      "outputs": [],
      "execution_count": null,
      "metadata": {}
    },
    {
      "cell_type": "markdown",
      "source": [
        "### CASA prep of slow and fast cutout SDMs"
      ],
      "metadata": {}
    },
    {
      "cell_type": "code",
      "source": [
        "# this will write integrations from i to i + n-1\n",
        "ext = f'ddcut{i}to{i+n-1}_{dm}'\n",
        "ddcut_name = name[:-1] + '.' + f'{ext}'\n",
        "print(ddcut_name)"
      ],
      "outputs": [],
      "execution_count": null,
      "metadata": {}
    },
    {
      "cell_type": "code",
      "source": [
        "!bdf_dedisperse_cut.py -i 1:{i}:{n} -d {dm} -e {ext} {name}"
      ],
      "outputs": [],
      "execution_count": null,
      "metadata": {}
    },
    {
      "cell_type": "code",
      "source": [
        "!asdm2MS -s 1 --ocm co {ddcut_name}"
      ],
      "outputs": [],
      "execution_count": null,
      "metadata": {}
    },
    {
      "cell_type": "markdown",
      "source": [
        "### Check spectra of ddcut SDM\n",
        "#### Add the correct path of gainfile"
      ],
      "metadata": {}
    },
    {
      "cell_type": "code",
      "source": [
        "from loc_utils import prepare_data"
      ],
      "outputs": [],
      "execution_count": null,
      "metadata": {}
    },
    {
      "cell_type": "code",
      "source": [
        "sdmfile = glob.glob(f'{ddcut_name}')[0]\n",
        "gainfile = '../FILE.GN'\n",
        "delta_l = cd.l1\n",
        "delta_m = cd.m1\n",
        "spws = cd.state.spw"
      ],
      "outputs": [],
      "execution_count": null,
      "metadata": {}
    },
    {
      "cell_type": "code",
      "source": [
        "data, st = prepare_data(sdmfile,\n",
        "    gainfile,\n",
        "    delta_l,\n",
        "    delta_m,\n",
        "    segment=0,\n",
        "    dm=0,\n",
        "    dt=1,\n",
        "    spws=spws)"
      ],
      "outputs": [],
      "execution_count": null,
      "metadata": {}
    },
    {
      "cell_type": "code",
      "source": [
        "d = np.real(data.mean(axis=1).mean(axis=2))"
      ],
      "outputs": [],
      "execution_count": null,
      "metadata": {}
    },
    {
      "cell_type": "code",
      "source": [
        "len(st.freq), d.shape"
      ],
      "outputs": [],
      "execution_count": null,
      "metadata": {}
    },
    {
      "cell_type": "markdown",
      "source": [
        "#### set appropriate frequency range here"
      ],
      "metadata": {}
    },
    {
      "cell_type": "code",
      "source": [
        "mask = (st.freq < 3.5) & (st.freq > 2.5)"
      ],
      "outputs": [],
      "execution_count": null,
      "metadata": {}
    },
    {
      "cell_type": "code",
      "source": [
        "d2 = d[:, mask]\n",
        "ds = d2.mean(1)\n",
        "amax = np.argmax(ds)"
      ],
      "outputs": [],
      "execution_count": null,
      "metadata": {}
    },
    {
      "cell_type": "code",
      "source": [
        "plt.plot(ds)"
      ],
      "outputs": [],
      "execution_count": null,
      "metadata": {}
    },
    {
      "cell_type": "code",
      "source": [
        "amax"
      ],
      "outputs": [],
      "execution_count": null,
      "metadata": {}
    },
    {
      "cell_type": "code",
      "source": [
        "# plt.scatter(st.freq[mask], d2[amax-1, :], c='r')\n",
        "# plt.scatter(st.freq[mask], d2[amax+1, :], c='g')\n",
        "plt.scatter(st.freq[mask], d2[amax, :], c='k')"
      ],
      "outputs": [],
      "execution_count": null,
      "metadata": {}
    },
    {
      "cell_type": "code",
      "source": [
        "for j in range(d2.shape[0]):\n",
        "    plt.scatter(st.freq[mask], d2[j,:], label=f'{j}, {d[j,:][mask].mean()}')\n",
        "plt.legend()"
      ],
      "outputs": [],
      "execution_count": null,
      "metadata": {}
    },
    {
      "cell_type": "markdown",
      "source": [
        "#### Delete the cutout SDMs"
      ],
      "metadata": {}
    },
    {
      "cell_type": "code",
      "source": [
        "ls -lrthd *{ddcut_name}*"
      ],
      "outputs": [],
      "execution_count": null,
      "metadata": {}
    },
    {
      "cell_type": "code",
      "source": [
        "for f in glob.glob(f'{ddcut_name}*'):\n",
        "    !rm -rf {f}"
      ],
      "outputs": [],
      "execution_count": null,
      "metadata": {}
    },
    {
      "cell_type": "code",
      "source": [
        "ls -lrthd *{ddcut_name}*"
      ],
      "outputs": [],
      "execution_count": null,
      "metadata": {}
    },
    {
      "cell_type": "markdown",
      "source": [
        "#### Generate SDM with just the signal\n",
        "\n",
        "#### set the appropriate (i, n) to use based on the above 2 plots"
      ],
      "metadata": {}
    },
    {
      "cell_type": "code",
      "source": [
        "i_use = i + 5"
      ],
      "outputs": [],
      "execution_count": null,
      "metadata": {}
    },
    {
      "cell_type": "code",
      "source": [
        "i = i_use\n",
        "n = 2"
      ],
      "outputs": [],
      "execution_count": null,
      "metadata": {}
    },
    {
      "cell_type": "code",
      "source": [
        "ext = f'ddcut{i}to{i+n-1}_{dm}'\n",
        "ddcut_name = name[:-1] + '.' + f'{ext}'\n",
        "print(ddcut_name)"
      ],
      "outputs": [],
      "execution_count": null,
      "metadata": {}
    },
    {
      "cell_type": "code",
      "source": [
        "!bdf_dedisperse_cut.py -i 1:{i}:{n} -d {dm} -e {ext} {name}"
      ],
      "outputs": [],
      "execution_count": null,
      "metadata": {}
    },
    {
      "cell_type": "code",
      "source": [
        "!asdm2MS -s 1 --ocm co {ddcut_name}"
      ],
      "outputs": [],
      "execution_count": null,
      "metadata": {}
    },
    {
      "cell_type": "code",
      "source": [
        "ls -dlrth {ddcut_name}*"
      ],
      "outputs": [],
      "execution_count": null,
      "metadata": {}
    }
  ],
  "metadata": {
    "kernelspec": {
      "display_name": "Python 3",
      "language": "python",
      "name": "python3"
    },
    "language_info": {
      "name": "python",
      "version": "3.7.10",
      "mimetype": "text/x-python",
      "codemirror_mode": {
        "name": "ipython",
        "version": 3
      },
      "pygments_lexer": "ipython3",
      "nbconvert_exporter": "python",
      "file_extension": ".py"
    },
    "nteract": {
      "version": "0.28.0"
    }
  },
  "nbformat": 4,
  "nbformat_minor": 2
}