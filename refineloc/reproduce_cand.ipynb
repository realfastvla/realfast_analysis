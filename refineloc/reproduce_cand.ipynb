{
 "cells": [
  {
   "cell_type": "code",
   "execution_count": null,
   "metadata": {},
   "outputs": [],
   "source": [
    "from rfpipe import candidates, util, state, metadata\n",
    "from rfpipe.reproduce import pipeline_datacorrect, pipeline_canddata\n",
    "import os\n",
    "import pickle\n",
    "import logging\n",
    "logger = logging.getLogger(__name__)"
   ]
  },
  {
   "cell_type": "code",
   "execution_count": null,
   "metadata": {},
   "outputs": [],
   "source": [
    "sdmname = 'name'\n",
    "dm = 100\n",
    "preffile = '../../realfast.yml'\n",
    "gainpath = './'\n",
    "devicenum = '0'\n",
    "workdir = './'\n",
    "prefs_pkl = 'path/to/file/all_prefs.pkl'\n",
    "prefsname = 'asda'\n",
    "# segment, candint, dmind, dtind, beamnum = candloc\n",
    "candloc = (0, 54, 44, 1, 0)"
   ]
  },
  {
   "cell_type": "code",
   "execution_count": null,
   "metadata": {},
   "outputs": [],
   "source": [
    "with open(prefs_pkl, 'rb') as handle:\n",
    "    b = pickle.load(handle)\n",
    "prefs = b[prefsname]\n",
    "del b"
   ]
  },
  {
   "cell_type": "code",
   "execution_count": null,
   "metadata": {},
   "outputs": [],
   "source": [
    "datasetId = '{0}'.format('_'.join(os.path.basename(sdmname).split('_')[1:-1]))\n",
    "# set the paths to the gainfile\n",
    "gainname = datasetId + '.GN'\n",
    "logging.info('Searching for the gainfile {0} in {1}'.format(gainname, gainpath))\n",
    "for path, dirs, files in os.walk(gainpath):\n",
    "    for f in filter(lambda x: gainname in x, files):\n",
    "        gainfile = os.path.join(path, gainname)\n",
    "        break\n",
    "\n",
    "bdfdir = metadata.get_bdfdir(sdmfile=sdmname, sdmscan=1)\n",
    "band = metadata.sdmband(sdmfile=sdmname, sdmscan=1, bdfdir=bdfdir)\n",
    "\n",
    "prefs['gainfile'] = gainfile\n",
    "prefs['workdir'] = workdir\n",
    "\n",
    "st = state.State(sdmfile=sdmname, sdmscan=1, inprefs=prefs, \n",
    "                 preffile=preffile, name='NRAOdefault'+band, \n",
    "                 showsummary=True, bdfdir=bdfdir)"
   ]
  },
  {
   "cell_type": "code",
   "execution_count": null,
   "metadata": {},
   "outputs": [],
   "source": [
    "data_corr = pipeline_datacorrect(st, candloc, data_prep=None)"
   ]
  },
  {
   "cell_type": "code",
   "execution_count": null,
   "metadata": {},
   "outputs": [],
   "source": [
    "cd = pipeline_canddata(st, candloc, data_corr, spec_std=None,\n",
    "                       sig_ts=None, kalman_coeffs=None)"
   ]
  },
  {
   "cell_type": "code",
   "execution_count": null,
   "metadata": {},
   "outputs": [],
   "source": [
    "candidates.candplot(cd)"
   ]
  }
 ],
 "metadata": {
  "kernelspec": {
   "display_name": "Python 3",
   "language": "python",
   "name": "python3"
  },
  "language_info": {
   "codemirror_mode": {
    "name": "ipython",
    "version": 3
   },
   "file_extension": ".py",
   "mimetype": "text/x-python",
   "name": "python",
   "nbconvert_exporter": "python",
   "pygments_lexer": "ipython3",
   "version": "3.6.7"
  }
 },
 "nbformat": 4,
 "nbformat_minor": 2
}
