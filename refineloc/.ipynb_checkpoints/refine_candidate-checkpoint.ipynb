{
 "cells": [
  {
   "cell_type": "code",
   "execution_count": null,
   "metadata": {},
   "outputs": [],
   "source": [
    "from rfpipe.reproduce import refine_sdm"
   ]
  },
  {
   "cell_type": "code",
   "execution_count": null,
   "metadata": {},
   "outputs": [],
   "source": [
    "sdmname = 'name'\n",
    "dm = 100\n",
    "preffile = '../../realfast.yml'\n",
    "gainpath = './'\n",
    "devicenum = '1'\n",
    "workdir = 'temp/'"
   ]
  },
  {
   "cell_type": "code",
   "execution_count": null,
   "metadata": {
    "scrolled": true
   },
   "outputs": [],
   "source": [
    "cc = refine_sdm(sdmname=sdmname, dm=dm, preffile=preffile,\n",
    "                gainpath=gainpath, devicenum=devicenum, \n",
    "                npix_max=None, npix_max_orig=None, search_sigma=7, \n",
    "                ddm=100, refine=True, classify=True, workdir=workdir, \n",
    "                inprefs=None)"
   ]
  },
  {
   "cell_type": "code",
   "execution_count": null,
   "metadata": {},
   "outputs": [],
   "source": [
    "st = cc.state\n",
    "\n",
    "import numpy as np\n",
    "\n",
    "chans = np.array(st.chans)\n",
    "cs = []\n",
    "for c in list(chans[(st.freq > 2.500) & (st.freq < 3.700)]):\n",
    "    cs.append(int(c))"
   ]
  },
  {
   "cell_type": "code",
   "execution_count": null,
   "metadata": {},
   "outputs": [],
   "source": [
    "cc.state.uvres, cc.state.npixx, cc.state.npixy"
   ]
  },
  {
   "cell_type": "code",
   "execution_count": null,
   "metadata": {},
   "outputs": [],
   "source": [
    "cc.state.uvres_full, cc.state.npixx_full, cc.state.npixy_full"
   ]
  },
  {
   "cell_type": "code",
   "execution_count": null,
   "metadata": {},
   "outputs": [],
   "source": [
    "cc.prefs.flaglist"
   ]
  },
  {
   "cell_type": "code",
   "execution_count": null,
   "metadata": {},
   "outputs": [],
   "source": [
    "prefs = {'saveplots': True, 'savenoise': False, 'savesols': False, \n",
    "         'savecandcollection': True,\n",
    "         'savecanddata': True,'dm_maxloss': 0.001, 'chans': cs}\n",
    "#          'npix_max': 4096}#, 'uvres':cc.state.uvres_full}"
   ]
  },
  {
   "cell_type": "code",
   "execution_count": null,
   "metadata": {},
   "outputs": [],
   "source": [
    "prefs['flaglist'] = [('badchtslide', 4.0, 20),\n",
    " ('badchtslide', 4, 20),\n",
    " ('badspw', 4.0),\n",
    " ('blstd', 3.5, 0.008)]"
   ]
  },
  {
   "cell_type": "code",
   "execution_count": null,
   "metadata": {},
   "outputs": [],
   "source": [
    "cc = refine_sdm(sdmname=sdmname, dm=dm, preffile=preffile, \n",
    "                gainpath=gainpath, devicenum=devicenum, \n",
    "                npix_max=None, npix_max_orig=None, search_sigma=7, \n",
    "                ddm=100, refine=True, classify=True, workdir=workdir, \n",
    "                inprefs=prefs)"
   ]
  }
 ],
 "metadata": {
  "kernelspec": {
   "display_name": "Python 3",
   "language": "python",
   "name": "python3"
  },
  "language_info": {
   "codemirror_mode": {
    "name": "ipython",
    "version": 3
   },
   "file_extension": ".py",
   "mimetype": "text/x-python",
   "name": "python",
   "nbconvert_exporter": "python",
   "pygments_lexer": "ipython3",
   "version": "3.6.7"
  }
 },
 "nbformat": 4,
 "nbformat_minor": 2
}
