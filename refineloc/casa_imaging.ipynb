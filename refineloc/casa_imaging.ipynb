{
 "cells": [
  {
   "cell_type": "code",
   "execution_count": null,
   "metadata": {},
   "outputs": [],
   "source": [
    "import numpy as np\n",
    "import pylab as plt\n",
    "import casatools as tools\n",
    "import os\n",
    "from casa_utils import applycal, makeimage, fitimage, getimage, findfrb, image_summary"
   ]
  },
  {
   "cell_type": "code",
   "execution_count": null,
   "metadata": {},
   "outputs": [],
   "source": [
    "msfile1 = 'file.ms'"
   ]
  },
  {
   "cell_type": "code",
   "execution_count": null,
   "metadata": {},
   "outputs": [],
   "source": [
    "calpath = '/path/to/cal/products/'\n",
    "prename  = 'name.ms.'"
   ]
  },
  {
   "cell_type": "code",
   "execution_count": null,
   "metadata": {
    "execution": {
     "iopub.execute_input": "2020-05-28T23:34:07.314Z",
     "iopub.status.busy": "2020-05-28T23:34:07.296Z",
     "iopub.status.idle": "2020-05-28T23:34:07.344Z",
     "shell.execute_reply": "2020-05-28T23:34:07.372Z"
    },
    "inputHidden": false,
    "outputHidden": false
   },
   "outputs": [],
   "source": [
    "msm = tools.msmetadata()\n",
    "msm.open(msfile1)\n",
    "fieldnames = msm.fieldnames()\n",
    "print(fieldnames)"
   ]
  },
  {
   "cell_type": "code",
   "execution_count": null,
   "metadata": {
    "execution": {
     "iopub.execute_input": "2020-05-28T23:34:07.314Z",
     "iopub.status.busy": "2020-05-28T23:34:07.296Z",
     "iopub.status.idle": "2020-05-28T23:34:07.344Z",
     "shell.execute_reply": "2020-05-28T23:34:07.372Z"
    },
    "inputHidden": false,
    "outputHidden": false
   },
   "outputs": [],
   "source": [
    "targetfield = str(fieldnames.index(fieldnames[0]))"
   ]
  },
  {
   "cell_type": "code",
   "execution_count": null,
   "metadata": {},
   "outputs": [],
   "source": [
    "caltables = ['hifv_priorcals.s5_2.gc.tbl',\n",
    "             'hifv_priorcals.s5_3.opac.tbl',\n",
    "             'hifv_priorcals.s5_4.rq.tbl',\n",
    "             'hifv_finalcals.s14_2.finaldelay.tbl',\n",
    "             'hifv_finalcals.s14_4.finalBPcal.tbl',\n",
    "             'hifv_finalcals.s14_5.averagephasegain.tbl',\n",
    "             'hifv_finalcals.s14_7.finalampgaincal.tbl',\n",
    "             'hifv_finalcals.s14_8.finalphasegaincal.tbl']"
   ]
  },
  {
   "cell_type": "code",
   "execution_count": null,
   "metadata": {},
   "outputs": [],
   "source": [
    "gaintables = [calpath + '/' + prename + caltable for caltable in caltables]"
   ]
  },
  {
   "cell_type": "markdown",
   "metadata": {},
   "source": [
    "## Calibrate fast SDM"
   ]
  },
  {
   "cell_type": "code",
   "execution_count": null,
   "metadata": {
    "inputHidden": false,
    "outputHidden": false
   },
   "outputs": [],
   "source": [
    "applycal(msfile1, gaintables, targetfield=targetfield,\n",
    "         gainfield=['', '', '', '', '', '', '', ''],\n",
    "         interp=['linear', 'linear', 'linear', 'linear', 'linear,linearflag', 'linear', 'linear', 'linear'])"
   ]
  },
  {
   "cell_type": "markdown",
   "metadata": {},
   "source": [
    "## Image fast SDM (CASA)"
   ]
  },
  {
   "cell_type": "code",
   "execution_count": null,
   "metadata": {},
   "outputs": [],
   "source": [
    "if msfile1[-1] == '/':\n",
    "    file = msfile1[:-1]\n",
    "else:\n",
    "    file = msfile1\n",
    "basename, ext = os.path.splitext(file)\n",
    "image_name = 'images_FRB_' + '_'.join(basename.split('_')[-2:])"
   ]
  },
  {
   "cell_type": "code",
   "execution_count": null,
   "metadata": {},
   "outputs": [],
   "source": [
    "name = image_name"
   ]
  },
  {
   "cell_type": "code",
   "execution_count": null,
   "metadata": {},
   "outputs": [],
   "source": [
    "fieldnames[0]"
   ]
  },
  {
   "cell_type": "code",
   "execution_count": null,
   "metadata": {
    "scrolled": true
   },
   "outputs": [],
   "source": [
    "snr = 0\n",
    "for i in range(2, 12):\n",
    "    for j in range(2, 12):\n",
    "        if j > i:\n",
    "            spws = str(i) + '~' + str(j)\n",
    "            snr_ret = findfrb(name, msfile1, fieldnames[0], spws, npix=2048)\n",
    "            if snr_ret > snr:\n",
    "                snr = snr_ret\n",
    "                sp = spws"
   ]
  },
  {
   "cell_type": "code",
   "execution_count": null,
   "metadata": {},
   "outputs": [],
   "source": [
    "print(snr, sp)"
   ]
  },
  {
   "cell_type": "code",
   "execution_count": null,
   "metadata": {},
   "outputs": [],
   "source": [
    "!rm -rf {name}*\n",
    "makeimage(msfile1, fieldnames[0], outname=name,  spw=sp, niter=100, cell=0.25, npix=4096)"
   ]
  },
  {
   "cell_type": "markdown",
   "metadata": {},
   "source": [
    "#### Make sure the rough peak position reported here is similar to the candidate position reported by rfpipe. If not, there might be a bright blob leading to this peak detection. Plot the image, select a part of it which contains the candidate (and not this blob) and use that in fitimage and findfrb. This can happen for weak candidates."
   ]
  },
  {
   "cell_type": "code",
   "execution_count": null,
   "metadata": {},
   "outputs": [],
   "source": [
    "imvals, _ , _ = image_summary(f'{name}.image')"
   ]
  },
  {
   "cell_type": "code",
   "execution_count": null,
   "metadata": {},
   "outputs": [],
   "source": [
    "imvals = getimage(f'{name}.image')\n",
    "npixx,npixy = imvals.shape"
   ]
  },
  {
   "cell_type": "code",
   "execution_count": null,
   "metadata": {},
   "outputs": [],
   "source": [
    "peakx, peaky = np.where(imvals.max() == imvals)\n",
    "peakx, peaky = peakx[0], peaky[0]\n",
    "print(peakx, peaky)"
   ]
  },
  {
   "cell_type": "code",
   "execution_count": null,
   "metadata": {},
   "outputs": [],
   "source": [
    "size =  800\n",
    "fig = plt.figure(figsize=(15,8))\n",
    "ax = fig.add_axes()\n",
    "plt.imshow(imvals[peakx-size//2:peakx+size//2, \n",
    "                 peaky-size//2:peaky+size//2].transpose(),\n",
    "          interpolation='nearest', origin='bottom')\n",
    "plt.colorbar()\n",
    "plt.xlabel(\"RA (pixels)\")\n",
    "plt.ylabel(\"Dec (pixels)\")"
   ]
  },
  {
   "cell_type": "code",
   "execution_count": null,
   "metadata": {
    "execution": {
     "iopub.execute_input": "2020-03-27T21:46:36.742Z",
     "iopub.status.busy": "2020-03-27T21:46:36.731Z",
     "iopub.status.idle": "2020-03-27T21:46:51.691Z",
     "shell.execute_reply": "2020-03-27T21:46:51.742Z"
    },
    "inputHidden": false,
    "outputHidden": false
   },
   "outputs": [],
   "source": [
    "az, el, az_err, el_err = fitimage(f'{name}.image', outname=f'{name}.', fitwindow=50)"
   ]
  }
 ],
 "metadata": {
  "kernel_info": {
   "name": "py36"
  },
  "kernelspec": {
   "display_name": "Python 3",
   "language": "python",
   "name": "python3"
  },
  "language_info": {
   "codemirror_mode": {
    "name": "ipython",
    "version": 3
   },
   "file_extension": ".py",
   "mimetype": "text/x-python",
   "name": "python",
   "nbconvert_exporter": "python",
   "pygments_lexer": "ipython3",
   "version": "3.6.7"
  },
  "nteract": {
   "version": "0.23.1"
  }
 },
 "nbformat": 4,
 "nbformat_minor": 1
}
